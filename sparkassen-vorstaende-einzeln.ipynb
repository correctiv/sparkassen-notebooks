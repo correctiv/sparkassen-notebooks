{
 "cells": [
  {
   "cell_type": "code",
   "execution_count": 1,
   "metadata": {
    "collapsed": true
   },
   "outputs": [],
   "source": [
    "import pandas as pd\n",
    "import matplotlib\n",
    "import matplotlib.pyplot as plt\n",
    "%matplotlib inline"
   ]
  },
  {
   "cell_type": "markdown",
   "metadata": {},
   "source": [
    "# Vorstände - Einzeldaten\n",
    "\n",
    "Tabelle mit konkreten Bezügen für Personen, die unterteilt sind in Grundgehalt und erfolgsabhängige Bezüge. Größtenteils für NRW. Dazu ausgewählte Sparkassen in Hessen und für andere Bundesländer"
   ]
  },
  {
   "cell_type": "code",
   "execution_count": 2,
   "metadata": {
    "collapsed": false
   },
   "outputs": [],
   "source": [
    "df = pd.read_csv('./data/jahresabschluss_vorstand.csv')\n",
    "df_kerndaten = pd.read_csv('./data/jahresabschluss_kerndaten.csv')"
   ]
  },
  {
   "cell_type": "markdown",
   "metadata": {},
   "source": [
    "## Wie hoch ist der Anteil erfolgsabhängiger Gehälter am Gesamtgehalt? "
   ]
  },
  {
   "cell_type": "markdown",
   "metadata": {},
   "source": [
    "Die erfolgsabhängigen Bezüge für einen Vorstand werden immer erst im nächsten Jahr ausgewiesen, daher gelten die Werte von `erfolgsabhaengige_bezuege` von 2014 für den Zeitraum von 2013, in dem diejenige Person im Vorstand war."
   ]
  },
  {
   "cell_type": "code",
   "execution_count": 3,
   "metadata": {
    "collapsed": false
   },
   "outputs": [],
   "source": [
    "# convert to date\n",
    "df.since = pd.to_datetime(df.since)\n",
    "df.until = pd.to_datetime(df.until)\n",
    "\n",
    "# set year\n",
    "df['year'] = df.until.map(lambda x: x.year)\n",
    "\n",
    "# get previous \"gesamtverguetung\"\n",
    "def get_salary(row):\n",
    "    if row.year == 2014:\n",
    "        lookup = df[(df.name == row['name']) & (df.year == 2013)]\n",
    "        if len(lookup) == 1:\n",
    "            return lookup.iloc[0].gesamtverguetung\n",
    "\n",
    "df['gesamtverguetung_2013'] = df.apply(get_salary, axis=1)\n",
    "\n",
    "# calculate quota\n",
    "df['bezuege_quote_zu_2013'] = df.erfolgsabhaengige_bezuege / df.gesamtverguetung_2013"
   ]
  },
  {
   "cell_type": "code",
   "execution_count": 4,
   "metadata": {
    "collapsed": false
   },
   "outputs": [
    {
     "data": {
      "text/plain": [
       "<matplotlib.axes._subplots.AxesSubplot at 0x7f39f7fbbcf8>"
      ]
     },
     "execution_count": 4,
     "metadata": {},
     "output_type": "execute_result"
    },
    {
     "data": {
      "image/png": "[encoded data removed]",
      "text/plain": [
       "<matplotlib.figure.Figure at 0x7f39f7fbb470>"
      ]
     },
     "metadata": {},
     "output_type": "display_data"
    }
   ],
   "source": [
    "df_bezuege_quota = df[(df.bezuege_quote_zu_2013 > 0) & (df.year == 2014)]\n",
    "df_bezuege_quota.bezuege_quote_zu_2013.plot.hist(bins=20)"
   ]
  },
  {
   "cell_type": "markdown",
   "metadata": {},
   "source": [
    "## Gibt es Anteile, die auffällig hoch sind?\n",
    "\n",
    "Empfehlung: nicht mehr als 15 %"
   ]
  },
  {
   "cell_type": "markdown",
   "metadata": {},
   "source": [
    "### Wie viele sind über der Verbandsempfehlung?"
   ]
  },
  {
   "cell_type": "code",
   "execution_count": 5,
   "metadata": {
    "collapsed": false
   },
   "outputs": [
    {
     "data": {
      "text/plain": [
       "19"
      ]
     },
     "execution_count": 5,
     "metadata": {},
     "output_type": "execute_result"
    }
   ],
   "source": [
    "len(df_bezuege_quota[df_bezuege_quota.bezuege_quote_zu_2013 > 0.15].index)"
   ]
  },
  {
   "cell_type": "code",
   "execution_count": 6,
   "metadata": {
    "collapsed": false
   },
   "outputs": [
    {
     "data": {
      "text/plain": [
       "<matplotlib.axes._subplots.AxesSubplot at 0x7f39f7f0e048>"
      ]
     },
     "execution_count": 6,
     "metadata": {},
     "output_type": "execute_result"
    },
    {
     "data": {
      "image/png": "[encoded data removed]",
      "text/plain": [
       "<matplotlib.figure.Figure at 0x7f39f5e9ab38>"
      ]
     },
     "metadata": {},
     "output_type": "display_data"
    }
   ],
   "source": [
    "df_bezuege_quota[df_bezuege_quota.bezuege_quote_zu_2013 > 0.15].bezuege_quote_zu_2013.plot.hist(bins=20)"
   ]
  },
  {
   "cell_type": "markdown",
   "metadata": {},
   "source": [
    "## Welche Sparkassen vergeben eine hohe Quote?\n",
    "\n",
    "Bzw. woran liegt das oder wie korrelieren andere Größen damit?"
   ]
  },
  {
   "cell_type": "code",
   "execution_count": 7,
   "metadata": {
    "collapsed": false
   },
   "outputs": [
    {
     "data": {
      "text/html": [
       "<div>\n",
       "<table border=\"1\" class=\"dataframe\">\n",
       "  <thead>\n",
       "    <tr style=\"text-align: right;\">\n",
       "      <th></th>\n",
       "      <th>sparkasse</th>\n",
       "      <th>gesamtverguetung_2013</th>\n",
       "      <th>erfolgsabhaengige_bezuege</th>\n",
       "      <th>bezuege_quote_zu_2013</th>\n",
       "    </tr>\n",
       "  </thead>\n",
       "  <tbody>\n",
       "    <tr>\n",
       "      <th>0</th>\n",
       "      <td>Frankfurter Sparkasse</td>\n",
       "      <td>2373000.0</td>\n",
       "      <td>900000.0</td>\n",
       "      <td>0.379267</td>\n",
       "    </tr>\n",
       "    <tr>\n",
       "      <th>28</th>\n",
       "      <td>Sparkasse KölnBonn</td>\n",
       "      <td>2234110.0</td>\n",
       "      <td>412600.0</td>\n",
       "      <td>0.184682</td>\n",
       "    </tr>\n",
       "    <tr>\n",
       "      <th>43</th>\n",
       "      <td>Stadt- und Kreissparkasse Darmstadt</td>\n",
       "      <td>1219000.0</td>\n",
       "      <td>195000.0</td>\n",
       "      <td>0.159967</td>\n",
       "    </tr>\n",
       "    <tr>\n",
       "      <th>22</th>\n",
       "      <td>Sparkasse Hanau</td>\n",
       "      <td>909000.0</td>\n",
       "      <td>142000.0</td>\n",
       "      <td>0.156216</td>\n",
       "    </tr>\n",
       "    <tr>\n",
       "      <th>12</th>\n",
       "      <td>Sparkasse Dieburg</td>\n",
       "      <td>709900.0</td>\n",
       "      <td>108900.0</td>\n",
       "      <td>0.153402</td>\n",
       "    </tr>\n",
       "    <tr>\n",
       "      <th>1</th>\n",
       "      <td>Kasseler Sparkasse</td>\n",
       "      <td>1187000.0</td>\n",
       "      <td>178000.0</td>\n",
       "      <td>0.149958</td>\n",
       "    </tr>\n",
       "    <tr>\n",
       "      <th>3</th>\n",
       "      <td>Kreissparkasse Groß-Gerau</td>\n",
       "      <td>1053000.0</td>\n",
       "      <td>154000.0</td>\n",
       "      <td>0.146249</td>\n",
       "    </tr>\n",
       "    <tr>\n",
       "      <th>17</th>\n",
       "      <td>Sparkasse Gießen</td>\n",
       "      <td>241000.0</td>\n",
       "      <td>35000.0</td>\n",
       "      <td>0.145228</td>\n",
       "    </tr>\n",
       "    <tr>\n",
       "      <th>58</th>\n",
       "      <td>Stadtsparkasse Schwalmstadt</td>\n",
       "      <td>278000.0</td>\n",
       "      <td>38000.0</td>\n",
       "      <td>0.136691</td>\n",
       "    </tr>\n",
       "    <tr>\n",
       "      <th>6</th>\n",
       "      <td>Kreissparkasse Limburg</td>\n",
       "      <td>410000.0</td>\n",
       "      <td>54000.0</td>\n",
       "      <td>0.131707</td>\n",
       "    </tr>\n",
       "  </tbody>\n",
       "</table>\n",
       "</div>"
      ],
      "text/plain": [
       "                              sparkasse  gesamtverguetung_2013  \\\n",
       "0                 Frankfurter Sparkasse              2373000.0   \n",
       "28                   Sparkasse KölnBonn              2234110.0   \n",
       "43  Stadt- und Kreissparkasse Darmstadt              1219000.0   \n",
       "22                      Sparkasse Hanau               909000.0   \n",
       "12                    Sparkasse Dieburg               709900.0   \n",
       "1                    Kasseler Sparkasse              1187000.0   \n",
       "3             Kreissparkasse Groß-Gerau              1053000.0   \n",
       "17                     Sparkasse Gießen               241000.0   \n",
       "58          Stadtsparkasse Schwalmstadt               278000.0   \n",
       "6                Kreissparkasse Limburg               410000.0   \n",
       "\n",
       "    erfolgsabhaengige_bezuege  bezuege_quote_zu_2013  \n",
       "0                    900000.0               0.379267  \n",
       "28                   412600.0               0.184682  \n",
       "43                   195000.0               0.159967  \n",
       "22                   142000.0               0.156216  \n",
       "12                   108900.0               0.153402  \n",
       "1                    178000.0               0.149958  \n",
       "3                    154000.0               0.146249  \n",
       "17                    35000.0               0.145228  \n",
       "58                    38000.0               0.136691  \n",
       "6                     54000.0               0.131707  "
      ]
     },
     "execution_count": 7,
     "metadata": {},
     "output_type": "execute_result"
    }
   ],
   "source": [
    "# groupy by sparkasse\n",
    "df_bezuege_group = df_bezuege_quota[\n",
    "    ['sparkasse', 'gesamtverguetung_2013', 'erfolgsabhaengige_bezuege']\n",
    "].groupby('sparkasse', as_index=False).sum()\n",
    "\n",
    "# merge with sparkassen kerndaten data\n",
    "df_spk = pd.merge(df_bezuege_group, df_kerndaten, on='sparkasse')\n",
    "\n",
    "# calculate overall quota\n",
    "df_spk['bezuege_quote_zu_2013'] = df_spk.erfolgsabhaengige_bezuege / df_spk.gesamtverguetung_2013\n",
    "\n",
    "# overview top 10\n",
    "df_spk.sort_values('bezuege_quote_zu_2013', ascending=False)[\n",
    "    ['sparkasse', 'gesamtverguetung_2013', 'erfolgsabhaengige_bezuege', 'bezuege_quote_zu_2013']\n",
    "][:10]"
   ]
  },
  {
   "cell_type": "code",
   "execution_count": 8,
   "metadata": {
    "collapsed": false
   },
   "outputs": [
    {
     "data": {
      "text/plain": [
       "<matplotlib.axes._subplots.AxesSubplot at 0x7f39f5e835c0>"
      ]
     },
     "execution_count": 8,
     "metadata": {},
     "output_type": "execute_result"
    },
    {
     "data": {
      "image/png": "[encoded data removed]",
      "text/plain": [
       "<matplotlib.figure.Figure at 0x7f39f5de87f0>"
      ]
     },
     "metadata": {},
     "output_type": "display_data"
    }
   ],
   "source": [
    "df_spk.bezuege_quote_zu_2013.plot.hist(bins=20)"
   ]
  },
  {
   "cell_type": "markdown",
   "metadata": {},
   "source": [
    "### Bemessungsgrundlage"
   ]
  },
  {
   "cell_type": "code",
   "execution_count": 9,
   "metadata": {
    "collapsed": false
   },
   "outputs": [
    {
     "data": {
      "text/plain": [
       "<matplotlib.axes._subplots.AxesSubplot at 0x7f39f5e5a1d0>"
      ]
     },
     "execution_count": 9,
     "metadata": {},
     "output_type": "execute_result"
    },
    {
     "data": {
      "image/png": "[encoded data removed]",
      "text/plain": [
       "<matplotlib.figure.Figure at 0x7f39f5d90cf8>"
      ]
     },
     "metadata": {},
     "output_type": "display_data"
    }
   ],
   "source": [
    "df_spk['bemessung'] = df_spk.bilanzsumme_2013 + df_spk.eigenkapital_2013*10\n",
    "df_spk.plot.scatter('bemessung', 'bezuege_quote_zu_2013')"
   ]
  },
  {
   "cell_type": "markdown",
   "metadata": {},
   "source": [
    "### Jahresüberschuss"
   ]
  },
  {
   "cell_type": "code",
   "execution_count": 10,
   "metadata": {
    "collapsed": false
   },
   "outputs": [
    {
     "data": {
      "text/plain": [
       "<matplotlib.axes._subplots.AxesSubplot at 0x7f39f5cb5ef0>"
      ]
     },
     "execution_count": 10,
     "metadata": {},
     "output_type": "execute_result"
    },
    {
     "data": {
      "image/png": "[encoded data removed]",
      "text/plain": [
       "<matplotlib.figure.Figure at 0x7f39f5d85978>"
      ]
     },
     "metadata": {},
     "output_type": "display_data"
    }
   ],
   "source": [
    "df_spk.plot.scatter('jahresueberschuss_2013', 'bezuege_quote_zu_2013')"
   ]
  },
  {
   "cell_type": "markdown",
   "metadata": {},
   "source": [
    "### Zinsüberschuss"
   ]
  },
  {
   "cell_type": "code",
   "execution_count": 11,
   "metadata": {
    "collapsed": false
   },
   "outputs": [
    {
     "data": {
      "text/plain": [
       "<matplotlib.axes._subplots.AxesSubplot at 0x7f39f5c5af60>"
      ]
     },
     "execution_count": 11,
     "metadata": {},
     "output_type": "execute_result"
    },
    {
     "data": {
      "image/png": "[encoded data removed]",
      "text/plain": [
       "<matplotlib.figure.Figure at 0x7f39f5c8e518>"
      ]
     },
     "metadata": {},
     "output_type": "display_data"
    }
   ],
   "source": [
    "df_spk.plot.scatter('zinsueberschuss_2013', 'bezuege_quote_zu_2013')"
   ]
  },
  {
   "cell_type": "markdown",
   "metadata": {},
   "source": [
    "## Wie unterscheidet sich diese Quote zwischen den Sparkassenverbänden?"
   ]
  },
  {
   "cell_type": "code",
   "execution_count": 12,
   "metadata": {
    "collapsed": false
   },
   "outputs": [
    {
     "data": {
      "text/html": [
       "<div>\n",
       "<table border=\"1\" class=\"dataframe\">\n",
       "  <thead>\n",
       "    <tr style=\"text-align: right;\">\n",
       "      <th></th>\n",
       "      <th>verband</th>\n",
       "      <th>gesamtverguetung_2013</th>\n",
       "      <th>erfolgsabhaengige_bezuege</th>\n",
       "      <th>anzahl_vorstaende_2013</th>\n",
       "      <th>verguetung_per_member</th>\n",
       "      <th>bezuege_per_member</th>\n",
       "      <th>per_member_quota</th>\n",
       "    </tr>\n",
       "  </thead>\n",
       "  <tbody>\n",
       "    <tr>\n",
       "      <th>0</th>\n",
       "      <td>RSGV</td>\n",
       "      <td>17147238.36</td>\n",
       "      <td>1901380.0</td>\n",
       "      <td>42.50</td>\n",
       "      <td>403464.432000</td>\n",
       "      <td>44738.352941</td>\n",
       "      <td>0.110885</td>\n",
       "    </tr>\n",
       "    <tr>\n",
       "      <th>1</th>\n",
       "      <td>SGVHT</td>\n",
       "      <td>12812900.00</td>\n",
       "      <td>2253900.0</td>\n",
       "      <td>43.90</td>\n",
       "      <td>291865.603645</td>\n",
       "      <td>51341.685649</td>\n",
       "      <td>0.175909</td>\n",
       "    </tr>\n",
       "    <tr>\n",
       "      <th>2</th>\n",
       "      <td>SVB</td>\n",
       "      <td>1779000.00</td>\n",
       "      <td>223319.0</td>\n",
       "      <td>5.30</td>\n",
       "      <td>335660.377358</td>\n",
       "      <td>42135.660377</td>\n",
       "      <td>0.125531</td>\n",
       "    </tr>\n",
       "    <tr>\n",
       "      <th>3</th>\n",
       "      <td>SVBW</td>\n",
       "      <td>247000.00</td>\n",
       "      <td>27000.0</td>\n",
       "      <td>3.00</td>\n",
       "      <td>82333.333333</td>\n",
       "      <td>9000.000000</td>\n",
       "      <td>0.109312</td>\n",
       "    </tr>\n",
       "    <tr>\n",
       "      <th>4</th>\n",
       "      <td>SVWL</td>\n",
       "      <td>24607300.00</td>\n",
       "      <td>2193900.0</td>\n",
       "      <td>78.81</td>\n",
       "      <td>312235.756884</td>\n",
       "      <td>27837.837838</td>\n",
       "      <td>0.089156</td>\n",
       "    </tr>\n",
       "  </tbody>\n",
       "</table>\n",
       "</div>"
      ],
      "text/plain": [
       "  verband  gesamtverguetung_2013  erfolgsabhaengige_bezuege  \\\n",
       "0    RSGV            17147238.36                  1901380.0   \n",
       "1   SGVHT            12812900.00                  2253900.0   \n",
       "2     SVB             1779000.00                   223319.0   \n",
       "3    SVBW              247000.00                    27000.0   \n",
       "4    SVWL            24607300.00                  2193900.0   \n",
       "\n",
       "   anzahl_vorstaende_2013  verguetung_per_member  bezuege_per_member  \\\n",
       "0                   42.50          403464.432000        44738.352941   \n",
       "1                   43.90          291865.603645        51341.685649   \n",
       "2                    5.30          335660.377358        42135.660377   \n",
       "3                    3.00           82333.333333         9000.000000   \n",
       "4                   78.81          312235.756884        27837.837838   \n",
       "\n",
       "   per_member_quota  \n",
       "0          0.110885  \n",
       "1          0.175909  \n",
       "2          0.125531  \n",
       "3          0.109312  \n",
       "4          0.089156  "
      ]
     },
     "execution_count": 12,
     "metadata": {},
     "output_type": "execute_result"
    }
   ],
   "source": [
    "df_asso_states = pd.merge(df_bezuege_group, \n",
    "                   df_kerndaten[['sparkasse', 'anzahl_vorstaende_2013', 'verband', 'state']],\n",
    "                   on='sparkasse')\n",
    "\n",
    "df_asso_group = df_asso_states.groupby('verband', as_index=False).sum()\n",
    "\n",
    "# get data per board member\n",
    "df_asso_group['verguetung_per_member'] = df_asso_group.gesamtverguetung_2013 / df_asso_group.anzahl_vorstaende_2013\n",
    "df_asso_group['bezuege_per_member'] = df_asso_group.erfolgsabhaengige_bezuege / df_asso_group.anzahl_vorstaende_2013\n",
    "df_asso_group['per_member_quota'] = df_asso_group.bezuege_per_member / df_asso_group.verguetung_per_member\n",
    "\n",
    "df_asso_group"
   ]
  },
  {
   "cell_type": "markdown",
   "metadata": {},
   "source": [
    "## Wie unterscheidet sich diese Quote zwischen den Bundesländern?"
   ]
  },
  {
   "cell_type": "code",
   "execution_count": 13,
   "metadata": {
    "collapsed": false
   },
   "outputs": [
    {
     "data": {
      "text/html": [
       "<div>\n",
       "<table border=\"1\" class=\"dataframe\">\n",
       "  <thead>\n",
       "    <tr style=\"text-align: right;\">\n",
       "      <th></th>\n",
       "      <th>state</th>\n",
       "      <th>gesamtverguetung_2013</th>\n",
       "      <th>erfolgsabhaengige_bezuege</th>\n",
       "      <th>anzahl_vorstaende_2013</th>\n",
       "      <th>verguetung_per_member</th>\n",
       "      <th>bezuege_per_member</th>\n",
       "      <th>per_member_quota</th>\n",
       "    </tr>\n",
       "  </thead>\n",
       "  <tbody>\n",
       "    <tr>\n",
       "      <th>0</th>\n",
       "      <td>Baden-Württemberg</td>\n",
       "      <td>247000.00</td>\n",
       "      <td>27000.0</td>\n",
       "      <td>3.00</td>\n",
       "      <td>82333.333333</td>\n",
       "      <td>9000.000000</td>\n",
       "      <td>0.109312</td>\n",
       "    </tr>\n",
       "    <tr>\n",
       "      <th>1</th>\n",
       "      <td>Bayern</td>\n",
       "      <td>1779000.00</td>\n",
       "      <td>223319.0</td>\n",
       "      <td>5.30</td>\n",
       "      <td>335660.377358</td>\n",
       "      <td>42135.660377</td>\n",
       "      <td>0.125531</td>\n",
       "    </tr>\n",
       "    <tr>\n",
       "      <th>2</th>\n",
       "      <td>Hessen</td>\n",
       "      <td>12812900.00</td>\n",
       "      <td>2253900.0</td>\n",
       "      <td>43.90</td>\n",
       "      <td>291865.603645</td>\n",
       "      <td>51341.685649</td>\n",
       "      <td>0.175909</td>\n",
       "    </tr>\n",
       "    <tr>\n",
       "      <th>3</th>\n",
       "      <td>Nordrhein-Westfalen</td>\n",
       "      <td>41754538.36</td>\n",
       "      <td>4095280.0</td>\n",
       "      <td>121.31</td>\n",
       "      <td>344197.002391</td>\n",
       "      <td>33758.799769</td>\n",
       "      <td>0.098080</td>\n",
       "    </tr>\n",
       "  </tbody>\n",
       "</table>\n",
       "</div>"
      ],
      "text/plain": [
       "                 state  gesamtverguetung_2013  erfolgsabhaengige_bezuege  \\\n",
       "0    Baden-Württemberg              247000.00                    27000.0   \n",
       "1               Bayern             1779000.00                   223319.0   \n",
       "2               Hessen            12812900.00                  2253900.0   \n",
       "3  Nordrhein-Westfalen            41754538.36                  4095280.0   \n",
       "\n",
       "   anzahl_vorstaende_2013  verguetung_per_member  bezuege_per_member  \\\n",
       "0                    3.00           82333.333333         9000.000000   \n",
       "1                    5.30          335660.377358        42135.660377   \n",
       "2                   43.90          291865.603645        51341.685649   \n",
       "3                  121.31          344197.002391        33758.799769   \n",
       "\n",
       "   per_member_quota  \n",
       "0          0.109312  \n",
       "1          0.125531  \n",
       "2          0.175909  \n",
       "3          0.098080  "
      ]
     },
     "execution_count": 13,
     "metadata": {},
     "output_type": "execute_result"
    }
   ],
   "source": [
    "df_state_group = df_asso_states.groupby('state', as_index=False).sum()\n",
    "\n",
    "# get data per board member\n",
    "df_state_group['verguetung_per_member'] = df_state_group.gesamtverguetung_2013 / df_state_group.anzahl_vorstaende_2013\n",
    "df_state_group['bezuege_per_member'] = df_state_group.erfolgsabhaengige_bezuege / df_state_group.anzahl_vorstaende_2013\n",
    "df_state_group['per_member_quota'] = df_state_group.bezuege_per_member / df_state_group.verguetung_per_member\n",
    "\n",
    "df_state_group"
   ]
  },
  {
   "cell_type": "markdown",
   "metadata": {},
   "source": [
    "## Wie viele Gehälter haben wir, die nicht NRW sind? \n",
    "\n",
    "Hat zum Beispiel in Hessen fast jeder Sparkassen die Gehälter veröffentlicht und es hat bislang noch kein Medium erkannt, weil sie es nicht offiziell gemacht haben? Hintergrund: Der Pressesprecher vom hessischen Verband meinte zu mir, dass mittlerweile seine Sparkassen die konkreten Bezüge veröffentlichen, weil jeder durch die Gesamtbezüge den Durchschnitt ausrechnen könnte und dann würden sie lieber das richtige konkrete Gehalt veröffentliht sehen."
   ]
  },
  {
   "cell_type": "code",
   "execution_count": 14,
   "metadata": {
    "collapsed": false
   },
   "outputs": [
    {
     "data": {
      "text/plain": [
       "Nordrhein-Westfalen       488\n",
       "Hessen                    151\n",
       "Niedersachsen             123\n",
       "Bayern                    122\n",
       "Baden-Württemberg         101\n",
       "Rheinland-Pfalz            63\n",
       "Thüringen                  43\n",
       "Brandenburg                37\n",
       "Schleswig-Holstein         36\n",
       "Sachsen-Anhalt             30\n",
       "Sachsen                    25\n",
       "Mecklenburg-Vorpommern     22\n",
       "Saarland                   20\n",
       "Berlin                     12\n",
       "Bremen                      8\n",
       "Hamburg                     5\n",
       "Name: state, dtype: int64"
      ]
     },
     "execution_count": 14,
     "metadata": {},
     "output_type": "execute_result"
    }
   ],
   "source": [
    "df_vorstand_asso = pd.merge(df, df_kerndaten, on='sparkasse')\n",
    "df_vorstand_asso.state.value_counts()"
   ]
  },
  {
   "cell_type": "code",
   "execution_count": 15,
   "metadata": {
    "collapsed": false
   },
   "outputs": [
    {
     "data": {
      "text/plain": [
       "<matplotlib.axes._subplots.AxesSubplot at 0x7f39f5c42898>"
      ]
     },
     "execution_count": 15,
     "metadata": {},
     "output_type": "execute_result"
    },
    {
     "data": {
      "image/png": "[encoded data removed]",
      "text/plain": [
       "<matplotlib.figure.Figure at 0x7f39f5c00390>"
      ]
     },
     "metadata": {},
     "output_type": "display_data"
    }
   ],
   "source": [
    "df_vorstand_asso.state.value_counts().plot.pie()"
   ]
  },
  {
   "cell_type": "code",
   "execution_count": 16,
   "metadata": {
    "collapsed": false
   },
   "outputs": [
    {
     "data": {
      "text/plain": [
       "(798, 66)"
      ]
     },
     "execution_count": 16,
     "metadata": {},
     "output_type": "execute_result"
    }
   ],
   "source": [
    "df_vorstand_asso[df_vorstand_asso.state != 'Nordrhein-Westfalen'].shape"
   ]
  },
  {
   "cell_type": "code",
   "execution_count": null,
   "metadata": {
    "collapsed": true
   },
   "outputs": [],
   "source": []
  }
 ],
 "metadata": {
  "kernelspec": {
   "display_name": "Python 3",
   "language": "python",
   "name": "python3"
  },
  "language_info": {
   "codemirror_mode": {
    "name": "ipython",
    "version": 3
   },
   "file_extension": ".py",
   "mimetype": "text/x-python",
   "name": "python",
   "nbconvert_exporter": "python",
   "pygments_lexer": "ipython3",
   "version": "3.5.1+"
  }
 },
 "nbformat": 4,
 "nbformat_minor": 0
}
