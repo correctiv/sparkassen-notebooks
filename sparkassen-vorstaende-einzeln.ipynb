{
 "cells": [
  {
   "cell_type": "code",
   "execution_count": 1,
   "metadata": {
    "collapsed": true
   },
   "outputs": [],
   "source": [
    "import pandas as pd\n",
    "import matplotlib\n",
    "import matplotlib.pyplot as plt\n",
    "%matplotlib inline"
   ]
  },
  {
   "cell_type": "markdown",
   "metadata": {},
   "source": [
    "# Vorstände - Einzeldaten\n",
    "\n",
    "Tabelle mit konkreten Bezügen für Personen, die unterteilt sind in Grundgehalt und erfolgsabhängige Bezüge. Größtenteils für NRW. Dazu ausgewählte Sparkassen in Hessen und für andere Bundesländer"
   ]
  },
  {
   "cell_type": "code",
   "execution_count": 2,
   "metadata": {
    "collapsed": false
   },
   "outputs": [],
   "source": [
    "df = pd.read_csv('./data/jahresabschluss_vorstand.csv')\n",
    "df_kerndaten = pd.read_csv('./data/jahresabschluss_kerndaten.csv')"
   ]
  },
  {
   "cell_type": "markdown",
   "metadata": {},
   "source": [
    "## Wie hoch ist der Anteil erfolgsabhängiger Gehälter am Gesamtgehalt? "
   ]
  },
  {
   "cell_type": "markdown",
   "metadata": {},
   "source": [
    "Die erfolgsabhängigen Bezüge für einen Vorstand werden immer erst im nächsten Jahr ausgewiesen, daher gelten die Werte von `erfolgsabhaengige_bezuege` von 2014 für den Zeitraum von 2013, in dem diejenige Person im Vorstand war."
   ]
  },
  {
   "cell_type": "code",
   "execution_count": 3,
   "metadata": {
    "collapsed": false
   },
   "outputs": [],
   "source": [
    "# convert to date\n",
    "df.since = pd.to_datetime(df.since)\n",
    "df.until = pd.to_datetime(df.until)\n",
    "\n",
    "# set year\n",
    "df['year'] = df.until.map(lambda x: x.year)\n",
    "\n",
    "# get \"feste_bezuege\" of year before\n",
    "def get_salary(row):\n",
    "    if row.year == 2014:\n",
    "        lookup = df[(df.name == row['name']) & (df.year == 2013)]\n",
    "        if len(lookup) == 1:\n",
    "            return lookup.iloc[0].feste_bezuege\n",
    "\n",
    "df['feste_bezuege_2013'] = df.apply(get_salary, axis=1)\n",
    "\n",
    "# calculate quota\n",
    "df['bezuege_quote_zu_2013'] = df.erfolgsabhaengige_bezuege / df.feste_bezuege_2013"
   ]
  },
  {
   "cell_type": "code",
   "execution_count": 4,
   "metadata": {
    "collapsed": false
   },
   "outputs": [
    {
     "data": {
      "text/plain": [
       "<matplotlib.axes._subplots.AxesSubplot at 0x7f89689fa630>"
      ]
     },
     "execution_count": 4,
     "metadata": {},
     "output_type": "execute_result"
    },
    {
     "data": {
      "image/png": "[encoded data removed]",
      "text/plain": [
       "<matplotlib.figure.Figure at 0x7f89689ebeb8>"
      ]
     },
     "metadata": {},
     "output_type": "display_data"
    }
   ],
   "source": [
    "df_bezuege_quota = df[(df.bezuege_quote_zu_2013 > 0) & (df.year == 2014)]\n",
    "df_bezuege_quota.bezuege_quote_zu_2013.plot.hist(bins=20)"
   ]
  },
  {
   "cell_type": "markdown",
   "metadata": {},
   "source": [
    "## Gibt es Anteile, die auffällig hoch sind?\n",
    "\n",
    "Empfehlung: nicht mehr als 15 %"
   ]
  },
  {
   "cell_type": "markdown",
   "metadata": {},
   "source": [
    "### Wie viele sind über der Verbandsempfehlung?"
   ]
  },
  {
   "cell_type": "code",
   "execution_count": 5,
   "metadata": {
    "collapsed": false
   },
   "outputs": [
    {
     "data": {
      "text/plain": [
       "39"
      ]
     },
     "execution_count": 5,
     "metadata": {},
     "output_type": "execute_result"
    }
   ],
   "source": [
    "len(df_bezuege_quota[df_bezuege_quota.bezuege_quote_zu_2013 > 0.15].index)"
   ]
  },
  {
   "cell_type": "code",
   "execution_count": 6,
   "metadata": {
    "collapsed": false
   },
   "outputs": [
    {
     "data": {
      "text/plain": [
       "<matplotlib.axes._subplots.AxesSubplot at 0x7f89668e6f98>"
      ]
     },
     "execution_count": 6,
     "metadata": {},
     "output_type": "execute_result"
    },
    {
     "data": {
      "image/png": "[encoded data removed]",
      "text/plain": [
       "<matplotlib.figure.Figure at 0x7f89668f3c88>"
      ]
     },
     "metadata": {},
     "output_type": "display_data"
    }
   ],
   "source": [
    "df_bezuege_quota[df_bezuege_quota.bezuege_quote_zu_2013 > 0.15].bezuege_quote_zu_2013.plot.hist(bins=20)"
   ]
  },
  {
   "cell_type": "markdown",
   "metadata": {},
   "source": [
    "### Wer kriegt am meisten Bonus?"
   ]
  },
  {
   "cell_type": "code",
   "execution_count": 7,
   "metadata": {
    "collapsed": false
   },
   "outputs": [
    {
     "data": {
      "text/html": [
       "<div>\n",
       "<table border=\"1\" class=\"dataframe\">\n",
       "  <thead>\n",
       "    <tr style=\"text-align: right;\">\n",
       "      <th></th>\n",
       "      <th>sparkasse</th>\n",
       "      <th>name</th>\n",
       "      <th>feste_bezuege</th>\n",
       "      <th>erfolgsabhaengige_bezuege</th>\n",
       "      <th>bezuege_quote_zu_2013</th>\n",
       "    </tr>\n",
       "  </thead>\n",
       "  <tbody>\n",
       "    <tr>\n",
       "      <th>683</th>\n",
       "      <td>Frankfurter Sparkasse</td>\n",
       "      <td>Herbert Hans Grüntker</td>\n",
       "      <td>452000.0</td>\n",
       "      <td>300000.0</td>\n",
       "      <td>0.678733</td>\n",
       "    </tr>\n",
       "    <tr>\n",
       "      <th>681</th>\n",
       "      <td>Frankfurter Sparkasse</td>\n",
       "      <td>Stephan Bruhn</td>\n",
       "      <td>368000.0</td>\n",
       "      <td>200000.0</td>\n",
       "      <td>0.561798</td>\n",
       "    </tr>\n",
       "    <tr>\n",
       "      <th>678</th>\n",
       "      <td>Frankfurter Sparkasse</td>\n",
       "      <td>Altfried M. Lütkenhaus</td>\n",
       "      <td>363000.0</td>\n",
       "      <td>200000.0</td>\n",
       "      <td>0.560224</td>\n",
       "    </tr>\n",
       "    <tr>\n",
       "      <th>682</th>\n",
       "      <td>Frankfurter Sparkasse</td>\n",
       "      <td>Arne Weick</td>\n",
       "      <td>369000.0</td>\n",
       "      <td>200000.0</td>\n",
       "      <td>0.550964</td>\n",
       "    </tr>\n",
       "    <tr>\n",
       "      <th>341</th>\n",
       "      <td>Sparkasse Leverkusen</td>\n",
       "      <td>Manfred Herpolsheimer</td>\n",
       "      <td>416600.0</td>\n",
       "      <td>103000.0</td>\n",
       "      <td>0.255266</td>\n",
       "    </tr>\n",
       "    <tr>\n",
       "      <th>692</th>\n",
       "      <td>Sparkasse KölnBonn</td>\n",
       "      <td>Artur Grzesiek</td>\n",
       "      <td>590600.0</td>\n",
       "      <td>137500.0</td>\n",
       "      <td>0.232814</td>\n",
       "    </tr>\n",
       "    <tr>\n",
       "      <th>247</th>\n",
       "      <td>Sparkasse Märkisches Sauerland Hemer-Menden</td>\n",
       "      <td>Dietmar Tacke</td>\n",
       "      <td>348000.0</td>\n",
       "      <td>62000.0</td>\n",
       "      <td>0.230483</td>\n",
       "    </tr>\n",
       "    <tr>\n",
       "      <th>690</th>\n",
       "      <td>Sparkasse KölnBonn</td>\n",
       "      <td>Ulrich Voigt</td>\n",
       "      <td>409500.0</td>\n",
       "      <td>91700.0</td>\n",
       "      <td>0.223932</td>\n",
       "    </tr>\n",
       "    <tr>\n",
       "      <th>689</th>\n",
       "      <td>Sparkasse KölnBonn</td>\n",
       "      <td>Dr. Joachim Schmalzl</td>\n",
       "      <td>409500.0</td>\n",
       "      <td>91700.0</td>\n",
       "      <td>0.223932</td>\n",
       "    </tr>\n",
       "    <tr>\n",
       "      <th>688</th>\n",
       "      <td>Sparkasse KölnBonn</td>\n",
       "      <td>Dr. Christoph Siemons</td>\n",
       "      <td>409500.0</td>\n",
       "      <td>91700.0</td>\n",
       "      <td>0.223932</td>\n",
       "    </tr>\n",
       "    <tr>\n",
       "      <th>69</th>\n",
       "      <td>Stadtsparkasse Haltern am See</td>\n",
       "      <td>Jutta Kuhn</td>\n",
       "      <td>112000.0</td>\n",
       "      <td>23000.0</td>\n",
       "      <td>0.203540</td>\n",
       "    </tr>\n",
       "    <tr>\n",
       "      <th>418</th>\n",
       "      <td>Sparkasse Starkenburg</td>\n",
       "      <td>Manfred Rheiner</td>\n",
       "      <td>245000.0</td>\n",
       "      <td>45000.0</td>\n",
       "      <td>0.192308</td>\n",
       "    </tr>\n",
       "    <tr>\n",
       "      <th>547</th>\n",
       "      <td>Stadt- und Kreissparkasse Darmstadt</td>\n",
       "      <td>Roman Scheidel</td>\n",
       "      <td>353000.0</td>\n",
       "      <td>65000.0</td>\n",
       "      <td>0.189504</td>\n",
       "    </tr>\n",
       "    <tr>\n",
       "      <th>549</th>\n",
       "      <td>Stadt- und Kreissparkasse Darmstadt</td>\n",
       "      <td>Georg Sellner</td>\n",
       "      <td>425000.0</td>\n",
       "      <td>78000.0</td>\n",
       "      <td>0.189320</td>\n",
       "    </tr>\n",
       "    <tr>\n",
       "      <th>537</th>\n",
       "      <td>Sparkasse Dieburg</td>\n",
       "      <td>Markus Euler</td>\n",
       "      <td>271400.0</td>\n",
       "      <td>49800.0</td>\n",
       "      <td>0.188851</td>\n",
       "    </tr>\n",
       "  </tbody>\n",
       "</table>\n",
       "</div>"
      ],
      "text/plain": [
       "                                       sparkasse                    name  \\\n",
       "683                        Frankfurter Sparkasse   Herbert Hans Grüntker   \n",
       "681                        Frankfurter Sparkasse           Stephan Bruhn   \n",
       "678                        Frankfurter Sparkasse  Altfried M. Lütkenhaus   \n",
       "682                        Frankfurter Sparkasse              Arne Weick   \n",
       "341                         Sparkasse Leverkusen   Manfred Herpolsheimer   \n",
       "692                           Sparkasse KölnBonn          Artur Grzesiek   \n",
       "247  Sparkasse Märkisches Sauerland Hemer-Menden           Dietmar Tacke   \n",
       "690                           Sparkasse KölnBonn            Ulrich Voigt   \n",
       "689                           Sparkasse KölnBonn    Dr. Joachim Schmalzl   \n",
       "688                           Sparkasse KölnBonn   Dr. Christoph Siemons   \n",
       "69                 Stadtsparkasse Haltern am See              Jutta Kuhn   \n",
       "418                        Sparkasse Starkenburg         Manfred Rheiner   \n",
       "547          Stadt- und Kreissparkasse Darmstadt          Roman Scheidel   \n",
       "549          Stadt- und Kreissparkasse Darmstadt           Georg Sellner   \n",
       "537                            Sparkasse Dieburg            Markus Euler   \n",
       "\n",
       "     feste_bezuege  erfolgsabhaengige_bezuege  bezuege_quote_zu_2013  \n",
       "683       452000.0                   300000.0               0.678733  \n",
       "681       368000.0                   200000.0               0.561798  \n",
       "678       363000.0                   200000.0               0.560224  \n",
       "682       369000.0                   200000.0               0.550964  \n",
       "341       416600.0                   103000.0               0.255266  \n",
       "692       590600.0                   137500.0               0.232814  \n",
       "247       348000.0                    62000.0               0.230483  \n",
       "690       409500.0                    91700.0               0.223932  \n",
       "689       409500.0                    91700.0               0.223932  \n",
       "688       409500.0                    91700.0               0.223932  \n",
       "69        112000.0                    23000.0               0.203540  \n",
       "418       245000.0                    45000.0               0.192308  \n",
       "547       353000.0                    65000.0               0.189504  \n",
       "549       425000.0                    78000.0               0.189320  \n",
       "537       271400.0                    49800.0               0.188851  "
      ]
     },
     "execution_count": 7,
     "metadata": {},
     "output_type": "execute_result"
    }
   ],
   "source": [
    "df_bezuege_quota[df_bezuege_quota.bezuege_quote_zu_2013 > 0.15].sort_values('bezuege_quote_zu_2013', ascending=False)[[\n",
    "        'sparkasse',\n",
    "        'name',\n",
    "        'feste_bezuege',\n",
    "        'erfolgsabhaengige_bezuege',\n",
    "        'bezuege_quote_zu_2013'\n",
    "    ]][:15]"
   ]
  },
  {
   "cell_type": "markdown",
   "metadata": {},
   "source": [
    "## Welche Sparkassen vergeben eine hohe Quote?"
   ]
  },
  {
   "cell_type": "code",
   "execution_count": 8,
   "metadata": {
    "collapsed": false
   },
   "outputs": [
    {
     "data": {
      "text/html": [
       "<div>\n",
       "<table border=\"1\" class=\"dataframe\">\n",
       "  <thead>\n",
       "    <tr style=\"text-align: right;\">\n",
       "      <th></th>\n",
       "      <th>sparkasse</th>\n",
       "      <th>feste_bezuege_2013</th>\n",
       "      <th>erfolgsabhaengige_bezuege</th>\n",
       "      <th>bezuege_quote_zu_2013</th>\n",
       "    </tr>\n",
       "  </thead>\n",
       "  <tbody>\n",
       "    <tr>\n",
       "      <th>0</th>\n",
       "      <td>Frankfurter Sparkasse</td>\n",
       "      <td>1518000.0</td>\n",
       "      <td>900000.0</td>\n",
       "      <td>0.592885</td>\n",
       "    </tr>\n",
       "    <tr>\n",
       "      <th>38</th>\n",
       "      <td>Sparkasse KölnBonn</td>\n",
       "      <td>1819100.0</td>\n",
       "      <td>412600.0</td>\n",
       "      <td>0.226815</td>\n",
       "    </tr>\n",
       "    <tr>\n",
       "      <th>60</th>\n",
       "      <td>Stadt- und Kreissparkasse Darmstadt</td>\n",
       "      <td>1031000.0</td>\n",
       "      <td>195000.0</td>\n",
       "      <td>0.189137</td>\n",
       "    </tr>\n",
       "    <tr>\n",
       "      <th>52</th>\n",
       "      <td>Sparkasse Starkenburg</td>\n",
       "      <td>490000.0</td>\n",
       "      <td>92000.0</td>\n",
       "      <td>0.187755</td>\n",
       "    </tr>\n",
       "    <tr>\n",
       "      <th>40</th>\n",
       "      <td>Sparkasse Leverkusen</td>\n",
       "      <td>964200.0</td>\n",
       "      <td>176700.0</td>\n",
       "      <td>0.183261</td>\n",
       "    </tr>\n",
       "    <tr>\n",
       "      <th>18</th>\n",
       "      <td>Sparkasse Dieburg</td>\n",
       "      <td>604000.0</td>\n",
       "      <td>108900.0</td>\n",
       "      <td>0.180298</td>\n",
       "    </tr>\n",
       "    <tr>\n",
       "      <th>32</th>\n",
       "      <td>Sparkasse Hanau</td>\n",
       "      <td>802000.0</td>\n",
       "      <td>142000.0</td>\n",
       "      <td>0.177057</td>\n",
       "    </tr>\n",
       "    <tr>\n",
       "      <th>43</th>\n",
       "      <td>Sparkasse Märkisches Sauerland Hemer-Menden</td>\n",
       "      <td>495000.0</td>\n",
       "      <td>87000.0</td>\n",
       "      <td>0.175758</td>\n",
       "    </tr>\n",
       "    <tr>\n",
       "      <th>25</th>\n",
       "      <td>Sparkasse Gießen</td>\n",
       "      <td>471000.0</td>\n",
       "      <td>82000.0</td>\n",
       "      <td>0.174098</td>\n",
       "    </tr>\n",
       "    <tr>\n",
       "      <th>1</th>\n",
       "      <td>Kasseler Sparkasse</td>\n",
       "      <td>1027000.0</td>\n",
       "      <td>178000.0</td>\n",
       "      <td>0.173320</td>\n",
       "    </tr>\n",
       "  </tbody>\n",
       "</table>\n",
       "</div>"
      ],
      "text/plain": [
       "                                      sparkasse  feste_bezuege_2013  \\\n",
       "0                         Frankfurter Sparkasse           1518000.0   \n",
       "38                           Sparkasse KölnBonn           1819100.0   \n",
       "60          Stadt- und Kreissparkasse Darmstadt           1031000.0   \n",
       "52                        Sparkasse Starkenburg            490000.0   \n",
       "40                         Sparkasse Leverkusen            964200.0   \n",
       "18                            Sparkasse Dieburg            604000.0   \n",
       "32                              Sparkasse Hanau            802000.0   \n",
       "43  Sparkasse Märkisches Sauerland Hemer-Menden            495000.0   \n",
       "25                             Sparkasse Gießen            471000.0   \n",
       "1                            Kasseler Sparkasse           1027000.0   \n",
       "\n",
       "    erfolgsabhaengige_bezuege  bezuege_quote_zu_2013  \n",
       "0                    900000.0               0.592885  \n",
       "38                   412600.0               0.226815  \n",
       "60                   195000.0               0.189137  \n",
       "52                    92000.0               0.187755  \n",
       "40                   176700.0               0.183261  \n",
       "18                   108900.0               0.180298  \n",
       "32                   142000.0               0.177057  \n",
       "43                    87000.0               0.175758  \n",
       "25                    82000.0               0.174098  \n",
       "1                    178000.0               0.173320  "
      ]
     },
     "execution_count": 8,
     "metadata": {},
     "output_type": "execute_result"
    }
   ],
   "source": [
    "# groupy by sparkasse\n",
    "df_bezuege_group = df_bezuege_quota[\n",
    "    ['sparkasse', 'feste_bezuege_2013', 'erfolgsabhaengige_bezuege']\n",
    "].groupby('sparkasse', as_index=False).sum()\n",
    "\n",
    "# merge with sparkassen kerndaten data\n",
    "df_spk = pd.merge(df_bezuege_group, df_kerndaten, on='sparkasse')\n",
    "\n",
    "# calculate overall quota\n",
    "df_spk['bezuege_quote_zu_2013'] = df_spk.erfolgsabhaengige_bezuege / df_spk.feste_bezuege_2013\n",
    "\n",
    "# overview top 10\n",
    "df_spk.sort_values('bezuege_quote_zu_2013', ascending=False)[\n",
    "    ['sparkasse', 'feste_bezuege_2013', 'erfolgsabhaengige_bezuege', 'bezuege_quote_zu_2013']\n",
    "][:10]"
   ]
  },
  {
   "cell_type": "code",
   "execution_count": 9,
   "metadata": {
    "collapsed": false
   },
   "outputs": [
    {
     "data": {
      "text/plain": [
       "<matplotlib.axes._subplots.AxesSubplot at 0x7f89668c5d30>"
      ]
     },
     "execution_count": 9,
     "metadata": {},
     "output_type": "execute_result"
    },
    {
     "data": {
      "image/png": "[encoded data removed]",
      "text/plain": [
       "<matplotlib.figure.Figure at 0x7f89668fb438>"
      ]
     },
     "metadata": {},
     "output_type": "display_data"
    }
   ],
   "source": [
    "df_spk.bezuege_quote_zu_2013.plot.hist(bins=20)"
   ]
  },
  {
   "cell_type": "markdown",
   "metadata": {},
   "source": [
    "## Wie unterscheidet sich diese Quote zwischen den Sparkassenverbänden?"
   ]
  },
  {
   "cell_type": "code",
   "execution_count": 10,
   "metadata": {
    "collapsed": false
   },
   "outputs": [
    {
     "data": {
      "text/html": [
       "<div>\n",
       "<table border=\"1\" class=\"dataframe\">\n",
       "  <thead>\n",
       "    <tr style=\"text-align: right;\">\n",
       "      <th></th>\n",
       "      <th>verband</th>\n",
       "      <th>feste_bezuege_2013</th>\n",
       "      <th>erfolgsabhaengige_bezuege</th>\n",
       "      <th>anzahl_vorstaende_2013</th>\n",
       "      <th>verguetung_per_member</th>\n",
       "      <th>bezuege_per_member</th>\n",
       "      <th>per_member_quota</th>\n",
       "    </tr>\n",
       "  </thead>\n",
       "  <tbody>\n",
       "    <tr>\n",
       "      <th>0</th>\n",
       "      <td>RSGV</td>\n",
       "      <td>18855427.0</td>\n",
       "      <td>2350180.0</td>\n",
       "      <td>57.50</td>\n",
       "      <td>327920.469565</td>\n",
       "      <td>40872.695652</td>\n",
       "      <td>0.124642</td>\n",
       "    </tr>\n",
       "    <tr>\n",
       "      <th>1</th>\n",
       "      <td>SGVHT</td>\n",
       "      <td>14026000.0</td>\n",
       "      <td>2783900.0</td>\n",
       "      <td>57.90</td>\n",
       "      <td>242245.250432</td>\n",
       "      <td>48081.174439</td>\n",
       "      <td>0.198481</td>\n",
       "    </tr>\n",
       "    <tr>\n",
       "      <th>2</th>\n",
       "      <td>SVB</td>\n",
       "      <td>1610168.0</td>\n",
       "      <td>223319.0</td>\n",
       "      <td>5.30</td>\n",
       "      <td>303805.283019</td>\n",
       "      <td>42135.660377</td>\n",
       "      <td>0.138693</td>\n",
       "    </tr>\n",
       "    <tr>\n",
       "      <th>3</th>\n",
       "      <td>SVWL</td>\n",
       "      <td>29187700.0</td>\n",
       "      <td>3030400.0</td>\n",
       "      <td>109.81</td>\n",
       "      <td>265801.839541</td>\n",
       "      <td>27596.758037</td>\n",
       "      <td>0.103825</td>\n",
       "    </tr>\n",
       "  </tbody>\n",
       "</table>\n",
       "</div>"
      ],
      "text/plain": [
       "  verband  feste_bezuege_2013  erfolgsabhaengige_bezuege  \\\n",
       "0    RSGV          18855427.0                  2350180.0   \n",
       "1   SGVHT          14026000.0                  2783900.0   \n",
       "2     SVB           1610168.0                   223319.0   \n",
       "3    SVWL          29187700.0                  3030400.0   \n",
       "\n",
       "   anzahl_vorstaende_2013  verguetung_per_member  bezuege_per_member  \\\n",
       "0                   57.50          327920.469565        40872.695652   \n",
       "1                   57.90          242245.250432        48081.174439   \n",
       "2                    5.30          303805.283019        42135.660377   \n",
       "3                  109.81          265801.839541        27596.758037   \n",
       "\n",
       "   per_member_quota  \n",
       "0          0.124642  \n",
       "1          0.198481  \n",
       "2          0.138693  \n",
       "3          0.103825  "
      ]
     },
     "execution_count": 10,
     "metadata": {},
     "output_type": "execute_result"
    }
   ],
   "source": [
    "df_asso_states = pd.merge(df_bezuege_group, \n",
    "                   df_kerndaten[['sparkasse', 'anzahl_vorstaende_2013', 'verband', 'state']],\n",
    "                   on='sparkasse')\n",
    "\n",
    "df_asso_group = df_asso_states.groupby('verband', as_index=False).sum()\n",
    "\n",
    "# get data per board member\n",
    "df_asso_group['verguetung_per_member'] = df_asso_group.feste_bezuege_2013 / df_asso_group.anzahl_vorstaende_2013\n",
    "df_asso_group['bezuege_per_member'] = df_asso_group.erfolgsabhaengige_bezuege / df_asso_group.anzahl_vorstaende_2013\n",
    "df_asso_group['per_member_quota'] = df_asso_group.bezuege_per_member / df_asso_group.verguetung_per_member\n",
    "\n",
    "df_asso_group"
   ]
  },
  {
   "cell_type": "markdown",
   "metadata": {},
   "source": [
    "## Wie unterscheidet sich diese Quote zwischen den Bundesländern?"
   ]
  },
  {
   "cell_type": "code",
   "execution_count": 11,
   "metadata": {
    "collapsed": false
   },
   "outputs": [
    {
     "data": {
      "text/html": [
       "<div>\n",
       "<table border=\"1\" class=\"dataframe\">\n",
       "  <thead>\n",
       "    <tr style=\"text-align: right;\">\n",
       "      <th></th>\n",
       "      <th>state</th>\n",
       "      <th>feste_bezuege_2013</th>\n",
       "      <th>erfolgsabhaengige_bezuege</th>\n",
       "      <th>anzahl_vorstaende_2013</th>\n",
       "      <th>verguetung_per_member</th>\n",
       "      <th>bezuege_per_member</th>\n",
       "      <th>per_member_quota</th>\n",
       "    </tr>\n",
       "  </thead>\n",
       "  <tbody>\n",
       "    <tr>\n",
       "      <th>0</th>\n",
       "      <td>Bayern</td>\n",
       "      <td>1610168.0</td>\n",
       "      <td>223319.0</td>\n",
       "      <td>5.30</td>\n",
       "      <td>303805.283019</td>\n",
       "      <td>42135.660377</td>\n",
       "      <td>0.138693</td>\n",
       "    </tr>\n",
       "    <tr>\n",
       "      <th>1</th>\n",
       "      <td>Hessen</td>\n",
       "      <td>14026000.0</td>\n",
       "      <td>2783900.0</td>\n",
       "      <td>57.90</td>\n",
       "      <td>242245.250432</td>\n",
       "      <td>48081.174439</td>\n",
       "      <td>0.198481</td>\n",
       "    </tr>\n",
       "    <tr>\n",
       "      <th>2</th>\n",
       "      <td>Nordrhein-Westfalen</td>\n",
       "      <td>48043127.0</td>\n",
       "      <td>5380580.0</td>\n",
       "      <td>167.31</td>\n",
       "      <td>287150.361604</td>\n",
       "      <td>32159.344929</td>\n",
       "      <td>0.111995</td>\n",
       "    </tr>\n",
       "  </tbody>\n",
       "</table>\n",
       "</div>"
      ],
      "text/plain": [
       "                 state  feste_bezuege_2013  erfolgsabhaengige_bezuege  \\\n",
       "0               Bayern           1610168.0                   223319.0   \n",
       "1               Hessen          14026000.0                  2783900.0   \n",
       "2  Nordrhein-Westfalen          48043127.0                  5380580.0   \n",
       "\n",
       "   anzahl_vorstaende_2013  verguetung_per_member  bezuege_per_member  \\\n",
       "0                    5.30          303805.283019        42135.660377   \n",
       "1                   57.90          242245.250432        48081.174439   \n",
       "2                  167.31          287150.361604        32159.344929   \n",
       "\n",
       "   per_member_quota  \n",
       "0          0.138693  \n",
       "1          0.198481  \n",
       "2          0.111995  "
      ]
     },
     "execution_count": 11,
     "metadata": {},
     "output_type": "execute_result"
    }
   ],
   "source": [
    "df_state_group = df_asso_states.groupby('state', as_index=False).sum()\n",
    "\n",
    "# get data per board member\n",
    "df_state_group['verguetung_per_member'] = df_state_group.feste_bezuege_2013 / df_state_group.anzahl_vorstaende_2013\n",
    "df_state_group['bezuege_per_member'] = df_state_group.erfolgsabhaengige_bezuege / df_state_group.anzahl_vorstaende_2013\n",
    "df_state_group['per_member_quota'] = df_state_group.bezuege_per_member / df_state_group.verguetung_per_member\n",
    "\n",
    "df_state_group"
   ]
  }
 ],
 "metadata": {
  "kernelspec": {
   "display_name": "Python 3",
   "language": "python",
   "name": "python3"
  },
  "language_info": {
   "codemirror_mode": {
    "name": "ipython",
    "version": 3
   },
   "file_extension": ".py",
   "mimetype": "text/x-python",
   "name": "python",
   "nbconvert_exporter": "python",
   "pygments_lexer": "ipython3",
   "version": "3.5.1+"
  }
 },
 "nbformat": 4,
 "nbformat_minor": 0
}
