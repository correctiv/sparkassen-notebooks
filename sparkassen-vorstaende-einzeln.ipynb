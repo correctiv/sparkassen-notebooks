{
 "cells": [
  {
   "cell_type": "code",
   "execution_count": 1,
   "metadata": {
    "collapsed": true
   },
   "outputs": [],
   "source": [
    "import pandas as pd\n",
    "import matplotlib\n",
    "import matplotlib.pyplot as plt\n",
    "%matplotlib inline"
   ]
  },
  {
   "cell_type": "markdown",
   "metadata": {},
   "source": [
    "# Vorstände - Einzeldaten\n",
    "\n",
    "Tabelle mit konkreten Bezügen für Personen, die unterteilt sind in Grundgehalt und erfolgsabhängige Bezüge. Größtenteils für NRW. Dazu ausgewählte Sparkassen in Hessen und für andere Bundesländer"
   ]
  },
  {
   "cell_type": "code",
   "execution_count": 2,
   "metadata": {
    "collapsed": false
   },
   "outputs": [],
   "source": [
    "df = pd.read_csv('./data/jahresabschluss_vorstand.csv')\n",
    "df_kerndaten = pd.read_csv('./data/jahresabschluss_kerndaten.csv')"
   ]
  },
  {
   "cell_type": "markdown",
   "metadata": {},
   "source": [
    "## Wie hoch ist der Anteil erfolgsabhängiger Gehälter am Gesamtgehalt? "
   ]
  },
  {
   "cell_type": "markdown",
   "metadata": {},
   "source": [
    "Die erfolgsabhängigen Bezüge für einen Vorstand werden immer erst im nächsten Jahr ausgewiesen, daher gelten die Werte von `erfolgsabhaengige_bezuege` von 2014 für den Zeitraum von 2013, in dem diejenige Person im Vorstand war."
   ]
  },
  {
   "cell_type": "code",
   "execution_count": 3,
   "metadata": {
    "collapsed": false
   },
   "outputs": [],
   "source": [
    "# convert to date\n",
    "df.since = pd.to_datetime(df.since)\n",
    "df.until = pd.to_datetime(df.until)\n",
    "\n",
    "# set year\n",
    "df['year'] = df.until.map(lambda x: x.year)\n",
    "\n",
    "# get previous \"gesamtverguetung\"\n",
    "def get_salary(row):\n",
    "    if row.year == 2014:\n",
    "        lookup = df[(df.name == row['name']) & (df.year == 2013)]\n",
    "        if len(lookup) == 1:\n",
    "            return lookup.iloc[0].gesamtverguetung\n",
    "\n",
    "df['gesamtverguetung_2013'] = df.apply(get_salary, axis=1)\n",
    "\n",
    "# calculate quota\n",
    "df['bezuege_quote_zu_2013'] = df.erfolgsabhaengige_bezuege / df.gesamtverguetung_2013"
   ]
  },
  {
   "cell_type": "code",
   "execution_count": 4,
   "metadata": {
    "collapsed": false
   },
   "outputs": [
    {
     "data": {
      "text/plain": [
       "<matplotlib.axes._subplots.AxesSubplot at 0x7f15bec39c18>"
      ]
     },
     "execution_count": 4,
     "metadata": {},
     "output_type": "execute_result"
    },
    {
     "data": {
      "image/png": "[encoded data removed]",
      "text/plain": [
       "<matplotlib.figure.Figure at 0x7f15bec392b0>"
      ]
     },
     "metadata": {},
     "output_type": "display_data"
    }
   ],
   "source": [
    "df_bezuege_quota = df[(df.bezuege_quote_zu_2013 > 0) & (df.year == 2014)]\n",
    "df_bezuege_quota.bezuege_quote_zu_2013.plot.hist(bins=20)"
   ]
  },
  {
   "cell_type": "markdown",
   "metadata": {},
   "source": [
    "## Gibt es Anteile, die auffällig hoch sind?\n",
    "\n",
    "Empfehlung: nicht mehr als 15 %"
   ]
  },
  {
   "cell_type": "markdown",
   "metadata": {},
   "source": [
    "### Wie viele sind über der Verbandsempfehlung?"
   ]
  },
  {
   "cell_type": "code",
   "execution_count": 5,
   "metadata": {
    "collapsed": false
   },
   "outputs": [
    {
     "data": {
      "text/plain": [
       "27"
      ]
     },
     "execution_count": 5,
     "metadata": {},
     "output_type": "execute_result"
    }
   ],
   "source": [
    "len(df_bezuege_quota[df_bezuege_quota.bezuege_quote_zu_2013 > 0.15].index)"
   ]
  },
  {
   "cell_type": "code",
   "execution_count": 6,
   "metadata": {
    "collapsed": false
   },
   "outputs": [
    {
     "data": {
      "text/plain": [
       "<matplotlib.axes._subplots.AxesSubplot at 0x7f15beb59240>"
      ]
     },
     "execution_count": 6,
     "metadata": {},
     "output_type": "execute_result"
    },
    {
     "data": {
      "image/png": "[encoded data removed]",
      "text/plain": [
       "<matplotlib.figure.Figure at 0x7f15bcb370f0>"
      ]
     },
     "metadata": {},
     "output_type": "display_data"
    }
   ],
   "source": [
    "df_bezuege_quota[df_bezuege_quota.bezuege_quote_zu_2013 > 0.15].bezuege_quote_zu_2013.plot.hist(bins=20)"
   ]
  },
  {
   "cell_type": "markdown",
   "metadata": {},
   "source": [
    "## Welche Sparkassen vergeben eine hohe Quote?\n",
    "\n",
    "Bzw. woran liegt das oder wie korrelieren andere Größen damit?"
   ]
  },
  {
   "cell_type": "code",
   "execution_count": 7,
   "metadata": {
    "collapsed": false
   },
   "outputs": [
    {
     "data": {
      "text/html": [
       "<div>\n",
       "<table border=\"1\" class=\"dataframe\">\n",
       "  <thead>\n",
       "    <tr style=\"text-align: right;\">\n",
       "      <th></th>\n",
       "      <th>sparkasse</th>\n",
       "      <th>gesamtverguetung_2013</th>\n",
       "      <th>erfolgsabhaengige_bezuege</th>\n",
       "      <th>bezuege_quote_zu_2013</th>\n",
       "    </tr>\n",
       "  </thead>\n",
       "  <tbody>\n",
       "    <tr>\n",
       "      <th>0</th>\n",
       "      <td>Frankfurter Sparkasse</td>\n",
       "      <td>2373000.0</td>\n",
       "      <td>900000.0</td>\n",
       "      <td>0.379267</td>\n",
       "    </tr>\n",
       "    <tr>\n",
       "      <th>44</th>\n",
       "      <td>Sparkasse Märkisches Sauerland Hemer-Menden</td>\n",
       "      <td>358000.0</td>\n",
       "      <td>87000.0</td>\n",
       "      <td>0.243017</td>\n",
       "    </tr>\n",
       "    <tr>\n",
       "      <th>38</th>\n",
       "      <td>Sparkasse KölnBonn</td>\n",
       "      <td>2234110.0</td>\n",
       "      <td>412600.0</td>\n",
       "      <td>0.184682</td>\n",
       "    </tr>\n",
       "    <tr>\n",
       "      <th>61</th>\n",
       "      <td>Stadt- und Kreissparkasse Darmstadt</td>\n",
       "      <td>1219000.0</td>\n",
       "      <td>195000.0</td>\n",
       "      <td>0.159967</td>\n",
       "    </tr>\n",
       "    <tr>\n",
       "      <th>53</th>\n",
       "      <td>Sparkasse Starkenburg</td>\n",
       "      <td>580000.0</td>\n",
       "      <td>92000.0</td>\n",
       "      <td>0.158621</td>\n",
       "    </tr>\n",
       "    <tr>\n",
       "      <th>32</th>\n",
       "      <td>Sparkasse Hanau</td>\n",
       "      <td>909000.0</td>\n",
       "      <td>142000.0</td>\n",
       "      <td>0.156216</td>\n",
       "    </tr>\n",
       "    <tr>\n",
       "      <th>25</th>\n",
       "      <td>Sparkasse Gießen</td>\n",
       "      <td>530000.0</td>\n",
       "      <td>82000.0</td>\n",
       "      <td>0.154717</td>\n",
       "    </tr>\n",
       "    <tr>\n",
       "      <th>40</th>\n",
       "      <td>Sparkasse Leverkusen</td>\n",
       "      <td>1142600.0</td>\n",
       "      <td>176700.0</td>\n",
       "      <td>0.154647</td>\n",
       "    </tr>\n",
       "    <tr>\n",
       "      <th>18</th>\n",
       "      <td>Sparkasse Dieburg</td>\n",
       "      <td>709900.0</td>\n",
       "      <td>108900.0</td>\n",
       "      <td>0.153402</td>\n",
       "    </tr>\n",
       "    <tr>\n",
       "      <th>1</th>\n",
       "      <td>Kasseler Sparkasse</td>\n",
       "      <td>1187000.0</td>\n",
       "      <td>178000.0</td>\n",
       "      <td>0.149958</td>\n",
       "    </tr>\n",
       "  </tbody>\n",
       "</table>\n",
       "</div>"
      ],
      "text/plain": [
       "                                      sparkasse  gesamtverguetung_2013  \\\n",
       "0                         Frankfurter Sparkasse              2373000.0   \n",
       "44  Sparkasse Märkisches Sauerland Hemer-Menden               358000.0   \n",
       "38                           Sparkasse KölnBonn              2234110.0   \n",
       "61          Stadt- und Kreissparkasse Darmstadt              1219000.0   \n",
       "53                        Sparkasse Starkenburg               580000.0   \n",
       "32                              Sparkasse Hanau               909000.0   \n",
       "25                             Sparkasse Gießen               530000.0   \n",
       "40                         Sparkasse Leverkusen              1142600.0   \n",
       "18                            Sparkasse Dieburg               709900.0   \n",
       "1                            Kasseler Sparkasse              1187000.0   \n",
       "\n",
       "    erfolgsabhaengige_bezuege  bezuege_quote_zu_2013  \n",
       "0                    900000.0               0.379267  \n",
       "44                    87000.0               0.243017  \n",
       "38                   412600.0               0.184682  \n",
       "61                   195000.0               0.159967  \n",
       "53                    92000.0               0.158621  \n",
       "32                   142000.0               0.156216  \n",
       "25                    82000.0               0.154717  \n",
       "40                   176700.0               0.154647  \n",
       "18                   108900.0               0.153402  \n",
       "1                    178000.0               0.149958  "
      ]
     },
     "execution_count": 7,
     "metadata": {},
     "output_type": "execute_result"
    }
   ],
   "source": [
    "# groupy by sparkasse\n",
    "df_bezuege_group = df_bezuege_quota[\n",
    "    ['sparkasse', 'gesamtverguetung_2013', 'erfolgsabhaengige_bezuege']\n",
    "].groupby('sparkasse', as_index=False).sum()\n",
    "\n",
    "# merge with sparkassen kerndaten data\n",
    "df_spk = pd.merge(df_bezuege_group, df_kerndaten, on='sparkasse')\n",
    "\n",
    "# calculate overall quota\n",
    "df_spk['bezuege_quote_zu_2013'] = df_spk.erfolgsabhaengige_bezuege / df_spk.gesamtverguetung_2013\n",
    "\n",
    "# overview top 10\n",
    "df_spk.sort_values('bezuege_quote_zu_2013', ascending=False)[\n",
    "    ['sparkasse', 'gesamtverguetung_2013', 'erfolgsabhaengige_bezuege', 'bezuege_quote_zu_2013']\n",
    "][:10]"
   ]
  },
  {
   "cell_type": "code",
   "execution_count": 8,
   "metadata": {
    "collapsed": false
   },
   "outputs": [
    {
     "data": {
      "text/plain": [
       "<matplotlib.axes._subplots.AxesSubplot at 0x7f15bca70470>"
      ]
     },
     "execution_count": 8,
     "metadata": {},
     "output_type": "execute_result"
    },
    {
     "data": {
      "image/png": "[encoded data removed]",
      "text/plain": [
       "<matplotlib.figure.Figure at 0x7f15bca566d8>"
      ]
     },
     "metadata": {},
     "output_type": "display_data"
    }
   ],
   "source": [
    "df_spk.bezuege_quote_zu_2013.plot.hist(bins=20)"
   ]
  },
  {
   "cell_type": "markdown",
   "metadata": {},
   "source": [
    "### Bemessungsgrundlage"
   ]
  },
  {
   "cell_type": "code",
   "execution_count": 9,
   "metadata": {
    "collapsed": false
   },
   "outputs": [
    {
     "data": {
      "text/plain": [
       "<matplotlib.axes._subplots.AxesSubplot at 0x7f15bec2dda0>"
      ]
     },
     "execution_count": 9,
     "metadata": {},
     "output_type": "execute_result"
    },
    {
     "data": {
      "image/png": "[encoded data removed]",
      "text/plain": [
       "<matplotlib.figure.Figure at 0x7f15bc9bd8d0>"
      ]
     },
     "metadata": {},
     "output_type": "display_data"
    }
   ],
   "source": [
    "df_spk['bemessung'] = df_spk.bilanzsumme_2013 + df_spk.eigenkapital_2013*10\n",
    "df_spk.plot.scatter('bemessung', 'bezuege_quote_zu_2013')"
   ]
  },
  {
   "cell_type": "markdown",
   "metadata": {},
   "source": [
    "### Jahresüberschuss"
   ]
  },
  {
   "cell_type": "code",
   "execution_count": 10,
   "metadata": {
    "collapsed": false
   },
   "outputs": [
    {
     "data": {
      "text/plain": [
       "<matplotlib.axes._subplots.AxesSubplot at 0x7f15bc985780>"
      ]
     },
     "execution_count": 10,
     "metadata": {},
     "output_type": "execute_result"
    },
    {
     "data": {
      "image/png": "[encoded data removed]",
      "text/plain": [
       "<matplotlib.figure.Figure at 0x7f15bc94d2b0>"
      ]
     },
     "metadata": {},
     "output_type": "display_data"
    }
   ],
   "source": [
    "df_spk.plot.scatter('jahresueberschuss_2013', 'bezuege_quote_zu_2013')"
   ]
  },
  {
   "cell_type": "markdown",
   "metadata": {},
   "source": [
    "### Zinsüberschuss"
   ]
  },
  {
   "cell_type": "code",
   "execution_count": 11,
   "metadata": {
    "collapsed": false
   },
   "outputs": [
    {
     "data": {
      "text/plain": [
       "<matplotlib.axes._subplots.AxesSubplot at 0x7f15bc8e5208>"
      ]
     },
     "execution_count": 11,
     "metadata": {},
     "output_type": "execute_result"
    },
    {
     "data": {
      "image/png": "[encoded data removed]",
      "text/plain": [
       "<matplotlib.figure.Figure at 0x7f15bec4f978>"
      ]
     },
     "metadata": {},
     "output_type": "display_data"
    }
   ],
   "source": [
    "df_spk.plot.scatter('zinsueberschuss_2013', 'bezuege_quote_zu_2013')"
   ]
  },
  {
   "cell_type": "markdown",
   "metadata": {},
   "source": [
    "## Wie unterscheidet sich diese Quote zwischen den Sparkassenverbänden?"
   ]
  },
  {
   "cell_type": "code",
   "execution_count": 12,
   "metadata": {
    "collapsed": false
   },
   "outputs": [
    {
     "data": {
      "text/html": [
       "<div>\n",
       "<table border=\"1\" class=\"dataframe\">\n",
       "  <thead>\n",
       "    <tr style=\"text-align: right;\">\n",
       "      <th></th>\n",
       "      <th>verband</th>\n",
       "      <th>gesamtverguetung_2013</th>\n",
       "      <th>erfolgsabhaengige_bezuege</th>\n",
       "      <th>anzahl_vorstaende_2013</th>\n",
       "      <th>verguetung_per_member</th>\n",
       "      <th>bezuege_per_member</th>\n",
       "      <th>per_member_quota</th>\n",
       "    </tr>\n",
       "  </thead>\n",
       "  <tbody>\n",
       "    <tr>\n",
       "      <th>0</th>\n",
       "      <td>RSGV</td>\n",
       "      <td>21239938.36</td>\n",
       "      <td>2311180.0</td>\n",
       "      <td>57.50</td>\n",
       "      <td>369390.232348</td>\n",
       "      <td>40194.434783</td>\n",
       "      <td>0.108813</td>\n",
       "    </tr>\n",
       "    <tr>\n",
       "      <th>1</th>\n",
       "      <td>SGVHT</td>\n",
       "      <td>16880900.00</td>\n",
       "      <td>2783900.0</td>\n",
       "      <td>57.90</td>\n",
       "      <td>291552.677029</td>\n",
       "      <td>48081.174439</td>\n",
       "      <td>0.164914</td>\n",
       "    </tr>\n",
       "    <tr>\n",
       "      <th>2</th>\n",
       "      <td>SVB</td>\n",
       "      <td>1779000.00</td>\n",
       "      <td>223319.0</td>\n",
       "      <td>5.30</td>\n",
       "      <td>335660.377358</td>\n",
       "      <td>42135.660377</td>\n",
       "      <td>0.125531</td>\n",
       "    </tr>\n",
       "    <tr>\n",
       "      <th>3</th>\n",
       "      <td>SVBW</td>\n",
       "      <td>247000.00</td>\n",
       "      <td>27000.0</td>\n",
       "      <td>3.00</td>\n",
       "      <td>82333.333333</td>\n",
       "      <td>9000.000000</td>\n",
       "      <td>0.109312</td>\n",
       "    </tr>\n",
       "    <tr>\n",
       "      <th>4</th>\n",
       "      <td>SVWL</td>\n",
       "      <td>32085800.00</td>\n",
       "      <td>2988400.0</td>\n",
       "      <td>109.81</td>\n",
       "      <td>292193.789272</td>\n",
       "      <td>27214.279210</td>\n",
       "      <td>0.093138</td>\n",
       "    </tr>\n",
       "  </tbody>\n",
       "</table>\n",
       "</div>"
      ],
      "text/plain": [
       "  verband  gesamtverguetung_2013  erfolgsabhaengige_bezuege  \\\n",
       "0    RSGV            21239938.36                  2311180.0   \n",
       "1   SGVHT            16880900.00                  2783900.0   \n",
       "2     SVB             1779000.00                   223319.0   \n",
       "3    SVBW              247000.00                    27000.0   \n",
       "4    SVWL            32085800.00                  2988400.0   \n",
       "\n",
       "   anzahl_vorstaende_2013  verguetung_per_member  bezuege_per_member  \\\n",
       "0                   57.50          369390.232348        40194.434783   \n",
       "1                   57.90          291552.677029        48081.174439   \n",
       "2                    5.30          335660.377358        42135.660377   \n",
       "3                    3.00           82333.333333         9000.000000   \n",
       "4                  109.81          292193.789272        27214.279210   \n",
       "\n",
       "   per_member_quota  \n",
       "0          0.108813  \n",
       "1          0.164914  \n",
       "2          0.125531  \n",
       "3          0.109312  \n",
       "4          0.093138  "
      ]
     },
     "execution_count": 12,
     "metadata": {},
     "output_type": "execute_result"
    }
   ],
   "source": [
    "df_asso_states = pd.merge(df_bezuege_group, \n",
    "                   df_kerndaten[['sparkasse', 'anzahl_vorstaende_2013', 'verband', 'state']],\n",
    "                   on='sparkasse')\n",
    "\n",
    "df_asso_group = df_asso_states.groupby('verband', as_index=False).sum()\n",
    "\n",
    "# get data per board member\n",
    "df_asso_group['verguetung_per_member'] = df_asso_group.gesamtverguetung_2013 / df_asso_group.anzahl_vorstaende_2013\n",
    "df_asso_group['bezuege_per_member'] = df_asso_group.erfolgsabhaengige_bezuege / df_asso_group.anzahl_vorstaende_2013\n",
    "df_asso_group['per_member_quota'] = df_asso_group.bezuege_per_member / df_asso_group.verguetung_per_member\n",
    "\n",
    "df_asso_group"
   ]
  },
  {
   "cell_type": "markdown",
   "metadata": {},
   "source": [
    "## Wie unterscheidet sich diese Quote zwischen den Bundesländern?"
   ]
  },
  {
   "cell_type": "code",
   "execution_count": 13,
   "metadata": {
    "collapsed": false
   },
   "outputs": [
    {
     "data": {
      "text/html": [
       "<div>\n",
       "<table border=\"1\" class=\"dataframe\">\n",
       "  <thead>\n",
       "    <tr style=\"text-align: right;\">\n",
       "      <th></th>\n",
       "      <th>state</th>\n",
       "      <th>gesamtverguetung_2013</th>\n",
       "      <th>erfolgsabhaengige_bezuege</th>\n",
       "      <th>anzahl_vorstaende_2013</th>\n",
       "      <th>verguetung_per_member</th>\n",
       "      <th>bezuege_per_member</th>\n",
       "      <th>per_member_quota</th>\n",
       "    </tr>\n",
       "  </thead>\n",
       "  <tbody>\n",
       "    <tr>\n",
       "      <th>0</th>\n",
       "      <td>Baden-Württemberg</td>\n",
       "      <td>247000.00</td>\n",
       "      <td>27000.0</td>\n",
       "      <td>3.00</td>\n",
       "      <td>82333.333333</td>\n",
       "      <td>9000.000000</td>\n",
       "      <td>0.109312</td>\n",
       "    </tr>\n",
       "    <tr>\n",
       "      <th>1</th>\n",
       "      <td>Bayern</td>\n",
       "      <td>1779000.00</td>\n",
       "      <td>223319.0</td>\n",
       "      <td>5.30</td>\n",
       "      <td>335660.377358</td>\n",
       "      <td>42135.660377</td>\n",
       "      <td>0.125531</td>\n",
       "    </tr>\n",
       "    <tr>\n",
       "      <th>2</th>\n",
       "      <td>Hessen</td>\n",
       "      <td>16880900.00</td>\n",
       "      <td>2783900.0</td>\n",
       "      <td>57.90</td>\n",
       "      <td>291552.677029</td>\n",
       "      <td>48081.174439</td>\n",
       "      <td>0.164914</td>\n",
       "    </tr>\n",
       "    <tr>\n",
       "      <th>3</th>\n",
       "      <td>Nordrhein-Westfalen</td>\n",
       "      <td>53325738.36</td>\n",
       "      <td>5299580.0</td>\n",
       "      <td>167.31</td>\n",
       "      <td>318724.154922</td>\n",
       "      <td>31675.213675</td>\n",
       "      <td>0.099381</td>\n",
       "    </tr>\n",
       "  </tbody>\n",
       "</table>\n",
       "</div>"
      ],
      "text/plain": [
       "                 state  gesamtverguetung_2013  erfolgsabhaengige_bezuege  \\\n",
       "0    Baden-Württemberg              247000.00                    27000.0   \n",
       "1               Bayern             1779000.00                   223319.0   \n",
       "2               Hessen            16880900.00                  2783900.0   \n",
       "3  Nordrhein-Westfalen            53325738.36                  5299580.0   \n",
       "\n",
       "   anzahl_vorstaende_2013  verguetung_per_member  bezuege_per_member  \\\n",
       "0                    3.00           82333.333333         9000.000000   \n",
       "1                    5.30          335660.377358        42135.660377   \n",
       "2                   57.90          291552.677029        48081.174439   \n",
       "3                  167.31          318724.154922        31675.213675   \n",
       "\n",
       "   per_member_quota  \n",
       "0          0.109312  \n",
       "1          0.125531  \n",
       "2          0.164914  \n",
       "3          0.099381  "
      ]
     },
     "execution_count": 13,
     "metadata": {},
     "output_type": "execute_result"
    }
   ],
   "source": [
    "df_state_group = df_asso_states.groupby('state', as_index=False).sum()\n",
    "\n",
    "# get data per board member\n",
    "df_state_group['verguetung_per_member'] = df_state_group.gesamtverguetung_2013 / df_state_group.anzahl_vorstaende_2013\n",
    "df_state_group['bezuege_per_member'] = df_state_group.erfolgsabhaengige_bezuege / df_state_group.anzahl_vorstaende_2013\n",
    "df_state_group['per_member_quota'] = df_state_group.bezuege_per_member / df_state_group.verguetung_per_member\n",
    "\n",
    "df_state_group"
   ]
  },
  {
   "cell_type": "markdown",
   "metadata": {},
   "source": [
    "## Wie viele Gehälter haben wir, die nicht NRW sind? \n",
    "\n",
    "Hat zum Beispiel in Hessen fast jeder Sparkassen die Gehälter veröffentlicht und es hat bislang noch kein Medium erkannt, weil sie es nicht offiziell gemacht haben? Hintergrund: Der Pressesprecher vom hessischen Verband meinte zu mir, dass mittlerweile seine Sparkassen die konkreten Bezüge veröffentlichen, weil jeder durch die Gesamtbezüge den Durchschnitt ausrechnen könnte und dann würden sie lieber das richtige konkrete Gehalt veröffentliht sehen."
   ]
  },
  {
   "cell_type": "code",
   "execution_count": 14,
   "metadata": {
    "collapsed": false
   },
   "outputs": [
    {
     "data": {
      "text/plain": [
       "Nordrhein-Westfalen       529\n",
       "Hessen                    161\n",
       "Niedersachsen             123\n",
       "Bayern                    122\n",
       "Baden-Württemberg         101\n",
       "Rheinland-Pfalz            63\n",
       "Thüringen                  43\n",
       "Brandenburg                37\n",
       "Schleswig-Holstein         36\n",
       "Sachsen-Anhalt             30\n",
       "Sachsen                    25\n",
       "Mecklenburg-Vorpommern     22\n",
       "Saarland                   20\n",
       "Berlin                     12\n",
       "Bremen                      8\n",
       "Hamburg                     5\n",
       "Name: state, dtype: int64"
      ]
     },
     "execution_count": 14,
     "metadata": {},
     "output_type": "execute_result"
    }
   ],
   "source": [
    "df_vorstand_asso = pd.merge(df, df_kerndaten, on='sparkasse')\n",
    "df_vorstand_asso.state.value_counts()"
   ]
  },
  {
   "cell_type": "code",
   "execution_count": 15,
   "metadata": {
    "collapsed": false
   },
   "outputs": [
    {
     "data": {
      "text/plain": [
       "<matplotlib.axes._subplots.AxesSubplot at 0x7f15bc8cb0b8>"
      ]
     },
     "execution_count": 15,
     "metadata": {},
     "output_type": "execute_result"
    },
    {
     "data": {
      "image/png": "[encoded data removed]",
      "text/plain": [
       "<matplotlib.figure.Figure at 0x7f15beefaba8>"
      ]
     },
     "metadata": {},
     "output_type": "display_data"
    }
   ],
   "source": [
    "df_vorstand_asso.state.value_counts().plot.pie()"
   ]
  },
  {
   "cell_type": "code",
   "execution_count": 16,
   "metadata": {
    "collapsed": false
   },
   "outputs": [
    {
     "data": {
      "text/plain": [
       "(808, 66)"
      ]
     },
     "execution_count": 16,
     "metadata": {},
     "output_type": "execute_result"
    }
   ],
   "source": [
    "df_vorstand_asso[df_vorstand_asso.state != 'Nordrhein-Westfalen'].shape"
   ]
  },
  {
   "cell_type": "code",
   "execution_count": null,
   "metadata": {
    "collapsed": true
   },
   "outputs": [],
   "source": []
  }
 ],
 "metadata": {
  "kernelspec": {
   "display_name": "Python 3",
   "language": "python",
   "name": "python3"
  },
  "language_info": {
   "codemirror_mode": {
    "name": "ipython",
    "version": 3
   },
   "file_extension": ".py",
   "mimetype": "text/x-python",
   "name": "python",
   "nbconvert_exporter": "python",
   "pygments_lexer": "ipython3",
   "version": "3.5.1+"
  }
 },
 "nbformat": 4,
 "nbformat_minor": 0
}
