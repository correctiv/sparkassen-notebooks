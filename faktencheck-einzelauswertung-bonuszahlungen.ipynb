{
 "cells": [
  {
   "cell_type": "code",
   "execution_count": 1,
   "metadata": {
    "collapsed": false
   },
   "outputs": [],
   "source": [
    "import pandas as pd"
   ]
  },
  {
   "cell_type": "markdown",
   "metadata": {},
   "source": [
    "# Faktencheck\n",
    "\n",
    "## Vorstände - Einzeldaten mit Bonuszahlungen\n",
    "\n",
    "Daten zusammengetragen aus den Jahresberichten / Offenlegungsberichten der Sparkassen"
   ]
  },
  {
   "cell_type": "code",
   "execution_count": 2,
   "metadata": {
    "collapsed": false
   },
   "outputs": [],
   "source": [
    "df = pd.read_csv('./data/jahresabschluss_vorstand.csv')\n",
    "df_orig = df\n",
    "df_bemessung = pd.read_csv('./data/bemessung.csv')\n",
    "df = pd.merge(df, df_bemessung, on='sparkasse')"
   ]
  },
  {
   "cell_type": "markdown",
   "metadata": {},
   "source": [
    "### Wie hoch ist der Anteil erfolgsabhängiger Gehälter am Gesamtgehalt? "
   ]
  },
  {
   "cell_type": "markdown",
   "metadata": {},
   "source": [
    "Die erfolgsabhängigen Bezüge für einen Vorstand werden immer erst im nächsten Jahr ausgewiesen, daher gelten die Werte von erfolgsabhaengige_bezuege von 2014 für den Zeitraum von 2013, in dem diejenige Person im Vorstand war."
   ]
  },
  {
   "cell_type": "code",
   "execution_count": 3,
   "metadata": {
    "collapsed": false
   },
   "outputs": [],
   "source": [
    "# convert to date\n",
    "df.since = pd.to_datetime(df.since)\n",
    "df.until = pd.to_datetime(df.until)\n",
    "\n",
    "# set year\n",
    "df['year'] = df.until.map(lambda x: x.year)\n",
    "\n",
    "# get \"feste_bezuege\" of year before\n",
    "def get_salary(row):\n",
    "    if row.year == 2014:\n",
    "        lookup = df[(df.name == row['name']) & (df.year == 2013) & (df.sparkasse == row['sparkasse'])]\n",
    "        if len(lookup) == 1:\n",
    "            return lookup.iloc[0].feste_bezuege\n",
    "\n",
    "df['feste_bezuege_2013'] = df.apply(get_salary, axis=1)\n",
    "\n",
    "# calculate quota\n",
    "df['bezuege_quote'] = df.erfolgsabhaengige_bezuege / df.feste_bezuege_2013\n",
    "\n",
    "# calculate diff to erfolgs bezuege if quota would be .15\n",
    "df['erfolgs_bezuege_diff'] = df.erfolgsabhaengige_bezuege - df.feste_bezuege_2013*0.15\n",
    "\n",
    "# only relevant data\n",
    "df = df[(df.bezuege_quote > 0) & (df.year == 2014)]\n",
    "\n",
    "# shortcut for often used cols\n",
    "columns = ['sparkasse', 'name', 'position', 'feste_bezuege', 'erfolgsabhaengige_bezuege', 'bezuege_quote', 'erfolgs_bezuege_diff']"
   ]
  },
  {
   "cell_type": "markdown",
   "metadata": {},
   "source": [
    "**\"In Nordrhein-Westfalen haben sieben Sparkassenvorstände ungewöhnlich hohe Bonuszahlungen erhalten. Die Prämien aus dem Jahr 2014 übetreffen den empfohlenen Grenzwert.\"**\n",
    "\n",
    "**\"Trotzdem hielten sich sieben Vorstände im Jahr 2014 nicht an diese Richtlinie\"**"
   ]
  },
  {
   "cell_type": "code",
   "execution_count": 4,
   "metadata": {
    "collapsed": false
   },
   "outputs": [
    {
     "data": {
      "text/plain": [
       "7"
      ]
     },
     "execution_count": 4,
     "metadata": {},
     "output_type": "execute_result"
    }
   ],
   "source": [
    "len(df[(df.bezuege_quote > 0.15) & (df.state == 'Nordrhein-Westfalen')].index)"
   ]
  },
  {
   "cell_type": "markdown",
   "metadata": {},
   "source": [
    "**\"Im Nachbarland Hessen sind die Richtlinien geheim. Dort liegen sogar 32 Vorstände über dem in NRW gültigen Grenzwert.\"**"
   ]
  },
  {
   "cell_type": "code",
   "execution_count": 5,
   "metadata": {
    "collapsed": false
   },
   "outputs": [
    {
     "data": {
      "text/plain": [
       "32"
      ]
     },
     "execution_count": 5,
     "metadata": {},
     "output_type": "execute_result"
    }
   ],
   "source": [
    "len(df[(df.bezuege_quote > 0.15) & (df.state == 'Hessen')].index)"
   ]
  },
  {
   "cell_type": "markdown",
   "metadata": {},
   "source": [
    "**\"In Hessen lag sogar der Bonus von mehr als jedem zweiten Sparkassenchef über diesem Richtwert.\"**"
   ]
  },
  {
   "cell_type": "code",
   "execution_count": 6,
   "metadata": {
    "collapsed": false
   },
   "outputs": [
    {
     "data": {
      "text/plain": [
       "0.16336256195196341"
      ]
     },
     "execution_count": 6,
     "metadata": {},
     "output_type": "execute_result"
    }
   ],
   "source": [
    "df[df.state == 'Hessen'].bezuege_quote.quantile(0.5)"
   ]
  },
  {
   "cell_type": "markdown",
   "metadata": {},
   "source": [
    "**\"Die Sparkasse KölnBonn hat ihrem kompletten Vorstand einen Bonus von gut 22 Prozent genehmigt. Der Vorsitzende Artur Grzesiek bekam neben einem Festgehalt von 590.600 Euro im Jahr 2013 noch weitere 137.500 Euro als Prämie ausgezahlt. Das sind fast 50.000 Euro mehr, als die beiden Sparkassenverbände in NRW als Richtwert festgeschrieben haben.\"**"
   ]
  },
  {
   "cell_type": "code",
   "execution_count": 7,
   "metadata": {
    "collapsed": false
   },
   "outputs": [
    {
     "data": {
      "text/html": [
       "<div>\n",
       "<table border=\"1\" class=\"dataframe\">\n",
       "  <thead>\n",
       "    <tr style=\"text-align: right;\">\n",
       "      <th></th>\n",
       "      <th>sparkasse</th>\n",
       "      <th>name</th>\n",
       "      <th>position</th>\n",
       "      <th>feste_bezuege</th>\n",
       "      <th>erfolgsabhaengige_bezuege</th>\n",
       "      <th>bezuege_quote</th>\n",
       "      <th>erfolgs_bezuege_diff</th>\n",
       "    </tr>\n",
       "  </thead>\n",
       "  <tbody>\n",
       "    <tr>\n",
       "      <th>688</th>\n",
       "      <td>Sparkasse KölnBonn</td>\n",
       "      <td>Dr. Christoph Siemons</td>\n",
       "      <td>Mitglied</td>\n",
       "      <td>409500.0</td>\n",
       "      <td>91700.0</td>\n",
       "      <td>0.223932</td>\n",
       "      <td>30275.0</td>\n",
       "    </tr>\n",
       "    <tr>\n",
       "      <th>689</th>\n",
       "      <td>Sparkasse KölnBonn</td>\n",
       "      <td>Dr. Joachim Schmalzl</td>\n",
       "      <td>Mitglied</td>\n",
       "      <td>409500.0</td>\n",
       "      <td>91700.0</td>\n",
       "      <td>0.223932</td>\n",
       "      <td>30275.0</td>\n",
       "    </tr>\n",
       "    <tr>\n",
       "      <th>690</th>\n",
       "      <td>Sparkasse KölnBonn</td>\n",
       "      <td>Ulrich Voigt</td>\n",
       "      <td>Mitglied</td>\n",
       "      <td>409500.0</td>\n",
       "      <td>91700.0</td>\n",
       "      <td>0.223932</td>\n",
       "      <td>30275.0</td>\n",
       "    </tr>\n",
       "    <tr>\n",
       "      <th>692</th>\n",
       "      <td>Sparkasse KölnBonn</td>\n",
       "      <td>Artur Grzesiek</td>\n",
       "      <td>Vorsitzende(r)</td>\n",
       "      <td>590600.0</td>\n",
       "      <td>137500.0</td>\n",
       "      <td>0.232814</td>\n",
       "      <td>48910.0</td>\n",
       "    </tr>\n",
       "  </tbody>\n",
       "</table>\n",
       "</div>"
      ],
      "text/plain": [
       "              sparkasse                   name        position  feste_bezuege  \\\n",
       "688  Sparkasse KölnBonn  Dr. Christoph Siemons        Mitglied       409500.0   \n",
       "689  Sparkasse KölnBonn   Dr. Joachim Schmalzl        Mitglied       409500.0   \n",
       "690  Sparkasse KölnBonn           Ulrich Voigt        Mitglied       409500.0   \n",
       "692  Sparkasse KölnBonn         Artur Grzesiek  Vorsitzende(r)       590600.0   \n",
       "\n",
       "     erfolgsabhaengige_bezuege  bezuege_quote  erfolgs_bezuege_diff  \n",
       "688                    91700.0       0.223932               30275.0  \n",
       "689                    91700.0       0.223932               30275.0  \n",
       "690                    91700.0       0.223932               30275.0  \n",
       "692                   137500.0       0.232814               48910.0  "
      ]
     },
     "execution_count": 7,
     "metadata": {},
     "output_type": "execute_result"
    }
   ],
   "source": [
    "df[df.sparkasse == 'Sparkasse KölnBonn'][columns]"
   ]
  },
  {
   "cell_type": "markdown",
   "metadata": {},
   "source": [
    "**\"Direkt nebenan, in Leverkusen, erhielt der ehemalige Chef Manfred Herpolsheimer satte 26 Prozent seines Festgehaltes als Bonus. Macht 2014 allein 103.000 Euro zusätzlich – 42.000 Euro mehr als vorgesehen.\"**"
   ]
  },
  {
   "cell_type": "code",
   "execution_count": 8,
   "metadata": {
    "collapsed": false
   },
   "outputs": [
    {
     "data": {
      "text/html": [
       "<div>\n",
       "<table border=\"1\" class=\"dataframe\">\n",
       "  <thead>\n",
       "    <tr style=\"text-align: right;\">\n",
       "      <th></th>\n",
       "      <th>sparkasse</th>\n",
       "      <th>name</th>\n",
       "      <th>position</th>\n",
       "      <th>feste_bezuege</th>\n",
       "      <th>erfolgsabhaengige_bezuege</th>\n",
       "      <th>bezuege_quote</th>\n",
       "      <th>erfolgs_bezuege_diff</th>\n",
       "    </tr>\n",
       "  </thead>\n",
       "  <tbody>\n",
       "    <tr>\n",
       "      <th>337</th>\n",
       "      <td>Sparkasse Leverkusen</td>\n",
       "      <td>Rainer Schwarz</td>\n",
       "      <td>Mitglied</td>\n",
       "      <td>324300.0</td>\n",
       "      <td>31600.0</td>\n",
       "      <td>0.131502</td>\n",
       "      <td>-4445.0</td>\n",
       "    </tr>\n",
       "    <tr>\n",
       "      <th>339</th>\n",
       "      <td>Sparkasse Leverkusen</td>\n",
       "      <td>Markus Grawe</td>\n",
       "      <td>Mitglied</td>\n",
       "      <td>331000.0</td>\n",
       "      <td>42100.0</td>\n",
       "      <td>0.131398</td>\n",
       "      <td>-5960.0</td>\n",
       "    </tr>\n",
       "    <tr>\n",
       "      <th>341</th>\n",
       "      <td>Sparkasse Leverkusen</td>\n",
       "      <td>Manfred Herpolsheimer</td>\n",
       "      <td>Vorsitzende(r)</td>\n",
       "      <td>416600.0</td>\n",
       "      <td>103000.0</td>\n",
       "      <td>0.255266</td>\n",
       "      <td>42475.0</td>\n",
       "    </tr>\n",
       "  </tbody>\n",
       "</table>\n",
       "</div>"
      ],
      "text/plain": [
       "                sparkasse                   name        position  \\\n",
       "337  Sparkasse Leverkusen         Rainer Schwarz        Mitglied   \n",
       "339  Sparkasse Leverkusen           Markus Grawe        Mitglied   \n",
       "341  Sparkasse Leverkusen  Manfred Herpolsheimer  Vorsitzende(r)   \n",
       "\n",
       "     feste_bezuege  erfolgsabhaengige_bezuege  bezuege_quote  \\\n",
       "337       324300.0                    31600.0       0.131502   \n",
       "339       331000.0                    42100.0       0.131398   \n",
       "341       416600.0                   103000.0       0.255266   \n",
       "\n",
       "     erfolgs_bezuege_diff  \n",
       "337               -4445.0  \n",
       "339               -5960.0  \n",
       "341               42475.0  "
      ]
     },
     "execution_count": 8,
     "metadata": {},
     "output_type": "execute_result"
    }
   ],
   "source": [
    "df[df.sparkasse == 'Sparkasse Leverkusen'][columns]"
   ]
  },
  {
   "cell_type": "markdown",
   "metadata": {},
   "source": [
    "**\"Die Sparkasse Märkisches Sauerland Hemer-Menden bezahlte ihrem Vorsitzenden einen Bonus von 23 Prozent. Dietmar Tacke, schon seit 1999 im Vorstand, bekam 62.000 als Prämie. Der Betrag liegt 22.000 Euro über dem vorgesehenen Grenzwert.\"**"
   ]
  },
  {
   "cell_type": "code",
   "execution_count": 9,
   "metadata": {
    "collapsed": false
   },
   "outputs": [
    {
     "data": {
      "text/html": [
       "<div>\n",
       "<table border=\"1\" class=\"dataframe\">\n",
       "  <thead>\n",
       "    <tr style=\"text-align: right;\">\n",
       "      <th></th>\n",
       "      <th>sparkasse</th>\n",
       "      <th>name</th>\n",
       "      <th>position</th>\n",
       "      <th>feste_bezuege</th>\n",
       "      <th>erfolgsabhaengige_bezuege</th>\n",
       "      <th>bezuege_quote</th>\n",
       "      <th>erfolgs_bezuege_diff</th>\n",
       "    </tr>\n",
       "  </thead>\n",
       "  <tbody>\n",
       "    <tr>\n",
       "      <th>244</th>\n",
       "      <td>Sparkasse Märkisches Sauerland Hemer-Menden</td>\n",
       "      <td>Jörg Kötter</td>\n",
       "      <td>Mitglied</td>\n",
       "      <td>265000.0</td>\n",
       "      <td>25000.0</td>\n",
       "      <td>0.110619</td>\n",
       "      <td>-8900.0</td>\n",
       "    </tr>\n",
       "    <tr>\n",
       "      <th>247</th>\n",
       "      <td>Sparkasse Märkisches Sauerland Hemer-Menden</td>\n",
       "      <td>Dietmar Tacke</td>\n",
       "      <td>Vorsitzende(r)</td>\n",
       "      <td>348000.0</td>\n",
       "      <td>62000.0</td>\n",
       "      <td>0.230483</td>\n",
       "      <td>21650.0</td>\n",
       "    </tr>\n",
       "  </tbody>\n",
       "</table>\n",
       "</div>"
      ],
      "text/plain": [
       "                                       sparkasse           name  \\\n",
       "244  Sparkasse Märkisches Sauerland Hemer-Menden    Jörg Kötter   \n",
       "247  Sparkasse Märkisches Sauerland Hemer-Menden  Dietmar Tacke   \n",
       "\n",
       "           position  feste_bezuege  erfolgsabhaengige_bezuege  bezuege_quote  \\\n",
       "244        Mitglied       265000.0                    25000.0       0.110619   \n",
       "247  Vorsitzende(r)       348000.0                    62000.0       0.230483   \n",
       "\n",
       "     erfolgs_bezuege_diff  \n",
       "244               -8900.0  \n",
       "247               21650.0  "
      ]
     },
     "execution_count": 9,
     "metadata": {},
     "output_type": "execute_result"
    }
   ],
   "source": [
    "df[df.sparkasse == 'Sparkasse Märkisches Sauerland Hemer-Menden'][columns]"
   ]
  },
  {
   "cell_type": "markdown",
   "metadata": {},
   "source": [
    "**\"Die Stadtsparkasse Haltern am See zählt mit rund 100 Mitarbeitern zu den kleinsten Sparkassen in Deutschland. Dementsprechend ist das Gehalt der Vorstände vergleichsweise überschaubar. Im Vorstand sitzt Jutta Kuhn, die für ihre Arbeit im Jahr 2013 113.000 Euro bekam. Der Bonus von 23.000 Euro entspricht einem Fünftel Ihres Grundgehaltes. Das sind 6.050 Euro mehr als die beiden Sparkassen-Verbände in NRW empfehlen.\"**"
   ]
  },
  {
   "cell_type": "code",
   "execution_count": 10,
   "metadata": {
    "collapsed": false
   },
   "outputs": [
    {
     "data": {
      "text/html": [
       "<div>\n",
       "<table border=\"1\" class=\"dataframe\">\n",
       "  <thead>\n",
       "    <tr style=\"text-align: right;\">\n",
       "      <th></th>\n",
       "      <th>sparkasse</th>\n",
       "      <th>name</th>\n",
       "      <th>position</th>\n",
       "      <th>feste_bezuege</th>\n",
       "      <th>erfolgsabhaengige_bezuege</th>\n",
       "      <th>bezuege_quote</th>\n",
       "      <th>erfolgs_bezuege_diff</th>\n",
       "    </tr>\n",
       "  </thead>\n",
       "  <tbody>\n",
       "    <tr>\n",
       "      <th>69</th>\n",
       "      <td>Stadtsparkasse Haltern am See</td>\n",
       "      <td>Jutta Kuhn</td>\n",
       "      <td>Mitglied</td>\n",
       "      <td>112000.0</td>\n",
       "      <td>23000.0</td>\n",
       "      <td>0.203540</td>\n",
       "      <td>6050.0</td>\n",
       "    </tr>\n",
       "    <tr>\n",
       "      <th>71</th>\n",
       "      <td>Stadtsparkasse Haltern am See</td>\n",
       "      <td>Helmut Kanter</td>\n",
       "      <td>Vorsitzende(r)</td>\n",
       "      <td>156000.0</td>\n",
       "      <td>11000.0</td>\n",
       "      <td>0.072368</td>\n",
       "      <td>-11800.0</td>\n",
       "    </tr>\n",
       "  </tbody>\n",
       "</table>\n",
       "</div>"
      ],
      "text/plain": [
       "                        sparkasse           name        position  \\\n",
       "69  Stadtsparkasse Haltern am See     Jutta Kuhn        Mitglied   \n",
       "71  Stadtsparkasse Haltern am See  Helmut Kanter  Vorsitzende(r)   \n",
       "\n",
       "    feste_bezuege  erfolgsabhaengige_bezuege  bezuege_quote  \\\n",
       "69       112000.0                    23000.0       0.203540   \n",
       "71       156000.0                    11000.0       0.072368   \n",
       "\n",
       "    erfolgs_bezuege_diff  \n",
       "69                6050.0  \n",
       "71              -11800.0  "
      ]
     },
     "execution_count": 10,
     "metadata": {},
     "output_type": "execute_result"
    }
   ],
   "source": [
    "df[df.sparkasse == 'Stadtsparkasse Haltern am See'][columns]"
   ]
  },
  {
   "cell_type": "code",
   "execution_count": 11,
   "metadata": {
    "collapsed": false
   },
   "outputs": [
    {
     "data": {
      "text/html": [
       "<div>\n",
       "<table border=\"1\" class=\"dataframe\">\n",
       "  <thead>\n",
       "    <tr style=\"text-align: right;\">\n",
       "      <th></th>\n",
       "      <th>sparkasse</th>\n",
       "      <th>bemessung_2014</th>\n",
       "    </tr>\n",
       "  </thead>\n",
       "  <tbody>\n",
       "    <tr>\n",
       "      <th>416</th>\n",
       "      <td>Stadtsparkasse Bad Sachsa</td>\n",
       "      <td>347965698.0</td>\n",
       "    </tr>\n",
       "    <tr>\n",
       "      <th>14</th>\n",
       "      <td>Stadtsparkasse Felsberg</td>\n",
       "      <td>424412175.0</td>\n",
       "    </tr>\n",
       "    <tr>\n",
       "      <th>2</th>\n",
       "      <td>Stadtsparkasse Borken</td>\n",
       "      <td>434537800.0</td>\n",
       "    </tr>\n",
       "    <tr>\n",
       "      <th>1</th>\n",
       "      <td>Stadtsparkasse Grebenstein</td>\n",
       "      <td>506842930.0</td>\n",
       "    </tr>\n",
       "    <tr>\n",
       "      <th>4</th>\n",
       "      <td>Stadtsparkasse Schwalmstadt</td>\n",
       "      <td>537982370.0</td>\n",
       "    </tr>\n",
       "    <tr>\n",
       "      <th>0</th>\n",
       "      <td>Sparkasse Battenberg</td>\n",
       "      <td>556846950.0</td>\n",
       "    </tr>\n",
       "    <tr>\n",
       "      <th>415</th>\n",
       "      <td>Sparkasse Fröndenberg</td>\n",
       "      <td>624047144.0</td>\n",
       "    </tr>\n",
       "    <tr>\n",
       "      <th>5</th>\n",
       "      <td>Sparkasse Hohenwestedt</td>\n",
       "      <td>653971310.0</td>\n",
       "    </tr>\n",
       "    <tr>\n",
       "      <th>3</th>\n",
       "      <td>Sparkasse Laubach-Hungen</td>\n",
       "      <td>670256386.0</td>\n",
       "    </tr>\n",
       "    <tr>\n",
       "      <th>8</th>\n",
       "      <td>Sparkasse Geseke</td>\n",
       "      <td>736237869.0</td>\n",
       "    </tr>\n",
       "    <tr>\n",
       "      <th>13</th>\n",
       "      <td>Stadtsparkasse Blomberg/Lippe</td>\n",
       "      <td>755900000.0</td>\n",
       "    </tr>\n",
       "    <tr>\n",
       "      <th>20</th>\n",
       "      <td>Sparkasse Finnentrop</td>\n",
       "      <td>766019530.0</td>\n",
       "    </tr>\n",
       "    <tr>\n",
       "      <th>6</th>\n",
       "      <td>Stadtsparkasse Haltern am See</td>\n",
       "      <td>785124389.0</td>\n",
       "    </tr>\n",
       "  </tbody>\n",
       "</table>\n",
       "</div>"
      ],
      "text/plain": [
       "                         sparkasse  bemessung_2014\n",
       "416      Stadtsparkasse Bad Sachsa     347965698.0\n",
       "14         Stadtsparkasse Felsberg     424412175.0\n",
       "2            Stadtsparkasse Borken     434537800.0\n",
       "1       Stadtsparkasse Grebenstein     506842930.0\n",
       "4      Stadtsparkasse Schwalmstadt     537982370.0\n",
       "0             Sparkasse Battenberg     556846950.0\n",
       "415          Sparkasse Fröndenberg     624047144.0\n",
       "5           Sparkasse Hohenwestedt     653971310.0\n",
       "3         Sparkasse Laubach-Hungen     670256386.0\n",
       "8                 Sparkasse Geseke     736237869.0\n",
       "13   Stadtsparkasse Blomberg/Lippe     755900000.0\n",
       "20            Sparkasse Finnentrop     766019530.0\n",
       "6    Stadtsparkasse Haltern am See     785124389.0"
      ]
     },
     "execution_count": 11,
     "metadata": {},
     "output_type": "execute_result"
    }
   ],
   "source": [
    "df_bemessung.sort_values('bemessung_2014')[:13]"
   ]
  },
  {
   "cell_type": "markdown",
   "metadata": {},
   "source": [
    "**\"Für die Sparkasse Märkisches Sauerland war 2013 ein schwieriges Jahr. Sie hielt knapp die schwarze null und machte nur 120.000 Euro Gewinn. Im Folgejahr waren fast 5 Prozent aller Unternehmenskredite notleidend.\"**"
   ]
  },
  {
   "cell_type": "code",
   "execution_count": 12,
   "metadata": {
    "collapsed": false
   },
   "outputs": [
    {
     "data": {
      "text/html": [
       "<div>\n",
       "<table border=\"1\" class=\"dataframe\">\n",
       "  <thead>\n",
       "    <tr style=\"text-align: right;\">\n",
       "      <th></th>\n",
       "      <th>sparkasse</th>\n",
       "      <th>jahresueberschuss_2013</th>\n",
       "      <th>npl_quote_unternehmen_2014</th>\n",
       "    </tr>\n",
       "  </thead>\n",
       "  <tbody>\n",
       "    <tr>\n",
       "      <th>120</th>\n",
       "      <td>Sparkasse Märkisches Sauerland Hemer-Menden</td>\n",
       "      <td>120000.0</td>\n",
       "      <td>4.97</td>\n",
       "    </tr>\n",
       "  </tbody>\n",
       "</table>\n",
       "</div>"
      ],
      "text/plain": [
       "                                       sparkasse  jahresueberschuss_2013  \\\n",
       "120  Sparkasse Märkisches Sauerland Hemer-Menden                120000.0   \n",
       "\n",
       "     npl_quote_unternehmen_2014  \n",
       "120                        4.97  "
      ]
     },
     "execution_count": 12,
     "metadata": {},
     "output_type": "execute_result"
    }
   ],
   "source": [
    "df_kerndaten = pd.read_csv('./data/jahresabschluss_kerndaten.csv')\n",
    "df_kerndaten[df_kerndaten.sparkasse == 'Sparkasse Märkisches Sauerland Hemer-Menden'][[\n",
    "    'sparkasse',\n",
    "    'jahresueberschuss_2013',\n",
    "    'npl_quote_unternehmen_2014'\n",
    "]]"
   ]
  },
  {
   "cell_type": "markdown",
   "metadata": {},
   "source": [
    "**\"Auffällig ist in Hessen: [...]. Davon bewegen sich die Boni von 28 Vorständen bis an die 20 Prozent Grenze.\"**"
   ]
  },
  {
   "cell_type": "code",
   "execution_count": 13,
   "metadata": {
    "collapsed": false
   },
   "outputs": [
    {
     "data": {
      "text/plain": [
       "28"
      ]
     },
     "execution_count": 13,
     "metadata": {},
     "output_type": "execute_result"
    }
   ],
   "source": [
    "len(df[(df.state == 'Hessen') & (df.bezuege_quote > 0.15) & (df.bezuege_quote <= 0.2)].index)"
   ]
  },
  {
   "cell_type": "markdown",
   "metadata": {},
   "source": [
    "**\"Eine Ausnahme ist der vierköpfige Vorstand der Frankfurter Sparkasse mit Bonuszahlungen zwischen 55 und 68 Prozent.\"**"
   ]
  },
  {
   "cell_type": "code",
   "execution_count": 14,
   "metadata": {
    "collapsed": false
   },
   "outputs": [
    {
     "data": {
      "text/html": [
       "<div>\n",
       "<table border=\"1\" class=\"dataframe\">\n",
       "  <thead>\n",
       "    <tr style=\"text-align: right;\">\n",
       "      <th></th>\n",
       "      <th>sparkasse</th>\n",
       "      <th>name</th>\n",
       "      <th>position</th>\n",
       "      <th>feste_bezuege</th>\n",
       "      <th>erfolgsabhaengige_bezuege</th>\n",
       "      <th>bezuege_quote</th>\n",
       "      <th>erfolgs_bezuege_diff</th>\n",
       "    </tr>\n",
       "  </thead>\n",
       "  <tbody>\n",
       "    <tr>\n",
       "      <th>678</th>\n",
       "      <td>Frankfurter Sparkasse</td>\n",
       "      <td>Altfried M. Lütkenhaus</td>\n",
       "      <td>Mitglied</td>\n",
       "      <td>363000.0</td>\n",
       "      <td>200000.0</td>\n",
       "      <td>0.560224</td>\n",
       "      <td>146450.0</td>\n",
       "    </tr>\n",
       "    <tr>\n",
       "      <th>681</th>\n",
       "      <td>Frankfurter Sparkasse</td>\n",
       "      <td>Stephan Bruhn</td>\n",
       "      <td>Mitglied</td>\n",
       "      <td>368000.0</td>\n",
       "      <td>200000.0</td>\n",
       "      <td>0.561798</td>\n",
       "      <td>146600.0</td>\n",
       "    </tr>\n",
       "    <tr>\n",
       "      <th>682</th>\n",
       "      <td>Frankfurter Sparkasse</td>\n",
       "      <td>Arne Weick</td>\n",
       "      <td>Mitglied</td>\n",
       "      <td>369000.0</td>\n",
       "      <td>200000.0</td>\n",
       "      <td>0.550964</td>\n",
       "      <td>145550.0</td>\n",
       "    </tr>\n",
       "    <tr>\n",
       "      <th>683</th>\n",
       "      <td>Frankfurter Sparkasse</td>\n",
       "      <td>Herbert Hans Grüntker</td>\n",
       "      <td>Vorsitzende(r)</td>\n",
       "      <td>452000.0</td>\n",
       "      <td>300000.0</td>\n",
       "      <td>0.678733</td>\n",
       "      <td>233700.0</td>\n",
       "    </tr>\n",
       "  </tbody>\n",
       "</table>\n",
       "</div>"
      ],
      "text/plain": [
       "                 sparkasse                    name        position  \\\n",
       "678  Frankfurter Sparkasse  Altfried M. Lütkenhaus        Mitglied   \n",
       "681  Frankfurter Sparkasse           Stephan Bruhn        Mitglied   \n",
       "682  Frankfurter Sparkasse              Arne Weick        Mitglied   \n",
       "683  Frankfurter Sparkasse   Herbert Hans Grüntker  Vorsitzende(r)   \n",
       "\n",
       "     feste_bezuege  erfolgsabhaengige_bezuege  bezuege_quote  \\\n",
       "678       363000.0                   200000.0       0.560224   \n",
       "681       368000.0                   200000.0       0.561798   \n",
       "682       369000.0                   200000.0       0.550964   \n",
       "683       452000.0                   300000.0       0.678733   \n",
       "\n",
       "     erfolgs_bezuege_diff  \n",
       "678              146450.0  \n",
       "681              146600.0  \n",
       "682              145550.0  \n",
       "683              233700.0  "
      ]
     },
     "execution_count": 14,
     "metadata": {},
     "output_type": "execute_result"
    }
   ],
   "source": [
    "df[df.sparkasse == 'Frankfurter Sparkasse'][columns]"
   ]
  },
  {
   "cell_type": "markdown",
   "metadata": {},
   "source": [
    "**\"In einer neuen Datenbank von correctiv.org und FAZ finden sich hunderte Gehälter von Vorständen aus 134 Sparkassen.\"**"
   ]
  },
  {
   "cell_type": "code",
   "execution_count": 15,
   "metadata": {
    "collapsed": false
   },
   "outputs": [
    {
     "data": {
      "text/plain": [
       "(219, 134)"
      ]
     },
     "execution_count": 15,
     "metadata": {},
     "output_type": "execute_result"
    }
   ],
   "source": [
    "len(df.index), len(df_orig[df_orig.gesamtverguetung > 0].sparkasse.unique())"
   ]
  },
  {
   "cell_type": "markdown",
   "metadata": {},
   "source": [
    "**\"Mittlerweile veröffentlicht fast jede dritte Sparkasse ihre Vorstandgehälter. Im Jahr 2014 hatten 134 der damals noch 417 Sparkassen (jetzt 409) ihre Gehälter veröffentlicht.\"**"
   ]
  },
  {
   "cell_type": "code",
   "execution_count": 16,
   "metadata": {
    "collapsed": false
   },
   "outputs": [
    {
     "data": {
      "text/plain": [
       "[0.32211538461538464, 417]"
      ]
     },
     "execution_count": 16,
     "metadata": {},
     "output_type": "execute_result"
    }
   ],
   "source": [
    "[len(df_orig[df_orig.gesamtverguetung > 0].sparkasse.unique()) / len(df_orig.sparkasse.unique()),\n",
    " len(df_kerndaten.sparkasse.unique())]"
   ]
  },
  {
   "cell_type": "markdown",
   "metadata": {},
   "source": [
    "**\"In NRW sind es 102 von 105 Sparkassen,...\"**"
   ]
  },
  {
   "cell_type": "code",
   "execution_count": 17,
   "metadata": {
    "collapsed": false
   },
   "outputs": [
    {
     "data": {
      "text/plain": [
       "[102, 105]"
      ]
     },
     "execution_count": 17,
     "metadata": {},
     "output_type": "execute_result"
    }
   ],
   "source": [
    "[len(df_orig[(df_orig.state == 'Nordrhein-Westfalen') & (df_orig.gesamtverguetung > 0)].sparkasse.unique()), \n",
    " len(df_orig[df_orig.state == 'Nordrhein-Westfalen'].sparkasse.unique())]"
   ]
  },
  {
   "cell_type": "markdown",
   "metadata": {},
   "source": [
    "**\"...in Hessen 30 von 34.\"**"
   ]
  },
  {
   "cell_type": "code",
   "execution_count": 18,
   "metadata": {
    "collapsed": false
   },
   "outputs": [
    {
     "data": {
      "text/plain": [
       "[30, 34]"
      ]
     },
     "execution_count": 18,
     "metadata": {},
     "output_type": "execute_result"
    }
   ],
   "source": [
    "[len(df_orig[(df_orig.state == 'Hessen') & (df_orig.gesamtverguetung > 0)].sparkasse.unique()),\n",
    " len(df_orig[df_orig.state == 'Hessen'].sparkasse.unique())]"
   ]
  },
  {
   "cell_type": "markdown",
   "metadata": {},
   "source": [
    "**\"Dazu veröffentlichen die Sparkassen in München und Berlin ihre Gehälter.\"**"
   ]
  },
  {
   "cell_type": "code",
   "execution_count": 19,
   "metadata": {
    "collapsed": false
   },
   "outputs": [
    {
     "data": {
      "text/plain": [
       "True"
      ]
     },
     "execution_count": 19,
     "metadata": {},
     "output_type": "execute_result"
    }
   ],
   "source": [
    "'Stadtsparkasse München' in df_orig[df_orig.gesamtverguetung > 0].sparkasse.values"
   ]
  },
  {
   "cell_type": "code",
   "execution_count": 20,
   "metadata": {
    "collapsed": false
   },
   "outputs": [
    {
     "data": {
      "text/plain": [
       "True"
      ]
     },
     "execution_count": 20,
     "metadata": {},
     "output_type": "execute_result"
    }
   ],
   "source": [
    "'Berliner Sparkasse' in df_orig[df_orig.gesamtverguetung > 0].sparkasse.values"
   ]
  },
  {
   "cell_type": "markdown",
   "metadata": {},
   "source": [
    "**\"Von den übrigen, schweigenden Sparkassen veröffentlicht rund die Hälfte zumindest das Gesamtgehalt aller Vorstände.\"**"
   ]
  },
  {
   "cell_type": "code",
   "execution_count": 21,
   "metadata": {
    "collapsed": false
   },
   "outputs": [
    {
     "data": {
      "text/plain": [
       "0.5406360424028268"
      ]
     },
     "execution_count": 21,
     "metadata": {},
     "output_type": "execute_result"
    }
   ],
   "source": [
    "sparkassen_schweigend = set(df_kerndaten.sparkasse.values) - set(df_orig[df_orig.gesamtverguetung > 0].sparkasse.values)\n",
    "sparkassen_gesamtgehalt = sparkassen_schweigend & set(df_kerndaten[df_kerndaten.gesamtbezuege_2014 > 0].sparkasse.values)\n",
    "len(sparkassen_gesamtgehalt) / len(sparkassen_schweigend)"
   ]
  }
 ],
 "metadata": {
  "kernelspec": {
   "display_name": "Python 3",
   "language": "python",
   "name": "python3"
  },
  "language_info": {
   "codemirror_mode": {
    "name": "ipython",
    "version": 3
   },
   "file_extension": ".py",
   "mimetype": "text/x-python",
   "name": "python",
   "nbconvert_exporter": "python",
   "pygments_lexer": "ipython3",
   "version": "3.5.1+"
  }
 },
 "nbformat": 4,
 "nbformat_minor": 0
}
