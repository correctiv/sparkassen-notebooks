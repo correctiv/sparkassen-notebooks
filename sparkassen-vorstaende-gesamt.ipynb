{
 "cells": [
  {
   "cell_type": "code",
   "execution_count": 1,
   "metadata": {
    "collapsed": false
   },
   "outputs": [],
   "source": [
    "import numpy as np\n",
    "import pandas as pd\n",
    "import matplotlib\n",
    "import matplotlib.pyplot as plt\n",
    "%matplotlib inline\n",
    "\n",
    "# PLOT UTILS\n",
    "def comparison_hist(a, b):\n",
    "    fig, ax = plt.subplots()\n",
    "    ranges = (min(a.min(), b.min()), max(a.max(), b.max()))\n",
    "    a_heights, a_bins = np.histogram(a, range=ranges)\n",
    "    b_heights, b_bins = np.histogram(b, range=ranges, bins=a_bins)\n",
    "    width = (a_bins[1] - a_bins[0])/3\n",
    "    ax.bar(a_bins[:-1], a_heights, width=width, facecolor='green')\n",
    "    ax.bar(b_bins[:-1]+width, b_heights, width=width, facecolor='blue')\n",
    "    \n",
    "def comparison_scat(df, a, b):\n",
    "    fig, ax = plt.subplots()\n",
    "    ax.scatter(a[0], a[1], s=10, c='green', label='a')\n",
    "    ax.scatter(b[0], b[1], s=10, c='blue', label='b')"
   ]
  },
  {
   "cell_type": "markdown",
   "metadata": {},
   "source": [
    "# Vorstände - Gesamtdaten\n",
    "\n",
    "Diese beinhaltet Gesamtbezüge und Anzahl Vorstände und daraus errechnetes durchschnittl. Gehalt für 2013 und 2014 (selber gesammelte Werte). Als Relationsgrößen setzen wir die Größe der Sparkasse, die wir durch die Werte Bilanzsumme, Vergebene Kredite und Anzahl Mitarbeiter errechnen, alles Werte aus dem Crowdnewsromm)"
   ]
  },
  {
   "cell_type": "code",
   "execution_count": 2,
   "metadata": {
    "collapsed": false
   },
   "outputs": [],
   "source": [
    "df = pd.read_csv('./data/jahresabschluss_kerndaten.csv')"
   ]
  },
  {
   "cell_type": "markdown",
   "metadata": {},
   "source": [
    "## Von wie vielen Sparkassen haben wir diese Gehaltswerte erfasst?"
   ]
  },
  {
   "cell_type": "code",
   "execution_count": 3,
   "metadata": {
    "collapsed": false
   },
   "outputs": [
    {
     "data": {
      "text/plain": [
       "282"
      ]
     },
     "execution_count": 3,
     "metadata": {},
     "output_type": "execute_result"
    }
   ],
   "source": [
    "# 2013\n",
    "len(df[pd.notnull(df.gesamtbezuege_2013)].index)"
   ]
  },
  {
   "cell_type": "code",
   "execution_count": 4,
   "metadata": {
    "collapsed": false
   },
   "outputs": [
    {
     "data": {
      "text/plain": [
       "287"
      ]
     },
     "execution_count": 4,
     "metadata": {},
     "output_type": "execute_result"
    }
   ],
   "source": [
    "# 2014\n",
    "len(df[pd.notnull(df.gesamtbezuege_2014)].index)"
   ]
  },
  {
   "cell_type": "markdown",
   "metadata": {},
   "source": [
    "## Wie entwickelten sich die Gesamtbezüge?"
   ]
  },
  {
   "cell_type": "markdown",
   "metadata": {},
   "source": [
    "### 2014"
   ]
  },
  {
   "cell_type": "code",
   "execution_count": 5,
   "metadata": {
    "collapsed": false
   },
   "outputs": [
    {
     "data": {
      "text/plain": [
       "871580.86411149823"
      ]
     },
     "execution_count": 5,
     "metadata": {},
     "output_type": "execute_result"
    }
   ],
   "source": [
    "mean_2014 = df.gesamtbezuege_2014.mean()\n",
    "mean_2014"
   ]
  },
  {
   "cell_type": "markdown",
   "metadata": {},
   "source": [
    "### 2013"
   ]
  },
  {
   "cell_type": "code",
   "execution_count": 6,
   "metadata": {
    "collapsed": false
   },
   "outputs": [
    {
     "data": {
      "text/plain": [
       "853871.52726950357"
      ]
     },
     "execution_count": 6,
     "metadata": {},
     "output_type": "execute_result"
    }
   ],
   "source": [
    "mean_2013 = df.gesamtbezuege_2013.mean()\n",
    "mean_2013"
   ]
  },
  {
   "cell_type": "markdown",
   "metadata": {},
   "source": [
    "### Veränderung 2013 - 2014"
   ]
  },
  {
   "cell_type": "code",
   "execution_count": 7,
   "metadata": {
    "collapsed": false
   },
   "outputs": [
    {
     "data": {
      "text/plain": [
       "17709.336841994664"
      ]
     },
     "execution_count": 7,
     "metadata": {},
     "output_type": "execute_result"
    }
   ],
   "source": [
    "# absolute\n",
    "mean_2014-mean_2013"
   ]
  },
  {
   "cell_type": "code",
   "execution_count": 8,
   "metadata": {
    "collapsed": false
   },
   "outputs": [
    {
     "data": {
      "text/plain": [
       "2.0740048445724959"
      ]
     },
     "execution_count": 8,
     "metadata": {},
     "output_type": "execute_result"
    }
   ],
   "source": [
    "# percent\n",
    "(mean_2014-mean_2013)/mean_2013*100"
   ]
  },
  {
   "cell_type": "code",
   "execution_count": 9,
   "metadata": {
    "collapsed": false
   },
   "outputs": [
    {
     "data": {
      "image/png": "[encoded data removed]",
      "text/plain": [
       "<matplotlib.figure.Figure at 0x7fcea948e208>"
      ]
     },
     "metadata": {},
     "output_type": "display_data"
    }
   ],
   "source": [
    "comparison_hist(df.gesamtbezuege_2013, df.gesamtbezuege_2014)"
   ]
  },
  {
   "cell_type": "markdown",
   "metadata": {},
   "source": [
    "## Wie viel verdient ein Vorstand durchschnittlich?"
   ]
  },
  {
   "cell_type": "code",
   "execution_count": 10,
   "metadata": {
    "collapsed": true
   },
   "outputs": [],
   "source": [
    "df['durchschnittsgehalt_2014'] = df.gesamtbezuege_2014 / df.anzahl_vorstaende_2014\n",
    "df['durchschnittsgehalt_2013'] = df.gesamtbezuege_2013 / df.anzahl_vorstaende_2013"
   ]
  },
  {
   "cell_type": "markdown",
   "metadata": {},
   "source": [
    "### Wie groß ist die Gehaltsspanne der Durchschnittsgehälter?"
   ]
  },
  {
   "cell_type": "code",
   "execution_count": 11,
   "metadata": {
    "collapsed": false
   },
   "outputs": [
    {
     "data": {
      "text/plain": [
       "(87586.206896551725, 853658.53658536589)"
      ]
     },
     "execution_count": 11,
     "metadata": {},
     "output_type": "execute_result"
    }
   ],
   "source": [
    "df.durchschnittsgehalt_2014.min(), df.durchschnittsgehalt_2014.max()"
   ]
  },
  {
   "cell_type": "code",
   "execution_count": 12,
   "metadata": {
    "collapsed": false
   },
   "outputs": [
    {
     "data": {
      "text/plain": [
       "766072.32968881412"
      ]
     },
     "execution_count": 12,
     "metadata": {},
     "output_type": "execute_result"
    }
   ],
   "source": [
    "df.durchschnittsgehalt_2014.max() - df.durchschnittsgehalt_2014.min()"
   ]
  },
  {
   "cell_type": "markdown",
   "metadata": {},
   "source": [
    "### Top 10: Bei diesen Sparkassen verdienen die Vorstände durchschnittlich am meisten\n"
   ]
  },
  {
   "cell_type": "code",
   "execution_count": 13,
   "metadata": {
    "collapsed": false
   },
   "outputs": [
    {
     "data": {
      "text/html": [
       "<div>\n",
       "<table border=\"1\" class=\"dataframe\">\n",
       "  <thead>\n",
       "    <tr style=\"text-align: right;\">\n",
       "      <th></th>\n",
       "      <th>sparkasse</th>\n",
       "      <th>gesamtbezuege_2014</th>\n",
       "      <th>durchschnittsgehalt_2014</th>\n",
       "      <th>anzahl_vorstaende_2014</th>\n",
       "    </tr>\n",
       "  </thead>\n",
       "  <tbody>\n",
       "    <tr>\n",
       "      <th>287</th>\n",
       "      <td>Hamburger Sparkasse AG</td>\n",
       "      <td>4200000.0</td>\n",
       "      <td>853658.536585</td>\n",
       "      <td>4.92</td>\n",
       "    </tr>\n",
       "    <tr>\n",
       "      <th>285</th>\n",
       "      <td>Kreissparkasse Köln</td>\n",
       "      <td>3521400.0</td>\n",
       "      <td>704280.000000</td>\n",
       "      <td>5.00</td>\n",
       "    </tr>\n",
       "    <tr>\n",
       "      <th>286</th>\n",
       "      <td>Berliner Sparkasse</td>\n",
       "      <td>3911000.0</td>\n",
       "      <td>651833.333333</td>\n",
       "      <td>6.00</td>\n",
       "    </tr>\n",
       "    <tr>\n",
       "      <th>278</th>\n",
       "      <td>Sparkasse Hannover</td>\n",
       "      <td>2246000.0</td>\n",
       "      <td>613661.202186</td>\n",
       "      <td>3.66</td>\n",
       "    </tr>\n",
       "    <tr>\n",
       "      <th>282</th>\n",
       "      <td>Frankfurter Sparkasse</td>\n",
       "      <td>2452000.0</td>\n",
       "      <td>613000.000000</td>\n",
       "      <td>4.00</td>\n",
       "    </tr>\n",
       "    <tr>\n",
       "      <th>280</th>\n",
       "      <td>Die Sparkasse Bremen AG</td>\n",
       "      <td>2400000.0</td>\n",
       "      <td>600000.000000</td>\n",
       "      <td>4.00</td>\n",
       "    </tr>\n",
       "    <tr>\n",
       "      <th>277</th>\n",
       "      <td>Sparkasse Münsterland Ost</td>\n",
       "      <td>2224000.0</td>\n",
       "      <td>556000.000000</td>\n",
       "      <td>4.00</td>\n",
       "    </tr>\n",
       "    <tr>\n",
       "      <th>284</th>\n",
       "      <td>Sparkasse Aachen</td>\n",
       "      <td>2724000.0</td>\n",
       "      <td>544800.000000</td>\n",
       "      <td>5.00</td>\n",
       "    </tr>\n",
       "    <tr>\n",
       "      <th>263</th>\n",
       "      <td>Stadt- und Kreissparkasse Leipzig</td>\n",
       "      <td>1627000.0</td>\n",
       "      <td>542333.333333</td>\n",
       "      <td>3.00</td>\n",
       "    </tr>\n",
       "    <tr>\n",
       "      <th>262</th>\n",
       "      <td>Kreissparkasse Ludwigsburg</td>\n",
       "      <td>1607000.0</td>\n",
       "      <td>535666.666667</td>\n",
       "      <td>3.00</td>\n",
       "    </tr>\n",
       "  </tbody>\n",
       "</table>\n",
       "</div>"
      ],
      "text/plain": [
       "                             sparkasse  gesamtbezuege_2014  \\\n",
       "287             Hamburger Sparkasse AG           4200000.0   \n",
       "285                Kreissparkasse Köln           3521400.0   \n",
       "286                 Berliner Sparkasse           3911000.0   \n",
       "278                 Sparkasse Hannover           2246000.0   \n",
       "282              Frankfurter Sparkasse           2452000.0   \n",
       "280            Die Sparkasse Bremen AG           2400000.0   \n",
       "277          Sparkasse Münsterland Ost           2224000.0   \n",
       "284                   Sparkasse Aachen           2724000.0   \n",
       "263  Stadt- und Kreissparkasse Leipzig           1627000.0   \n",
       "262         Kreissparkasse Ludwigsburg           1607000.0   \n",
       "\n",
       "     durchschnittsgehalt_2014  anzahl_vorstaende_2014  \n",
       "287             853658.536585                    4.92  \n",
       "285             704280.000000                    5.00  \n",
       "286             651833.333333                    6.00  \n",
       "278             613661.202186                    3.66  \n",
       "282             613000.000000                    4.00  \n",
       "280             600000.000000                    4.00  \n",
       "277             556000.000000                    4.00  \n",
       "284             544800.000000                    5.00  \n",
       "263             542333.333333                    3.00  \n",
       "262             535666.666667                    3.00  "
      ]
     },
     "execution_count": 13,
     "metadata": {},
     "output_type": "execute_result"
    }
   ],
   "source": [
    "df.sort_values('durchschnittsgehalt_2014', ascending=False)[\n",
    "    ['sparkasse', 'gesamtbezuege_2014', 'durchschnittsgehalt_2014', 'anzahl_vorstaende_2014']][:10]"
   ]
  },
  {
   "cell_type": "markdown",
   "metadata": {},
   "source": [
    "## Vorstands-Durchschnittsgehalt im Zusammenhang mit..."
   ]
  },
  {
   "cell_type": "markdown",
   "metadata": {},
   "source": [
    "### Bemessungsgrundlage"
   ]
  },
  {
   "cell_type": "code",
   "execution_count": 14,
   "metadata": {
    "collapsed": true
   },
   "outputs": [],
   "source": [
    "df['bemessung_2014'] = df.bilanzsumme_2014 + df.eigenkapital_2014*10 + df.vergebene_kredite_2014\n",
    "df['bemessung_2013'] = df.bilanzsumme_2013 + df.eigenkapital_2013*10 + df.vergebene_kredite_2013"
   ]
  },
  {
   "cell_type": "code",
   "execution_count": 15,
   "metadata": {
    "collapsed": false
   },
   "outputs": [
    {
     "data": {
      "text/plain": [
       "<matplotlib.axes._subplots.AxesSubplot at 0x7fcea7399a20>"
      ]
     },
     "execution_count": 15,
     "metadata": {},
     "output_type": "execute_result"
    },
    {
     "data": {
      "image/png": "[encoded data removed]",
      "text/plain": [
       "<matplotlib.figure.Figure at 0x7fcea738fc88>"
      ]
     },
     "metadata": {},
     "output_type": "display_data"
    }
   ],
   "source": [
    "df.plot.scatter('bemessung_2014', 'durchschnittsgehalt_2014')"
   ]
  },
  {
   "cell_type": "markdown",
   "metadata": {},
   "source": [
    "### Mitarbeiteranzahl"
   ]
  },
  {
   "cell_type": "code",
   "execution_count": 16,
   "metadata": {
    "collapsed": false
   },
   "outputs": [
    {
     "data": {
      "text/plain": [
       "<matplotlib.axes._subplots.AxesSubplot at 0x7fcea7357940>"
      ]
     },
     "execution_count": 16,
     "metadata": {},
     "output_type": "execute_result"
    },
    {
     "data": {
      "image/png": "[encoded data removed]",
      "text/plain": [
       "<matplotlib.figure.Figure at 0x7fcea73163c8>"
      ]
     },
     "metadata": {},
     "output_type": "display_data"
    }
   ],
   "source": [
    "df[df.mitarbeiter_2014 > df.mitarbeiter_2014.min()].plot.scatter('mitarbeiter_2014', 'durchschnittsgehalt_2014')"
   ]
  },
  {
   "cell_type": "markdown",
   "metadata": {},
   "source": [
    "### Jahresüberschuss"
   ]
  },
  {
   "cell_type": "code",
   "execution_count": 17,
   "metadata": {
    "collapsed": false
   },
   "outputs": [
    {
     "data": {
      "text/plain": [
       "<matplotlib.axes._subplots.AxesSubplot at 0x7fcea73fb860>"
      ]
     },
     "execution_count": 17,
     "metadata": {},
     "output_type": "execute_result"
    },
    {
     "data": {
      "image/png": "[encoded data removed]",
      "text/plain": [
       "<matplotlib.figure.Figure at 0x7fcea728ec18>"
      ]
     },
     "metadata": {},
     "output_type": "display_data"
    }
   ],
   "source": [
    "df[(df.jahresueberschuss_2014 > 0) & (df.durchschnittsgehalt_2014 > 0)].plot.scatter('jahresueberschuss_2014', 'durchschnittsgehalt_2014')"
   ]
  },
  {
   "cell_type": "markdown",
   "metadata": {},
   "source": [
    "### Löhne & Gehälter gesamt"
   ]
  },
  {
   "cell_type": "code",
   "execution_count": 18,
   "metadata": {
    "collapsed": false
   },
   "outputs": [
    {
     "data": {
      "text/plain": [
       "<matplotlib.axes._subplots.AxesSubplot at 0x7fcea7203550>"
      ]
     },
     "execution_count": 18,
     "metadata": {},
     "output_type": "execute_result"
    },
    {
     "data": {
      "image/png": "[encoded data removed]",
      "text/plain": [
       "<matplotlib.figure.Figure at 0x7fcea72093c8>"
      ]
     },
     "metadata": {},
     "output_type": "display_data"
    }
   ],
   "source": [
    "df.plot.scatter('loehne_und_gehaelter_2014', 'durchschnittsgehalt_2014')"
   ]
  },
  {
   "cell_type": "markdown",
   "metadata": {},
   "source": [
    "### Löhne & Gehälter (Mitarbeiter) Durchschnitt"
   ]
  },
  {
   "cell_type": "code",
   "execution_count": 19,
   "metadata": {
    "collapsed": false
   },
   "outputs": [
    {
     "data": {
      "text/plain": [
       "<matplotlib.axes._subplots.AxesSubplot at 0x7fcea72f9f60>"
      ]
     },
     "execution_count": 19,
     "metadata": {},
     "output_type": "execute_result"
    },
    {
     "data": {
      "image/png": "[encoded data removed]",
      "text/plain": [
       "<matplotlib.figure.Figure at 0x7fcea722c080>"
      ]
     },
     "metadata": {},
     "output_type": "display_data"
    }
   ],
   "source": [
    "df['loehne_und_gehaelter_2014_pro_ma'] = df.loehne_und_gehaelter_2014/df.mitarbeiter_2014\n",
    "df[df.loehne_und_gehaelter_2014_pro_ma < df.loehne_und_gehaelter_2014_pro_ma.max()].plot.scatter('loehne_und_gehaelter_2014_pro_ma', 'durchschnittsgehalt_2014')"
   ]
  },
  {
   "cell_type": "markdown",
   "metadata": {},
   "source": [
    "## Bundesland-Vergleich"
   ]
  },
  {
   "cell_type": "code",
   "execution_count": 20,
   "metadata": {
    "collapsed": false
   },
   "outputs": [
    {
     "data": {
      "text/html": [
       "<div>\n",
       "<table border=\"1\" class=\"dataframe\">\n",
       "  <thead>\n",
       "    <tr style=\"text-align: right;\">\n",
       "      <th></th>\n",
       "      <th>state</th>\n",
       "      <th>durchschnittsgehalt_2014_wt</th>\n",
       "      <th>anzahl_beruecksichtigt</th>\n",
       "      <th>anzahl_gesamt</th>\n",
       "      <th>daten_abdeckung</th>\n",
       "    </tr>\n",
       "  </thead>\n",
       "  <tbody>\n",
       "    <tr>\n",
       "      <th>4</th>\n",
       "      <td>Bremen</td>\n",
       "      <td>600000.000000</td>\n",
       "      <td>1</td>\n",
       "      <td>1</td>\n",
       "      <td>1.000000</td>\n",
       "    </tr>\n",
       "    <tr>\n",
       "      <th>9</th>\n",
       "      <td>Nordrhein-Westfalen</td>\n",
       "      <td>436309.231269</td>\n",
       "      <td>103</td>\n",
       "      <td>105</td>\n",
       "      <td>0.980952</td>\n",
       "    </tr>\n",
       "    <tr>\n",
       "      <th>12</th>\n",
       "      <td>Sachsen</td>\n",
       "      <td>406400.837141</td>\n",
       "      <td>8</td>\n",
       "      <td>12</td>\n",
       "      <td>0.666667</td>\n",
       "    </tr>\n",
       "    <tr>\n",
       "      <th>6</th>\n",
       "      <td>Hessen</td>\n",
       "      <td>343858.582904</td>\n",
       "      <td>33</td>\n",
       "      <td>34</td>\n",
       "      <td>0.970588</td>\n",
       "    </tr>\n",
       "    <tr>\n",
       "      <th>1</th>\n",
       "      <td>Bayern</td>\n",
       "      <td>338945.830777</td>\n",
       "      <td>64</td>\n",
       "      <td>71</td>\n",
       "      <td>0.901408</td>\n",
       "    </tr>\n",
       "    <tr>\n",
       "      <th>11</th>\n",
       "      <td>Saarland</td>\n",
       "      <td>281674.431302</td>\n",
       "      <td>7</td>\n",
       "      <td>7</td>\n",
       "      <td>1.000000</td>\n",
       "    </tr>\n",
       "    <tr>\n",
       "      <th>15</th>\n",
       "      <td>Thüringen</td>\n",
       "      <td>246175.923204</td>\n",
       "      <td>16</td>\n",
       "      <td>16</td>\n",
       "      <td>1.000000</td>\n",
       "    </tr>\n",
       "    <tr>\n",
       "      <th>3</th>\n",
       "      <td>Brandenburg</td>\n",
       "      <td>238161.020762</td>\n",
       "      <td>4</td>\n",
       "      <td>11</td>\n",
       "      <td>0.363636</td>\n",
       "    </tr>\n",
       "    <tr>\n",
       "      <th>14</th>\n",
       "      <td>Schleswig-Holstein</td>\n",
       "      <td>216069.989438</td>\n",
       "      <td>8</td>\n",
       "      <td>13</td>\n",
       "      <td>0.615385</td>\n",
       "    </tr>\n",
       "    <tr>\n",
       "      <th>8</th>\n",
       "      <td>Niedersachsen</td>\n",
       "      <td>178903.484197</td>\n",
       "      <td>7</td>\n",
       "      <td>46</td>\n",
       "      <td>0.152174</td>\n",
       "    </tr>\n",
       "    <tr>\n",
       "      <th>7</th>\n",
       "      <td>Mecklenburg-Vorpommern</td>\n",
       "      <td>170850.474581</td>\n",
       "      <td>2</td>\n",
       "      <td>9</td>\n",
       "      <td>0.222222</td>\n",
       "    </tr>\n",
       "    <tr>\n",
       "      <th>0</th>\n",
       "      <td>Baden-Württemberg</td>\n",
       "      <td>166537.704793</td>\n",
       "      <td>25</td>\n",
       "      <td>53</td>\n",
       "      <td>0.471698</td>\n",
       "    </tr>\n",
       "    <tr>\n",
       "      <th>10</th>\n",
       "      <td>Rheinland-Pfalz</td>\n",
       "      <td>65447.430429</td>\n",
       "      <td>3</td>\n",
       "      <td>24</td>\n",
       "      <td>0.125000</td>\n",
       "    </tr>\n",
       "    <tr>\n",
       "      <th>13</th>\n",
       "      <td>Sachsen-Anhalt</td>\n",
       "      <td>39077.642127</td>\n",
       "      <td>3</td>\n",
       "      <td>13</td>\n",
       "      <td>0.230769</td>\n",
       "    </tr>\n",
       "    <tr>\n",
       "      <th>2</th>\n",
       "      <td>Berlin</td>\n",
       "      <td>NaN</td>\n",
       "      <td>0</td>\n",
       "      <td>1</td>\n",
       "      <td>0.000000</td>\n",
       "    </tr>\n",
       "    <tr>\n",
       "      <th>5</th>\n",
       "      <td>Hamburg</td>\n",
       "      <td>NaN</td>\n",
       "      <td>0</td>\n",
       "      <td>1</td>\n",
       "      <td>0.000000</td>\n",
       "    </tr>\n",
       "  </tbody>\n",
       "</table>\n",
       "</div>"
      ],
      "text/plain": [
       "                     state  durchschnittsgehalt_2014_wt  \\\n",
       "4                   Bremen                600000.000000   \n",
       "9      Nordrhein-Westfalen                436309.231269   \n",
       "12                 Sachsen                406400.837141   \n",
       "6                   Hessen                343858.582904   \n",
       "1                   Bayern                338945.830777   \n",
       "11                Saarland                281674.431302   \n",
       "15               Thüringen                246175.923204   \n",
       "3              Brandenburg                238161.020762   \n",
       "14      Schleswig-Holstein                216069.989438   \n",
       "8            Niedersachsen                178903.484197   \n",
       "7   Mecklenburg-Vorpommern                170850.474581   \n",
       "0        Baden-Württemberg                166537.704793   \n",
       "10         Rheinland-Pfalz                 65447.430429   \n",
       "13          Sachsen-Anhalt                 39077.642127   \n",
       "2                   Berlin                          NaN   \n",
       "5                  Hamburg                          NaN   \n",
       "\n",
       "    anzahl_beruecksichtigt  anzahl_gesamt  daten_abdeckung  \n",
       "4                        1              1         1.000000  \n",
       "9                      103            105         0.980952  \n",
       "12                       8             12         0.666667  \n",
       "6                       33             34         0.970588  \n",
       "1                       64             71         0.901408  \n",
       "11                       7              7         1.000000  \n",
       "15                      16             16         1.000000  \n",
       "3                        4             11         0.363636  \n",
       "14                       8             13         0.615385  \n",
       "8                        7             46         0.152174  \n",
       "7                        2              9         0.222222  \n",
       "0                       25             53         0.471698  \n",
       "10                       3             24         0.125000  \n",
       "13                       3             13         0.230769  \n",
       "2                        0              1         0.000000  \n",
       "5                        0              1         0.000000  "
      ]
     },
     "execution_count": 20,
     "metadata": {},
     "output_type": "execute_result"
    }
   ],
   "source": [
    "# weighted avg by 'bemessung' via groupby:\n",
    "df['durchschnittsgehalt_wt_2014'] = df.durchschnittsgehalt_2014*df.bemessung_2014\n",
    "df['durchschnittsgehalt_wt_2013'] = df.durchschnittsgehalt_2013*df.bemessung_2013\n",
    "df['anzahl_beruecksichtigt'] = df.durchschnittsgehalt_wt_2014.map(lambda x: 1 if x > 0 else 0)\n",
    "df['anzahl_gesamt'] = 1\n",
    "df_states = df.groupby('state', as_index=False).sum()\n",
    "df_states['durchschnittsgehalt_2014_wt'] = df_states.durchschnittsgehalt_wt_2014/df_states.bemessung_2014\n",
    "df_states['durchschnittsgehalt_2013_wt'] = df_states.durchschnittsgehalt_wt_2013/df_states.bemessung_2013\n",
    "df_states['daten_abdeckung'] = df_states.anzahl_beruecksichtigt / df_states.anzahl_gesamt\n",
    "df_states[['state', 'durchschnittsgehalt_2014_wt', 'anzahl_beruecksichtigt', 'anzahl_gesamt', 'daten_abdeckung']].sort_values('durchschnittsgehalt_2014_wt', ascending=False)"
   ]
  },
  {
   "cell_type": "code",
   "execution_count": 21,
   "metadata": {
    "collapsed": false
   },
   "outputs": [
    {
     "data": {
      "text/plain": [
       "<matplotlib.axes._subplots.AxesSubplot at 0x7fcea73fb5f8>"
      ]
     },
     "execution_count": 21,
     "metadata": {},
     "output_type": "execute_result"
    },
    {
     "data": {
      "image/png": "[encoded data removed]",
      "text/plain": [
       "<matplotlib.figure.Figure at 0x7fcea72ad7f0>"
      ]
     },
     "metadata": {},
     "output_type": "display_data"
    }
   ],
   "source": [
    "df_states.plot.bar('state', 'durchschnittsgehalt_2014_wt')"
   ]
  },
  {
   "cell_type": "markdown",
   "metadata": {},
   "source": [
    "## Ost-West"
   ]
  },
  {
   "cell_type": "code",
   "execution_count": 22,
   "metadata": {
    "collapsed": false
   },
   "outputs": [
    {
     "data": {
      "text/html": [
       "<div>\n",
       "<table border=\"1\" class=\"dataframe\">\n",
       "  <thead>\n",
       "    <tr style=\"text-align: right;\">\n",
       "      <th></th>\n",
       "      <th>region</th>\n",
       "      <th>durchschnittsgehalt_2014_wt</th>\n",
       "    </tr>\n",
       "  </thead>\n",
       "  <tbody>\n",
       "    <tr>\n",
       "      <th>0</th>\n",
       "      <td>ost</td>\n",
       "      <td>259900.208195</td>\n",
       "    </tr>\n",
       "    <tr>\n",
       "      <th>1</th>\n",
       "      <td>west</td>\n",
       "      <td>298003.415493</td>\n",
       "    </tr>\n",
       "  </tbody>\n",
       "</table>\n",
       "</div>"
      ],
      "text/plain": [
       "  region  durchschnittsgehalt_2014_wt\n",
       "0    ost                259900.208195\n",
       "1   west                298003.415493"
      ]
     },
     "execution_count": 22,
     "metadata": {},
     "output_type": "execute_result"
    }
   ],
   "source": [
    "# get region\n",
    "df['region'] = df.verband.map(lambda x: 'ost' if x == 'OSV' else 'west')\n",
    "\n",
    "# weighted avg by 'bemessung' via groupby:\n",
    "df_region = df.groupby('region', as_index=False).sum()\n",
    "df_region['durchschnittsgehalt_2014_wt'] = df_region.durchschnittsgehalt_wt_2014/df_region.bemessung_2014\n",
    "df_region['durchschnittsgehalt_2013_wt'] = df_region.durchschnittsgehalt_wt_2013/df_region.bemessung_2013\n",
    "df_region[['region', 'durchschnittsgehalt_2014_wt']]"
   ]
  },
  {
   "cell_type": "code",
   "execution_count": 23,
   "metadata": {
    "collapsed": false
   },
   "outputs": [
    {
     "data": {
      "text/plain": [
       "<matplotlib.axes._subplots.AxesSubplot at 0x7fcea70b14a8>"
      ]
     },
     "execution_count": 23,
     "metadata": {},
     "output_type": "execute_result"
    },
    {
     "data": {
      "image/png": "[encoded data removed]",
      "text/plain": [
       "<matplotlib.figure.Figure at 0x7fcea71e74e0>"
      ]
     },
     "metadata": {},
     "output_type": "display_data"
    }
   ],
   "source": [
    "df_region.plot.bar('region', 'durchschnittsgehalt_2014_wt')"
   ]
  },
  {
   "cell_type": "markdown",
   "metadata": {},
   "source": [
    "### absoluter Unterschied Ost-West"
   ]
  },
  {
   "cell_type": "code",
   "execution_count": 24,
   "metadata": {
    "collapsed": false
   },
   "outputs": [
    {
     "data": {
      "text/plain": [
       "38103.207297443354"
      ]
     },
     "execution_count": 24,
     "metadata": {},
     "output_type": "execute_result"
    }
   ],
   "source": [
    "df_region['durchschnittsgehalt_2014_wt'][1] - df_region['durchschnittsgehalt_2014_wt'][0]"
   ]
  },
  {
   "cell_type": "markdown",
   "metadata": {},
   "source": [
    "## Exkurs: Was verdienen die Mitarbeiter?"
   ]
  },
  {
   "cell_type": "code",
   "execution_count": 25,
   "metadata": {
    "collapsed": false
   },
   "outputs": [
    {
     "data": {
      "image/png": "[encoded data removed]",
      "text/plain": [
       "<matplotlib.figure.Figure at 0x7fcea70056d8>"
      ]
     },
     "metadata": {},
     "output_type": "display_data"
    }
   ],
   "source": [
    "df['mitarbeitergehaelter_2014'] = df.loehne_und_gehaelter_2014-df.gesamtbezuege_2014\n",
    "df['mitarbeitergehaelter_2013'] = df.loehne_und_gehaelter_2013-df.gesamtbezuege_2013\n",
    "\n",
    "comparison_hist(df.mitarbeitergehaelter_2013, df.mitarbeitergehaelter_2014)"
   ]
  },
  {
   "cell_type": "code",
   "execution_count": 26,
   "metadata": {
    "collapsed": false
   },
   "outputs": [
    {
     "data": {
      "image/png": "[encoded data removed]",
      "text/plain": [
       "<matplotlib.figure.Figure at 0x7fcea94fd860>"
      ]
     },
     "metadata": {},
     "output_type": "display_data"
    }
   ],
   "source": [
    "df['mitarbeiter_durchschnitt_2014'] = df.mitarbeitergehaelter_2014/df.mitarbeiter_2014\n",
    "df['mitarbeiter_durchschnitt_2013'] = df.mitarbeitergehaelter_2013/df.mitarbeiter_2013\n",
    "\n",
    "# fix some data errors on the edges\n",
    "df = df[df.mitarbeiter_durchschnitt_2014 < df.mitarbeiter_durchschnitt_2014.max()]\n",
    "df = df[df.mitarbeiter_durchschnitt_2014 > df.mitarbeiter_durchschnitt_2014.min()]\n",
    "\n",
    "comparison_hist(df.mitarbeiter_durchschnitt_2013, df.mitarbeiter_durchschnitt_2014)"
   ]
  },
  {
   "cell_type": "markdown",
   "metadata": {},
   "source": [
    "**Prozentualer Anstieg des durchschnittlichen Mitarbeitergehalts 2013 zu 2014**"
   ]
  },
  {
   "cell_type": "code",
   "execution_count": 27,
   "metadata": {
    "collapsed": false
   },
   "outputs": [
    {
     "data": {
      "text/plain": [
       "2.4788959460415607"
      ]
     },
     "execution_count": 27,
     "metadata": {},
     "output_type": "execute_result"
    }
   ],
   "source": [
    "(df.mitarbeitergehaelter_2014.mean()-df.mitarbeitergehaelter_2013.mean())/df.mitarbeitergehaelter_2013.mean()*100"
   ]
  }
 ],
 "metadata": {
  "kernelspec": {
   "display_name": "Python 3",
   "language": "python",
   "name": "python3"
  },
  "language_info": {
   "codemirror_mode": {
    "name": "ipython",
    "version": 3
   },
   "file_extension": ".py",
   "mimetype": "text/x-python",
   "name": "python",
   "nbconvert_exporter": "python",
   "pygments_lexer": "ipython3",
   "version": "3.5.1+"
  }
 },
 "nbformat": 4,
 "nbformat_minor": 0
}
