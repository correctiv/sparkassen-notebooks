{
 "cells": [
  {
   "cell_type": "code",
   "execution_count": 1,
   "metadata": {
    "collapsed": false
   },
   "outputs": [],
   "source": [
    "import numpy as np\n",
    "import pandas as pd\n",
    "import matplotlib\n",
    "import matplotlib.pyplot as plt\n",
    "%matplotlib inline\n",
    "\n",
    "# PLOT UTILS\n",
    "def comparison_hist(a, b):\n",
    "    fig, ax = plt.subplots()\n",
    "    ranges = (min(a.min(), b.min()), max(a.max(), b.max()))\n",
    "    a_heights, a_bins = np.histogram(a, range=ranges)\n",
    "    b_heights, b_bins = np.histogram(b, range=ranges, bins=a_bins)\n",
    "    width = (a_bins[1] - a_bins[0])/3\n",
    "    ax.bar(a_bins[:-1], a_heights, width=width, facecolor='green')\n",
    "    ax.bar(b_bins[:-1]+width, b_heights, width=width, facecolor='blue')\n",
    "    \n",
    "def comparison_scat(df, a, b):\n",
    "    fig, ax = plt.subplots()\n",
    "    ax.scatter(a[0], a[1], s=10, c='green', label='a')\n",
    "    ax.scatter(b[0], b[1], s=10, c='blue', label='b')"
   ]
  },
  {
   "cell_type": "markdown",
   "metadata": {},
   "source": [
    "# Vorstände - Gesamtdaten\n",
    "\n",
    "Diese beinhaltet Gesamtbezüge und Anzahl Vorstände und daraus errechnetes durchschnittl. Gehalt für 2013 und 2014 (selber gesammelte Werte). Als Relationsgrößen setzen wir die Größe der Sparkasse, die wir durch die Werte Bilanzsumme, Vergebene Kredite und Anzahl Mitarbeiter errechnen, alles Werte aus dem Crowdnewsromm)"
   ]
  },
  {
   "cell_type": "markdown",
   "metadata": {},
   "source": [
    "**TODO**: Wo ist der Gehaltsunterschied bei etwa gleich großen Sparkassen am größten?"
   ]
  },
  {
   "cell_type": "code",
   "execution_count": 2,
   "metadata": {
    "collapsed": false
   },
   "outputs": [],
   "source": [
    "df = pd.read_csv('./data/jahresabschluss_kerndaten.csv')"
   ]
  },
  {
   "cell_type": "markdown",
   "metadata": {},
   "source": [
    "## Von wie vielen Sparkassen haben wir diese Gehaltswerte erfasst?"
   ]
  },
  {
   "cell_type": "code",
   "execution_count": 3,
   "metadata": {
    "collapsed": false
   },
   "outputs": [
    {
     "data": {
      "text/plain": [
       "288"
      ]
     },
     "execution_count": 3,
     "metadata": {},
     "output_type": "execute_result"
    }
   ],
   "source": [
    "# 2013\n",
    "len(df[pd.notnull(df.gesamtbezuege_2013)].index)"
   ]
  },
  {
   "cell_type": "code",
   "execution_count": 4,
   "metadata": {
    "collapsed": false
   },
   "outputs": [
    {
     "data": {
      "text/plain": [
       "292"
      ]
     },
     "execution_count": 4,
     "metadata": {},
     "output_type": "execute_result"
    }
   ],
   "source": [
    "# 2014\n",
    "len(df[pd.notnull(df.gesamtbezuege_2014)].index)"
   ]
  },
  {
   "cell_type": "markdown",
   "metadata": {},
   "source": [
    "## Wie entwickelten sich die Gesamtbezüge?"
   ]
  },
  {
   "cell_type": "markdown",
   "metadata": {},
   "source": [
    "### 2014"
   ]
  },
  {
   "cell_type": "code",
   "execution_count": 5,
   "metadata": {
    "collapsed": false
   },
   "outputs": [
    {
     "data": {
      "text/plain": [
       "859430.86986301374"
      ]
     },
     "execution_count": 5,
     "metadata": {},
     "output_type": "execute_result"
    }
   ],
   "source": [
    "mean_2014 = df.gesamtbezuege_2014.mean()\n",
    "mean_2014"
   ]
  },
  {
   "cell_type": "markdown",
   "metadata": {},
   "source": [
    "### 2013"
   ]
  },
  {
   "cell_type": "code",
   "execution_count": 6,
   "metadata": {
    "collapsed": false
   },
   "outputs": [
    {
     "data": {
      "text/plain": [
       "845776.9815625"
      ]
     },
     "execution_count": 6,
     "metadata": {},
     "output_type": "execute_result"
    }
   ],
   "source": [
    "mean_2013 = df.gesamtbezuege_2013.mean()\n",
    "mean_2013"
   ]
  },
  {
   "cell_type": "markdown",
   "metadata": {},
   "source": [
    "### Veränderung 2013 - 2014"
   ]
  },
  {
   "cell_type": "code",
   "execution_count": 7,
   "metadata": {
    "collapsed": false
   },
   "outputs": [
    {
     "data": {
      "text/plain": [
       "13653.888300513732"
      ]
     },
     "execution_count": 7,
     "metadata": {},
     "output_type": "execute_result"
    }
   ],
   "source": [
    "# absolute\n",
    "mean_2014-mean_2013"
   ]
  },
  {
   "cell_type": "code",
   "execution_count": 8,
   "metadata": {
    "collapsed": false
   },
   "outputs": [
    {
     "data": {
      "text/plain": [
       "1.6143603571817895"
      ]
     },
     "execution_count": 8,
     "metadata": {},
     "output_type": "execute_result"
    }
   ],
   "source": [
    "# percent\n",
    "(mean_2014-mean_2013)/mean_2013*100"
   ]
  },
  {
   "cell_type": "code",
   "execution_count": 9,
   "metadata": {
    "collapsed": false
   },
   "outputs": [
    {
     "data": {
      "image/png": "[encoded data removed]",
      "text/plain": [
       "<matplotlib.figure.Figure at 0x7f7be4952908>"
      ]
     },
     "metadata": {},
     "output_type": "display_data"
    }
   ],
   "source": [
    "comparison_hist(df.gesamtbezuege_2013, df.gesamtbezuege_2014)"
   ]
  },
  {
   "cell_type": "markdown",
   "metadata": {},
   "source": [
    "## Wie viel verdient ein Vorstand durchschnittlich?"
   ]
  },
  {
   "cell_type": "code",
   "execution_count": 10,
   "metadata": {
    "collapsed": true
   },
   "outputs": [],
   "source": [
    "df['durchschnittsgehalt_2014'] = df.gesamtbezuege_2014 / df.anzahl_vorstaende_2014\n",
    "df['durchschnittsgehalt_2013'] = df.gesamtbezuege_2013 / df.anzahl_vorstaende_2013"
   ]
  },
  {
   "cell_type": "markdown",
   "metadata": {},
   "source": [
    "### Top 10: Bei diesen Sparkassen verdienen die Vorstände durchschnittlich am meisten\n"
   ]
  },
  {
   "cell_type": "code",
   "execution_count": 11,
   "metadata": {
    "collapsed": false
   },
   "outputs": [
    {
     "data": {
      "text/html": [
       "<div>\n",
       "<table border=\"1\" class=\"dataframe\">\n",
       "  <thead>\n",
       "    <tr style=\"text-align: right;\">\n",
       "      <th></th>\n",
       "      <th>sparkasse</th>\n",
       "      <th>gesamtbezuege_2014</th>\n",
       "      <th>durchschnittsgehalt_2014</th>\n",
       "      <th>anzahl_vorstaende_2014</th>\n",
       "    </tr>\n",
       "  </thead>\n",
       "  <tbody>\n",
       "    <tr>\n",
       "      <th>415</th>\n",
       "      <td>Hamburger Sparkasse AG</td>\n",
       "      <td>4200000.0</td>\n",
       "      <td>840000.000000</td>\n",
       "      <td>5.0</td>\n",
       "    </tr>\n",
       "    <tr>\n",
       "      <th>387</th>\n",
       "      <td>Stadtsparkasse Wuppertal</td>\n",
       "      <td>1557000.0</td>\n",
       "      <td>778500.000000</td>\n",
       "      <td>2.0</td>\n",
       "    </tr>\n",
       "    <tr>\n",
       "      <th>413</th>\n",
       "      <td>Kreissparkasse Köln</td>\n",
       "      <td>3521400.0</td>\n",
       "      <td>704280.000000</td>\n",
       "      <td>5.0</td>\n",
       "    </tr>\n",
       "    <tr>\n",
       "      <th>416</th>\n",
       "      <td>Berliner Sparkasse</td>\n",
       "      <td>3911000.0</td>\n",
       "      <td>651833.333333</td>\n",
       "      <td>6.0</td>\n",
       "    </tr>\n",
       "    <tr>\n",
       "      <th>410</th>\n",
       "      <td>Sparkasse Hannover</td>\n",
       "      <td>2246000.0</td>\n",
       "      <td>623888.888889</td>\n",
       "      <td>3.6</td>\n",
       "    </tr>\n",
       "    <tr>\n",
       "      <th>412</th>\n",
       "      <td>Frankfurter Sparkasse</td>\n",
       "      <td>2452000.0</td>\n",
       "      <td>613000.000000</td>\n",
       "      <td>4.0</td>\n",
       "    </tr>\n",
       "    <tr>\n",
       "      <th>407</th>\n",
       "      <td>Die Sparkasse Bremen AG</td>\n",
       "      <td>2400000.0</td>\n",
       "      <td>600000.000000</td>\n",
       "      <td>4.0</td>\n",
       "    </tr>\n",
       "    <tr>\n",
       "      <th>398</th>\n",
       "      <td>Sparkasse Münsterland Ost</td>\n",
       "      <td>2224000.0</td>\n",
       "      <td>556000.000000</td>\n",
       "      <td>4.0</td>\n",
       "    </tr>\n",
       "    <tr>\n",
       "      <th>402</th>\n",
       "      <td>Sparkasse Aachen</td>\n",
       "      <td>2724000.0</td>\n",
       "      <td>544800.000000</td>\n",
       "      <td>5.0</td>\n",
       "    </tr>\n",
       "    <tr>\n",
       "      <th>399</th>\n",
       "      <td>Stadt- und Kreissparkasse Leipzig</td>\n",
       "      <td>1627000.0</td>\n",
       "      <td>542333.333333</td>\n",
       "      <td>3.0</td>\n",
       "    </tr>\n",
       "  </tbody>\n",
       "</table>\n",
       "</div>"
      ],
      "text/plain": [
       "                             sparkasse  gesamtbezuege_2014  \\\n",
       "415             Hamburger Sparkasse AG           4200000.0   \n",
       "387           Stadtsparkasse Wuppertal           1557000.0   \n",
       "413                Kreissparkasse Köln           3521400.0   \n",
       "416                 Berliner Sparkasse           3911000.0   \n",
       "410                 Sparkasse Hannover           2246000.0   \n",
       "412              Frankfurter Sparkasse           2452000.0   \n",
       "407            Die Sparkasse Bremen AG           2400000.0   \n",
       "398          Sparkasse Münsterland Ost           2224000.0   \n",
       "402                   Sparkasse Aachen           2724000.0   \n",
       "399  Stadt- und Kreissparkasse Leipzig           1627000.0   \n",
       "\n",
       "     durchschnittsgehalt_2014  anzahl_vorstaende_2014  \n",
       "415             840000.000000                     5.0  \n",
       "387             778500.000000                     2.0  \n",
       "413             704280.000000                     5.0  \n",
       "416             651833.333333                     6.0  \n",
       "410             623888.888889                     3.6  \n",
       "412             613000.000000                     4.0  \n",
       "407             600000.000000                     4.0  \n",
       "398             556000.000000                     4.0  \n",
       "402             544800.000000                     5.0  \n",
       "399             542333.333333                     3.0  "
      ]
     },
     "execution_count": 11,
     "metadata": {},
     "output_type": "execute_result"
    }
   ],
   "source": [
    "df.sort_values('durchschnittsgehalt_2014', ascending=False)[\n",
    "    ['sparkasse', 'gesamtbezuege_2014', 'durchschnittsgehalt_2014', 'anzahl_vorstaende_2014']][:10]"
   ]
  },
  {
   "cell_type": "markdown",
   "metadata": {},
   "source": [
    "## Vorstand-Durchschnittsgehalt im Verhältnis zu..."
   ]
  },
  {
   "cell_type": "markdown",
   "metadata": {},
   "source": [
    "### Bemessungsgrundlage"
   ]
  },
  {
   "cell_type": "code",
   "execution_count": 12,
   "metadata": {
    "collapsed": true
   },
   "outputs": [],
   "source": [
    "df['bemessung_2014'] = df.bilanzsumme_2014 + df.eigenkapital_2014*10 + df.vergebene_kredite_2014\n",
    "df['bemessung_2013'] = df.bilanzsumme_2013 + df.eigenkapital_2013*10 + df.vergebene_kredite_2013"
   ]
  },
  {
   "cell_type": "code",
   "execution_count": 13,
   "metadata": {
    "collapsed": false
   },
   "outputs": [
    {
     "data": {
      "image/png": "[encoded data removed]",
      "text/plain": [
       "<matplotlib.figure.Figure at 0x7f7be282ad30>"
      ]
     },
     "metadata": {},
     "output_type": "display_data"
    }
   ],
   "source": [
    "df['durchschnittsgehalt_2014_pro_bem'] = df.durchschnittsgehalt_2014/df.bemessung_2014\n",
    "df['durchschnittsgehalt_2013_pro_bem'] = df.durchschnittsgehalt_2013/df.bemessung_2013\n",
    "comparison_hist(df.durchschnittsgehalt_2013_pro_bem, df.durchschnittsgehalt_2014_pro_bem)"
   ]
  },
  {
   "cell_type": "markdown",
   "metadata": {},
   "source": [
    "### Bilanzsumme"
   ]
  },
  {
   "cell_type": "code",
   "execution_count": 14,
   "metadata": {
    "collapsed": false
   },
   "outputs": [
    {
     "data": {
      "image/png": "[encoded data removed]",
      "text/plain": [
       "<matplotlib.figure.Figure at 0x7f7be2759b70>"
      ]
     },
     "metadata": {},
     "output_type": "display_data"
    }
   ],
   "source": [
    "df['durchschnittsgehalt_2014_pro_bs'] = df.durchschnittsgehalt_2014/df.bilanzsumme_2014\n",
    "df['durchschnittsgehalt_2013_pro_bs'] = df.durchschnittsgehalt_2013/df.bilanzsumme_2013\n",
    "comparison_hist(df.durchschnittsgehalt_2013_pro_bs, df.durchschnittsgehalt_2014_pro_bs)"
   ]
  },
  {
   "cell_type": "markdown",
   "metadata": {},
   "source": [
    "### Vergebene Kredite"
   ]
  },
  {
   "cell_type": "code",
   "execution_count": 15,
   "metadata": {
    "collapsed": false
   },
   "outputs": [
    {
     "data": {
      "image/png": "[encoded data removed]",
      "text/plain": [
       "<matplotlib.figure.Figure at 0x7f7be2753a90>"
      ]
     },
     "metadata": {},
     "output_type": "display_data"
    }
   ],
   "source": [
    "df['durchschnittsgehalt_2014_pro_vg'] = df.durchschnittsgehalt_2014/df.vergebene_kredite_2014\n",
    "df['durchschnittsgehalt_2013_pro_vg'] = df.durchschnittsgehalt_2013/df.vergebene_kredite_2013\n",
    "comparison_hist(df.durchschnittsgehalt_2013_pro_vg, df.durchschnittsgehalt_2014_pro_vg)"
   ]
  },
  {
   "cell_type": "markdown",
   "metadata": {},
   "source": [
    "## Vorstands-Durchschnittsgehalt im Zusammenhang mit..."
   ]
  },
  {
   "cell_type": "markdown",
   "metadata": {},
   "source": [
    "### Bemessungsgrundlage"
   ]
  },
  {
   "cell_type": "code",
   "execution_count": 16,
   "metadata": {
    "collapsed": false
   },
   "outputs": [
    {
     "data": {
      "text/plain": [
       "<matplotlib.axes._subplots.AxesSubplot at 0x7f7be2643dd8>"
      ]
     },
     "execution_count": 16,
     "metadata": {},
     "output_type": "execute_result"
    },
    {
     "data": {
      "image/png": "[encoded data removed]",
      "text/plain": [
       "<matplotlib.figure.Figure at 0x7f7be2753b00>"
      ]
     },
     "metadata": {},
     "output_type": "display_data"
    }
   ],
   "source": [
    "df.plot.scatter('bemessung_2014', 'durchschnittsgehalt_2014')"
   ]
  },
  {
   "cell_type": "markdown",
   "metadata": {},
   "source": [
    "### Mitarbeiteranzahl"
   ]
  },
  {
   "cell_type": "code",
   "execution_count": 17,
   "metadata": {
    "collapsed": false
   },
   "outputs": [
    {
     "data": {
      "text/plain": [
       "<matplotlib.axes._subplots.AxesSubplot at 0x7f7be256eb38>"
      ]
     },
     "execution_count": 17,
     "metadata": {},
     "output_type": "execute_result"
    },
    {
     "data": {
      "image/png": "[encoded data removed]",
      "text/plain": [
       "<matplotlib.figure.Figure at 0x7f7be257aa20>"
      ]
     },
     "metadata": {},
     "output_type": "display_data"
    }
   ],
   "source": [
    "df.plot.scatter('mitarbeiter_2014', 'durchschnittsgehalt_2014')"
   ]
  },
  {
   "cell_type": "markdown",
   "metadata": {},
   "source": [
    "### Jahresüberschuss"
   ]
  },
  {
   "cell_type": "code",
   "execution_count": 18,
   "metadata": {
    "collapsed": false
   },
   "outputs": [
    {
     "data": {
      "text/plain": [
       "<matplotlib.axes._subplots.AxesSubplot at 0x7f7be25917f0>"
      ]
     },
     "execution_count": 18,
     "metadata": {},
     "output_type": "execute_result"
    },
    {
     "data": {
      "image/png": "[encoded data removed]",
      "text/plain": [
       "<matplotlib.figure.Figure at 0x7f7be254b320>"
      ]
     },
     "metadata": {},
     "output_type": "display_data"
    }
   ],
   "source": [
    "df[(df.jahresueberschuss_2014 > 0) & (df.durchschnittsgehalt_2014 > 0)].plot.scatter('jahresueberschuss_2014', 'durchschnittsgehalt_2014')"
   ]
  },
  {
   "cell_type": "markdown",
   "metadata": {},
   "source": [
    "### Löhne & Gehälter gesamt"
   ]
  },
  {
   "cell_type": "code",
   "execution_count": 19,
   "metadata": {
    "collapsed": false
   },
   "outputs": [
    {
     "data": {
      "text/plain": [
       "<matplotlib.axes._subplots.AxesSubplot at 0x7f7be24bcd68>"
      ]
     },
     "execution_count": 19,
     "metadata": {},
     "output_type": "execute_result"
    },
    {
     "data": {
      "image/png": "[encoded data removed]",
      "text/plain": [
       "<matplotlib.figure.Figure at 0x7f7be2522898>"
      ]
     },
     "metadata": {},
     "output_type": "display_data"
    }
   ],
   "source": [
    "df.plot.scatter('loehne_und_gehaelter_2014', 'durchschnittsgehalt_2014')"
   ]
  },
  {
   "cell_type": "markdown",
   "metadata": {},
   "source": [
    "### Löhne & Gehälter (Mitarbeiter) Durchschnitt"
   ]
  },
  {
   "cell_type": "code",
   "execution_count": 20,
   "metadata": {
    "collapsed": false
   },
   "outputs": [
    {
     "data": {
      "text/plain": [
       "<matplotlib.axes._subplots.AxesSubplot at 0x7f7be24b98d0>"
      ]
     },
     "execution_count": 20,
     "metadata": {},
     "output_type": "execute_result"
    },
    {
     "data": {
      "image/png": "[encoded data removed]",
      "text/plain": [
       "<matplotlib.figure.Figure at 0x7f7be2463080>"
      ]
     },
     "metadata": {},
     "output_type": "display_data"
    }
   ],
   "source": [
    "df['loehne_und_gehaelter_2014_pro_ma'] = df.loehne_und_gehaelter_2014/df.mitarbeiter_2014\n",
    "df[df.loehne_und_gehaelter_2014_pro_ma < df.loehne_und_gehaelter_2014_pro_ma.max()].plot.scatter('loehne_und_gehaelter_2014_pro_ma', 'durchschnittsgehalt_2014')"
   ]
  },
  {
   "cell_type": "markdown",
   "metadata": {},
   "source": [
    "## Bundesland-Vergleich"
   ]
  },
  {
   "cell_type": "code",
   "execution_count": 21,
   "metadata": {
    "collapsed": false
   },
   "outputs": [
    {
     "data": {
      "text/html": [
       "<div>\n",
       "<table border=\"1\" class=\"dataframe\">\n",
       "  <thead>\n",
       "    <tr style=\"text-align: right;\">\n",
       "      <th></th>\n",
       "      <th>state</th>\n",
       "      <th>durchschnittsgehalt_2014_wt</th>\n",
       "    </tr>\n",
       "  </thead>\n",
       "  <tbody>\n",
       "    <tr>\n",
       "      <th>0</th>\n",
       "      <td>Baden-Württemberg</td>\n",
       "      <td>169777.624213</td>\n",
       "    </tr>\n",
       "    <tr>\n",
       "      <th>1</th>\n",
       "      <td>Bayern</td>\n",
       "      <td>331623.049130</td>\n",
       "    </tr>\n",
       "    <tr>\n",
       "      <th>2</th>\n",
       "      <td>Berlin</td>\n",
       "      <td>NaN</td>\n",
       "    </tr>\n",
       "    <tr>\n",
       "      <th>3</th>\n",
       "      <td>Brandenburg</td>\n",
       "      <td>238434.170231</td>\n",
       "    </tr>\n",
       "    <tr>\n",
       "      <th>4</th>\n",
       "      <td>Bremen</td>\n",
       "      <td>600000.000000</td>\n",
       "    </tr>\n",
       "    <tr>\n",
       "      <th>5</th>\n",
       "      <td>Hamburg</td>\n",
       "      <td>NaN</td>\n",
       "    </tr>\n",
       "    <tr>\n",
       "      <th>6</th>\n",
       "      <td>Hessen</td>\n",
       "      <td>343937.697813</td>\n",
       "    </tr>\n",
       "    <tr>\n",
       "      <th>7</th>\n",
       "      <td>Mecklenburg-Vorpommern</td>\n",
       "      <td>170850.474581</td>\n",
       "    </tr>\n",
       "    <tr>\n",
       "      <th>8</th>\n",
       "      <td>Niedersachsen</td>\n",
       "      <td>208468.230296</td>\n",
       "    </tr>\n",
       "    <tr>\n",
       "      <th>9</th>\n",
       "      <td>Nordrhein-Westfalen</td>\n",
       "      <td>440635.187382</td>\n",
       "    </tr>\n",
       "    <tr>\n",
       "      <th>10</th>\n",
       "      <td>Rheinland-Pfalz</td>\n",
       "      <td>60762.543707</td>\n",
       "    </tr>\n",
       "    <tr>\n",
       "      <th>11</th>\n",
       "      <td>Saarland</td>\n",
       "      <td>281674.431302</td>\n",
       "    </tr>\n",
       "    <tr>\n",
       "      <th>12</th>\n",
       "      <td>Sachsen</td>\n",
       "      <td>412227.778887</td>\n",
       "    </tr>\n",
       "    <tr>\n",
       "      <th>13</th>\n",
       "      <td>Sachsen-Anhalt</td>\n",
       "      <td>39077.642127</td>\n",
       "    </tr>\n",
       "    <tr>\n",
       "      <th>14</th>\n",
       "      <td>Schleswig-Holstein</td>\n",
       "      <td>157066.920816</td>\n",
       "    </tr>\n",
       "    <tr>\n",
       "      <th>15</th>\n",
       "      <td>Thüringen</td>\n",
       "      <td>246175.923204</td>\n",
       "    </tr>\n",
       "  </tbody>\n",
       "</table>\n",
       "</div>"
      ],
      "text/plain": [
       "                     state  durchschnittsgehalt_2014_wt\n",
       "0        Baden-Württemberg                169777.624213\n",
       "1                   Bayern                331623.049130\n",
       "2                   Berlin                          NaN\n",
       "3              Brandenburg                238434.170231\n",
       "4                   Bremen                600000.000000\n",
       "5                  Hamburg                          NaN\n",
       "6                   Hessen                343937.697813\n",
       "7   Mecklenburg-Vorpommern                170850.474581\n",
       "8            Niedersachsen                208468.230296\n",
       "9      Nordrhein-Westfalen                440635.187382\n",
       "10         Rheinland-Pfalz                 60762.543707\n",
       "11                Saarland                281674.431302\n",
       "12                 Sachsen                412227.778887\n",
       "13          Sachsen-Anhalt                 39077.642127\n",
       "14      Schleswig-Holstein                157066.920816\n",
       "15               Thüringen                246175.923204"
      ]
     },
     "execution_count": 21,
     "metadata": {},
     "output_type": "execute_result"
    }
   ],
   "source": [
    "# weighted avg by 'bemessung' via groupby:\n",
    "df['durchschnittsgehalt_wt_2014'] = df.durchschnittsgehalt_2014*df.bemessung_2014\n",
    "df['durchschnittsgehalt_wt_2013'] = df.durchschnittsgehalt_2013*df.bemessung_2013\n",
    "df_states = df.groupby('state', as_index=False).sum()\n",
    "df_states['durchschnittsgehalt_2014_wt'] = df_states.durchschnittsgehalt_wt_2014/df_states.bemessung_2014\n",
    "df_states['durchschnittsgehalt_2013_wt'] = df_states.durchschnittsgehalt_wt_2013/df_states.bemessung_2013\n",
    "df_states[['state', 'durchschnittsgehalt_2014_wt']]"
   ]
  },
  {
   "cell_type": "code",
   "execution_count": 22,
   "metadata": {
    "collapsed": false
   },
   "outputs": [
    {
     "data": {
      "text/plain": [
       "<matplotlib.axes._subplots.AxesSubplot at 0x7f7be262af98>"
      ]
     },
     "execution_count": 22,
     "metadata": {},
     "output_type": "execute_result"
    },
    {
     "data": {
      "image/png": "[encoded data removed]",
      "text/plain": [
       "<matplotlib.figure.Figure at 0x7f7be2667048>"
      ]
     },
     "metadata": {},
     "output_type": "display_data"
    }
   ],
   "source": [
    "df_states.plot.bar('state', 'durchschnittsgehalt_2014_wt')"
   ]
  },
  {
   "cell_type": "markdown",
   "metadata": {},
   "source": [
    "## Ost-West"
   ]
  },
  {
   "cell_type": "code",
   "execution_count": 23,
   "metadata": {
    "collapsed": false
   },
   "outputs": [
    {
     "data": {
      "text/html": [
       "<div>\n",
       "<table border=\"1\" class=\"dataframe\">\n",
       "  <thead>\n",
       "    <tr style=\"text-align: right;\">\n",
       "      <th></th>\n",
       "      <th>region</th>\n",
       "      <th>durchschnittsgehalt_2014_wt</th>\n",
       "    </tr>\n",
       "  </thead>\n",
       "  <tbody>\n",
       "    <tr>\n",
       "      <th>0</th>\n",
       "      <td>ost</td>\n",
       "      <td>262452.918431</td>\n",
       "    </tr>\n",
       "    <tr>\n",
       "      <th>1</th>\n",
       "      <td>west</td>\n",
       "      <td>299065.808511</td>\n",
       "    </tr>\n",
       "  </tbody>\n",
       "</table>\n",
       "</div>"
      ],
      "text/plain": [
       "  region  durchschnittsgehalt_2014_wt\n",
       "0    ost                262452.918431\n",
       "1   west                299065.808511"
      ]
     },
     "execution_count": 23,
     "metadata": {},
     "output_type": "execute_result"
    }
   ],
   "source": [
    "# get region\n",
    "df['region'] = df.verband.map(lambda x: 'ost' if x == 'OSV' else 'west')\n",
    "\n",
    "# weighted avg by 'bemessung' via groupby:\n",
    "df_region = df.groupby('region', as_index=False).sum()\n",
    "df_region['durchschnittsgehalt_2014_wt'] = df_region.durchschnittsgehalt_wt_2014/df_region.bemessung_2014\n",
    "df_region['durchschnittsgehalt_2013_wt'] = df_region.durchschnittsgehalt_wt_2013/df_region.bemessung_2013\n",
    "df_region[['region', 'durchschnittsgehalt_2014_wt']]"
   ]
  },
  {
   "cell_type": "code",
   "execution_count": 24,
   "metadata": {
    "collapsed": false
   },
   "outputs": [
    {
     "data": {
      "text/plain": [
       "<matplotlib.axes._subplots.AxesSubplot at 0x7f7be268a6d8>"
      ]
     },
     "execution_count": 24,
     "metadata": {},
     "output_type": "execute_result"
    },
    {
     "data": {
      "image/png": "[encoded data removed]",
      "text/plain": [
       "<matplotlib.figure.Figure at 0x7f7be265e198>"
      ]
     },
     "metadata": {},
     "output_type": "display_data"
    }
   ],
   "source": [
    "df_region.plot.bar('region', 'durchschnittsgehalt_2014_wt')"
   ]
  },
  {
   "cell_type": "markdown",
   "metadata": {},
   "source": [
    "### absoluter Unterschied Ost-West"
   ]
  },
  {
   "cell_type": "code",
   "execution_count": 25,
   "metadata": {
    "collapsed": false
   },
   "outputs": [
    {
     "data": {
      "text/plain": [
       "36612.890079751029"
      ]
     },
     "execution_count": 25,
     "metadata": {},
     "output_type": "execute_result"
    }
   ],
   "source": [
    "df_region['durchschnittsgehalt_2014_wt'][1] - df_region['durchschnittsgehalt_2014_wt'][0]"
   ]
  },
  {
   "cell_type": "markdown",
   "metadata": {},
   "source": [
    "## Exkurs: Was verdienen die Mitarbeiter?"
   ]
  },
  {
   "cell_type": "code",
   "execution_count": 26,
   "metadata": {
    "collapsed": false
   },
   "outputs": [
    {
     "data": {
      "image/png": "[encoded data removed]",
      "text/plain": [
       "<matplotlib.figure.Figure at 0x7f7be27d6cc0>"
      ]
     },
     "metadata": {},
     "output_type": "display_data"
    }
   ],
   "source": [
    "df['mitarbeitergehaelter_2014'] = df.loehne_und_gehaelter_2014-df.gesamtbezuege_2014\n",
    "df['mitarbeitergehaelter_2013'] = df.loehne_und_gehaelter_2013-df.gesamtbezuege_2013\n",
    "\n",
    "comparison_hist(df.mitarbeitergehaelter_2013, df.mitarbeitergehaelter_2014)"
   ]
  },
  {
   "cell_type": "code",
   "execution_count": 27,
   "metadata": {
    "collapsed": false
   },
   "outputs": [
    {
     "data": {
      "image/png": "[encoded data removed]",
      "text/plain": [
       "<matplotlib.figure.Figure at 0x7f7be4951cf8>"
      ]
     },
     "metadata": {},
     "output_type": "display_data"
    }
   ],
   "source": [
    "df['mitarbeiter_durchschnitt_2014'] = df.mitarbeitergehaelter_2014/df.mitarbeiter_2014\n",
    "df['mitarbeiter_durchschnitt_2013'] = df.mitarbeitergehaelter_2013/df.mitarbeiter_2013\n",
    "\n",
    "# fix some data errors on the edges\n",
    "df = df[df.mitarbeiter_durchschnitt_2014 < df.mitarbeiter_durchschnitt_2014.max()]\n",
    "df = df[df.mitarbeiter_durchschnitt_2014 > df.mitarbeiter_durchschnitt_2014.min()]\n",
    "\n",
    "comparison_hist(df.mitarbeiter_durchschnitt_2013, df.mitarbeiter_durchschnitt_2014)"
   ]
  },
  {
   "cell_type": "markdown",
   "metadata": {},
   "source": [
    "**Prozentualer Anstieg des durchschnittlichen Mitarbeitergehalts 2013 zu 2014**"
   ]
  },
  {
   "cell_type": "code",
   "execution_count": 28,
   "metadata": {
    "collapsed": false
   },
   "outputs": [
    {
     "data": {
      "text/plain": [
       "2.3522213942525334"
      ]
     },
     "execution_count": 28,
     "metadata": {},
     "output_type": "execute_result"
    }
   ],
   "source": [
    "(df.mitarbeitergehaelter_2014.mean()-df.mitarbeitergehaelter_2013.mean())/df.mitarbeitergehaelter_2013.mean()*100"
   ]
  },
  {
   "cell_type": "code",
   "execution_count": null,
   "metadata": {
    "collapsed": true
   },
   "outputs": [],
   "source": []
  }
 ],
 "metadata": {
  "kernelspec": {
   "display_name": "Python 3",
   "language": "python",
   "name": "python3"
  },
  "language_info": {
   "codemirror_mode": {
    "name": "ipython",
    "version": 3
   },
   "file_extension": ".py",
   "mimetype": "text/x-python",
   "name": "python",
   "nbconvert_exporter": "python",
   "pygments_lexer": "ipython3",
   "version": "3.5.1+"
  }
 },
 "nbformat": 4,
 "nbformat_minor": 0
}
