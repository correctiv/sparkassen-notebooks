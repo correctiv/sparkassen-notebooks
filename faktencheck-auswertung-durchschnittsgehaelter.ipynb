{
 "cells": [
  {
   "cell_type": "code",
   "execution_count": 1,
   "metadata": {
    "collapsed": false
   },
   "outputs": [],
   "source": [
    "import numpy as np\n",
    "import pandas as pd\n",
    "import matplotlib\n",
    "import matplotlib.pyplot as plt\n",
    "%matplotlib inline"
   ]
  },
  {
   "cell_type": "markdown",
   "metadata": {},
   "source": [
    "# Faktencheck\n",
    "\n",
    "## Vorstände - Gesamtdaten\n",
    "\n",
    "Daten zusammengetragen aus den Jahresberichten / Offenlegungsberichten der Sparkassen"
   ]
  },
  {
   "cell_type": "code",
   "execution_count": 2,
   "metadata": {
    "collapsed": false
   },
   "outputs": [],
   "source": [
    "df = pd.read_csv('./data/jahresabschluss_kerndaten.csv')\n",
    "df_origin = df\n",
    "df['durchschnittsgehalt_2014'] = df.gesamtbezuege_2014 / df.anzahl_vorstaende_2014\n",
    "df = df[df.durchschnittsgehalt_2014 > 0]"
   ]
  },
  {
   "cell_type": "markdown",
   "metadata": {},
   "source": [
    "**\"Um die Vorstandsgehälter untereinander vergleichbar zu machen, haben wir eine Formel definiert, um die Größe einer Sparkasse darzustellen. Diese beinhaltet Kernwerte einer jeden Sparkasse: Die Bilanzsumme, das Volumen der vergebenen Kredite und das Eigenkapital.\"**"
   ]
  },
  {
   "cell_type": "code",
   "execution_count": 3,
   "metadata": {
    "collapsed": false
   },
   "outputs": [
    {
     "name": "stderr",
     "output_type": "stream",
     "text": [
      "/home/simonwoerpel/Websites/Correctiv/Sparkassen/vorstaende/venv/lib/python3.5/site-packages/ipykernel/__main__.py:1: SettingWithCopyWarning: \n",
      "A value is trying to be set on a copy of a slice from a DataFrame.\n",
      "Try using .loc[row_indexer,col_indexer] = value instead\n",
      "\n",
      "See the caveats in the documentation: http://pandas.pydata.org/pandas-docs/stable/indexing.html#indexing-view-versus-copy\n",
      "  if __name__ == '__main__':\n"
     ]
    }
   ],
   "source": [
    "df['bemessung_2014'] = df.bilanzsumme_2014 + df.eigenkapital_2014*10 + df.vergebene_kredite_2014"
   ]
  },
  {
   "cell_type": "markdown",
   "metadata": {},
   "source": [
    "**\"Weit mehr als jeder zweite Sparkassen-Vorstand verdient mehr als Merkel\"**\n",
    "\n",
    "**\"Tatsächlich zahlt rund jede zweite der ausgewerteten Sparkassen ihren Vorständen mehr als die etwa 300.000 Euro, die Merkel als Kanzlerin inklusive ihrer Bezüge als Abgeordnete erhält.\"**"
   ]
  },
  {
   "cell_type": "code",
   "execution_count": 4,
   "metadata": {
    "collapsed": false
   },
   "outputs": [
    {
     "data": {
      "text/plain": [
       "302000.0"
      ]
     },
     "execution_count": 4,
     "metadata": {},
     "output_type": "execute_result"
    }
   ],
   "source": [
    "df.durchschnittsgehalt_2014.median()"
   ]
  },
  {
   "cell_type": "code",
   "execution_count": 5,
   "metadata": {
    "collapsed": false
   },
   "outputs": [
    {
     "data": {
      "text/plain": [
       "58.88501742160279"
      ]
     },
     "execution_count": 5,
     "metadata": {},
     "output_type": "execute_result"
    }
   ],
   "source": [
    "len(df[df.durchschnittsgehalt_2014 > 282000].index) / len(df.index) * 100"
   ]
  },
  {
   "cell_type": "markdown",
   "metadata": {},
   "source": [
    "**\"Wir haben die Gehälter von rund 70 Prozent aller Sparkassen ausgewertet.\"**"
   ]
  },
  {
   "cell_type": "code",
   "execution_count": 6,
   "metadata": {
    "collapsed": false
   },
   "outputs": [
    {
     "data": {
      "text/plain": [
       "(68.82494004796163, 287)"
      ]
     },
     "execution_count": 6,
     "metadata": {},
     "output_type": "execute_result"
    }
   ],
   "source": [
    "len(df[df.durchschnittsgehalt_2014 > 0].index) / len(df_origin.index) * 100, len(df[df.durchschnittsgehalt_2014 > 0].index)"
   ]
  },
  {
   "cell_type": "markdown",
   "metadata": {},
   "source": [
    "**\"Von 88.000 Euro bis 850.000 Euro\"** (Spanne der durchschnittl. Vorstandsgehälter)"
   ]
  },
  {
   "cell_type": "code",
   "execution_count": 7,
   "metadata": {
    "collapsed": false
   },
   "outputs": [
    {
     "data": {
      "text/plain": [
       "(87586.206896551725, 853658.53658536589)"
      ]
     },
     "execution_count": 7,
     "metadata": {},
     "output_type": "execute_result"
    }
   ],
   "source": [
    "df.durchschnittsgehalt_2014.min(), df.durchschnittsgehalt_2014.max()"
   ]
  },
  {
   "cell_type": "markdown",
   "metadata": {},
   "source": [
    "**\"Vorne liegen die Chefs der Hamburger Sparkasse, die durchschnittlich 853.000 Euro im Jahr bekamen\"**"
   ]
  },
  {
   "cell_type": "code",
   "execution_count": 8,
   "metadata": {
    "collapsed": true
   },
   "outputs": [],
   "source": [
    "columns = ['sparkasse', 'durchschnittsgehalt_2014', 'gesamtbezuege_2014', 'anzahl_vorstaende_2014']"
   ]
  },
  {
   "cell_type": "code",
   "execution_count": 9,
   "metadata": {
    "collapsed": false
   },
   "outputs": [
    {
     "data": {
      "text/html": [
       "<div>\n",
       "<table border=\"1\" class=\"dataframe\">\n",
       "  <thead>\n",
       "    <tr style=\"text-align: right;\">\n",
       "      <th></th>\n",
       "      <th>sparkasse</th>\n",
       "      <th>durchschnittsgehalt_2014</th>\n",
       "      <th>gesamtbezuege_2014</th>\n",
       "      <th>anzahl_vorstaende_2014</th>\n",
       "    </tr>\n",
       "  </thead>\n",
       "  <tbody>\n",
       "    <tr>\n",
       "      <th>287</th>\n",
       "      <td>Hamburger Sparkasse AG</td>\n",
       "      <td>853658.536585</td>\n",
       "      <td>4200000.0</td>\n",
       "      <td>4.92</td>\n",
       "    </tr>\n",
       "  </tbody>\n",
       "</table>\n",
       "</div>"
      ],
      "text/plain": [
       "                  sparkasse  durchschnittsgehalt_2014  gesamtbezuege_2014  \\\n",
       "287  Hamburger Sparkasse AG             853658.536585           4200000.0   \n",
       "\n",
       "     anzahl_vorstaende_2014  \n",
       "287                    4.92  "
      ]
     },
     "execution_count": 9,
     "metadata": {},
     "output_type": "execute_result"
    }
   ],
   "source": [
    "df[df.durchschnittsgehalt_2014 == df.durchschnittsgehalt_2014.max()][columns]"
   ]
  },
  {
   "cell_type": "markdown",
   "metadata": {},
   "source": [
    "**\"Berliner Sparkasse zahlte ihren fünf Vorständen im Schnitt 651.833 Euro\"**"
   ]
  },
  {
   "cell_type": "code",
   "execution_count": 10,
   "metadata": {
    "collapsed": false
   },
   "outputs": [
    {
     "data": {
      "text/html": [
       "<div>\n",
       "<table border=\"1\" class=\"dataframe\">\n",
       "  <thead>\n",
       "    <tr style=\"text-align: right;\">\n",
       "      <th></th>\n",
       "      <th>sparkasse</th>\n",
       "      <th>durchschnittsgehalt_2014</th>\n",
       "      <th>gesamtbezuege_2014</th>\n",
       "      <th>anzahl_vorstaende_2014</th>\n",
       "    </tr>\n",
       "  </thead>\n",
       "  <tbody>\n",
       "    <tr>\n",
       "      <th>286</th>\n",
       "      <td>Berliner Sparkasse</td>\n",
       "      <td>651833.333333</td>\n",
       "      <td>3911000.0</td>\n",
       "      <td>6.0</td>\n",
       "    </tr>\n",
       "  </tbody>\n",
       "</table>\n",
       "</div>"
      ],
      "text/plain": [
       "              sparkasse  durchschnittsgehalt_2014  gesamtbezuege_2014  \\\n",
       "286  Berliner Sparkasse             651833.333333           3911000.0   \n",
       "\n",
       "     anzahl_vorstaende_2014  \n",
       "286                     6.0  "
      ]
     },
     "execution_count": 10,
     "metadata": {},
     "output_type": "execute_result"
    }
   ],
   "source": [
    "df[df.sparkasse == 'Berliner Sparkasse'][columns]"
   ]
  },
  {
   "cell_type": "markdown",
   "metadata": {},
   "source": [
    "**\"und die Manager in Hannover wurden mit 613.661 Euro entlohnt.\"**"
   ]
  },
  {
   "cell_type": "code",
   "execution_count": 11,
   "metadata": {
    "collapsed": false
   },
   "outputs": [
    {
     "data": {
      "text/html": [
       "<div>\n",
       "<table border=\"1\" class=\"dataframe\">\n",
       "  <thead>\n",
       "    <tr style=\"text-align: right;\">\n",
       "      <th></th>\n",
       "      <th>sparkasse</th>\n",
       "      <th>durchschnittsgehalt_2014</th>\n",
       "      <th>gesamtbezuege_2014</th>\n",
       "      <th>anzahl_vorstaende_2014</th>\n",
       "    </tr>\n",
       "  </thead>\n",
       "  <tbody>\n",
       "    <tr>\n",
       "      <th>278</th>\n",
       "      <td>Sparkasse Hannover</td>\n",
       "      <td>613661.202186</td>\n",
       "      <td>2246000.0</td>\n",
       "      <td>3.66</td>\n",
       "    </tr>\n",
       "  </tbody>\n",
       "</table>\n",
       "</div>"
      ],
      "text/plain": [
       "              sparkasse  durchschnittsgehalt_2014  gesamtbezuege_2014  \\\n",
       "278  Sparkasse Hannover             613661.202186           2246000.0   \n",
       "\n",
       "     anzahl_vorstaende_2014  \n",
       "278                    3.66  "
      ]
     },
     "execution_count": 11,
     "metadata": {},
     "output_type": "execute_result"
    }
   ],
   "source": [
    "df[df.sparkasse == 'Sparkasse Hannover'][columns]"
   ]
  },
  {
   "cell_type": "markdown",
   "metadata": {},
   "source": [
    "**\"die Vorstände der [...] Sparkasse Günzburg-Krumbach [erhalten] durchschnittlich 296.500 Euro\"**"
   ]
  },
  {
   "cell_type": "code",
   "execution_count": 12,
   "metadata": {
    "collapsed": false
   },
   "outputs": [
    {
     "data": {
      "text/html": [
       "<div>\n",
       "<table border=\"1\" class=\"dataframe\">\n",
       "  <thead>\n",
       "    <tr style=\"text-align: right;\">\n",
       "      <th></th>\n",
       "      <th>sparkasse</th>\n",
       "      <th>durchschnittsgehalt_2014</th>\n",
       "      <th>gesamtbezuege_2014</th>\n",
       "      <th>anzahl_vorstaende_2014</th>\n",
       "    </tr>\n",
       "  </thead>\n",
       "  <tbody>\n",
       "    <tr>\n",
       "      <th>108</th>\n",
       "      <td>Sparkasse Günzburg-Krumbach</td>\n",
       "      <td>296500.0</td>\n",
       "      <td>593000.0</td>\n",
       "      <td>2.0</td>\n",
       "    </tr>\n",
       "  </tbody>\n",
       "</table>\n",
       "</div>"
      ],
      "text/plain": [
       "                       sparkasse  durchschnittsgehalt_2014  \\\n",
       "108  Sparkasse Günzburg-Krumbach                  296500.0   \n",
       "\n",
       "     gesamtbezuege_2014  anzahl_vorstaende_2014  \n",
       "108            593000.0                     2.0  "
      ]
     },
     "execution_count": 12,
     "metadata": {},
     "output_type": "execute_result"
    }
   ],
   "source": [
    "df[df.sparkasse == 'Sparkasse Günzburg-Krumbach'][columns]"
   ]
  },
  {
   "cell_type": "markdown",
   "metadata": {},
   "source": [
    "**\"Die beiden Vorstände der Kreissparkasse Saarpfalz in Homburg erhielten 2014 im Schnitt 305.000 Euro. Rund 440 Mitarbeiter werden dort beschäftigt.\"**"
   ]
  },
  {
   "cell_type": "code",
   "execution_count": 13,
   "metadata": {
    "collapsed": false
   },
   "outputs": [
    {
     "data": {
      "text/html": [
       "<div>\n",
       "<table border=\"1\" class=\"dataframe\">\n",
       "  <thead>\n",
       "    <tr style=\"text-align: right;\">\n",
       "      <th></th>\n",
       "      <th>sparkasse</th>\n",
       "      <th>durchschnittsgehalt_2014</th>\n",
       "      <th>gesamtbezuege_2014</th>\n",
       "      <th>anzahl_vorstaende_2014</th>\n",
       "      <th>mitarbeiter_2014</th>\n",
       "    </tr>\n",
       "  </thead>\n",
       "  <tbody>\n",
       "    <tr>\n",
       "      <th>118</th>\n",
       "      <td>Kreissparkasse Saarpfalz</td>\n",
       "      <td>305000.0</td>\n",
       "      <td>610000.0</td>\n",
       "      <td>2.0</td>\n",
       "      <td>451.0</td>\n",
       "    </tr>\n",
       "  </tbody>\n",
       "</table>\n",
       "</div>"
      ],
      "text/plain": [
       "                    sparkasse  durchschnittsgehalt_2014  gesamtbezuege_2014  \\\n",
       "118  Kreissparkasse Saarpfalz                  305000.0            610000.0   \n",
       "\n",
       "     anzahl_vorstaende_2014  mitarbeiter_2014  \n",
       "118                     2.0             451.0  "
      ]
     },
     "execution_count": 13,
     "metadata": {},
     "output_type": "execute_result"
    }
   ],
   "source": [
    "columns += ['mitarbeiter_2014']\n",
    "df[df.sparkasse == 'Kreissparkasse Saarpfalz'][columns]"
   ]
  },
  {
   "cell_type": "markdown",
   "metadata": {},
   "source": [
    "**\"Nebenan, in der Landeshauptstadt, bei der Sparkasse Saarbrücken haben die vier Vorstände die dreifache Zahl an Mitarbeitern zu verantworten und erhalten dafür trotzdem nur fast das gleiche Geld. Im Schnitt bekamen sie 300.000 Euro überwiesen\"**"
   ]
  },
  {
   "cell_type": "code",
   "execution_count": 14,
   "metadata": {
    "collapsed": false
   },
   "outputs": [
    {
     "data": {
      "text/html": [
       "<div>\n",
       "<table border=\"1\" class=\"dataframe\">\n",
       "  <thead>\n",
       "    <tr style=\"text-align: right;\">\n",
       "      <th></th>\n",
       "      <th>sparkasse</th>\n",
       "      <th>durchschnittsgehalt_2014</th>\n",
       "      <th>gesamtbezuege_2014</th>\n",
       "      <th>anzahl_vorstaende_2014</th>\n",
       "      <th>mitarbeiter_2014</th>\n",
       "    </tr>\n",
       "  </thead>\n",
       "  <tbody>\n",
       "    <tr>\n",
       "      <th>237</th>\n",
       "      <td>Sparkasse Saarbrücken</td>\n",
       "      <td>299500.0</td>\n",
       "      <td>1198000.0</td>\n",
       "      <td>4.0</td>\n",
       "      <td>1283.0</td>\n",
       "    </tr>\n",
       "  </tbody>\n",
       "</table>\n",
       "</div>"
      ],
      "text/plain": [
       "                 sparkasse  durchschnittsgehalt_2014  gesamtbezuege_2014  \\\n",
       "237  Sparkasse Saarbrücken                  299500.0           1198000.0   \n",
       "\n",
       "     anzahl_vorstaende_2014  mitarbeiter_2014  \n",
       "237                     4.0            1283.0  "
      ]
     },
     "execution_count": 14,
     "metadata": {},
     "output_type": "execute_result"
    }
   ],
   "source": [
    "df[df.sparkasse == 'Sparkasse Saarbrücken'][columns]"
   ]
  },
  {
   "cell_type": "markdown",
   "metadata": {},
   "source": [
    "Verhältnis Mitarbeiter"
   ]
  },
  {
   "cell_type": "code",
   "execution_count": 15,
   "metadata": {
    "collapsed": false
   },
   "outputs": [
    {
     "data": {
      "text/plain": [
       "0.35151987529228373"
      ]
     },
     "execution_count": 15,
     "metadata": {},
     "output_type": "execute_result"
    }
   ],
   "source": [
    "451 / 1283"
   ]
  },
  {
   "cell_type": "markdown",
   "metadata": {},
   "source": [
    "**\"Die vier Vorstände der Kasseler Sparkasse erhielten durchschnittlich 310.000 Euro. Sie verantworten rund 1.100 Mitarbeiter.\"**"
   ]
  },
  {
   "cell_type": "code",
   "execution_count": 16,
   "metadata": {
    "collapsed": false
   },
   "outputs": [
    {
     "data": {
      "text/html": [
       "<div>\n",
       "<table border=\"1\" class=\"dataframe\">\n",
       "  <thead>\n",
       "    <tr style=\"text-align: right;\">\n",
       "      <th></th>\n",
       "      <th>sparkasse</th>\n",
       "      <th>durchschnittsgehalt_2014</th>\n",
       "      <th>gesamtbezuege_2014</th>\n",
       "      <th>anzahl_vorstaende_2014</th>\n",
       "      <th>mitarbeiter_2014</th>\n",
       "    </tr>\n",
       "  </thead>\n",
       "  <tbody>\n",
       "    <tr>\n",
       "      <th>240</th>\n",
       "      <td>Kasseler Sparkasse</td>\n",
       "      <td>310000.0</td>\n",
       "      <td>1240000.0</td>\n",
       "      <td>4.0</td>\n",
       "      <td>1170.0</td>\n",
       "    </tr>\n",
       "  </tbody>\n",
       "</table>\n",
       "</div>"
      ],
      "text/plain": [
       "              sparkasse  durchschnittsgehalt_2014  gesamtbezuege_2014  \\\n",
       "240  Kasseler Sparkasse                  310000.0           1240000.0   \n",
       "\n",
       "     anzahl_vorstaende_2014  mitarbeiter_2014  \n",
       "240                     4.0            1170.0  "
      ]
     },
     "execution_count": 16,
     "metadata": {},
     "output_type": "execute_result"
    }
   ],
   "source": [
    "df[df.sparkasse == 'Kasseler Sparkasse'][columns]"
   ]
  },
  {
   "cell_type": "markdown",
   "metadata": {},
   "source": [
    "**\"Rund 200km Kilometer südlich beschäftigt die Sparkasse Langen-Seligenstadt etwa 400 Mitarbeiter weniger. Dennoch werden die beiden Vorstände deutlich besser entlohnt und erhalten im Schnitt 100.000 Euro mehr als in Kassel, also 410.000 Euro.\"**"
   ]
  },
  {
   "cell_type": "code",
   "execution_count": 17,
   "metadata": {
    "collapsed": false
   },
   "outputs": [
    {
     "data": {
      "text/html": [
       "<div>\n",
       "<table border=\"1\" class=\"dataframe\">\n",
       "  <thead>\n",
       "    <tr style=\"text-align: right;\">\n",
       "      <th></th>\n",
       "      <th>sparkasse</th>\n",
       "      <th>durchschnittsgehalt_2014</th>\n",
       "      <th>gesamtbezuege_2014</th>\n",
       "      <th>anzahl_vorstaende_2014</th>\n",
       "      <th>mitarbeiter_2014</th>\n",
       "    </tr>\n",
       "  </thead>\n",
       "  <tbody>\n",
       "    <tr>\n",
       "      <th>170</th>\n",
       "      <td>Sparkasse Langen-Seligenstadt</td>\n",
       "      <td>408500.0</td>\n",
       "      <td>817000.0</td>\n",
       "      <td>2.0</td>\n",
       "      <td>740.0</td>\n",
       "    </tr>\n",
       "  </tbody>\n",
       "</table>\n",
       "</div>"
      ],
      "text/plain": [
       "                         sparkasse  durchschnittsgehalt_2014  \\\n",
       "170  Sparkasse Langen-Seligenstadt                  408500.0   \n",
       "\n",
       "     gesamtbezuege_2014  anzahl_vorstaende_2014  mitarbeiter_2014  \n",
       "170            817000.0                     2.0             740.0  "
      ]
     },
     "execution_count": 17,
     "metadata": {},
     "output_type": "execute_result"
    }
   ],
   "source": [
    "df[df.sparkasse == 'Sparkasse Langen-Seligenstadt'][columns]"
   ]
  },
  {
   "cell_type": "markdown",
   "metadata": {},
   "source": [
    "Mitarbeiter-Differenz, Gehalts-Differenz"
   ]
  },
  {
   "cell_type": "code",
   "execution_count": 18,
   "metadata": {
    "collapsed": false
   },
   "outputs": [
    {
     "data": {
      "text/plain": [
       "(430, 98500.0)"
      ]
     },
     "execution_count": 18,
     "metadata": {},
     "output_type": "execute_result"
    }
   ],
   "source": [
    "1170 - 740, 408500.0 - 310000.0"
   ]
  },
  {
   "cell_type": "markdown",
   "metadata": {},
   "source": [
    "**\"Die vier Vorstände der Sparkasse Münsterland Ost verantworteten im Jahr 2014 gut 1.400 Mitarbeiter und erhielten dafür durchschnittlich 556.000 Euro.\"**"
   ]
  },
  {
   "cell_type": "code",
   "execution_count": 19,
   "metadata": {
    "collapsed": false
   },
   "outputs": [
    {
     "data": {
      "text/html": [
       "<div>\n",
       "<table border=\"1\" class=\"dataframe\">\n",
       "  <thead>\n",
       "    <tr style=\"text-align: right;\">\n",
       "      <th></th>\n",
       "      <th>sparkasse</th>\n",
       "      <th>durchschnittsgehalt_2014</th>\n",
       "      <th>gesamtbezuege_2014</th>\n",
       "      <th>anzahl_vorstaende_2014</th>\n",
       "      <th>mitarbeiter_2014</th>\n",
       "    </tr>\n",
       "  </thead>\n",
       "  <tbody>\n",
       "    <tr>\n",
       "      <th>277</th>\n",
       "      <td>Sparkasse Münsterland Ost</td>\n",
       "      <td>556000.0</td>\n",
       "      <td>2224000.0</td>\n",
       "      <td>4.0</td>\n",
       "      <td>1437.0</td>\n",
       "    </tr>\n",
       "  </tbody>\n",
       "</table>\n",
       "</div>"
      ],
      "text/plain": [
       "                     sparkasse  durchschnittsgehalt_2014  gesamtbezuege_2014  \\\n",
       "277  Sparkasse Münsterland Ost                  556000.0           2224000.0   \n",
       "\n",
       "     anzahl_vorstaende_2014  mitarbeiter_2014  \n",
       "277                     4.0            1437.0  "
      ]
     },
     "execution_count": 19,
     "metadata": {},
     "output_type": "execute_result"
    }
   ],
   "source": [
    "df[df.sparkasse == 'Sparkasse Münsterland Ost'][columns]"
   ]
  },
  {
   "cell_type": "markdown",
   "metadata": {},
   "source": [
    "**\"Die Chefs der Stadtsparkasse Düsseldorf bekamen im Schnitt 487.000 Euro, obwohl die Sparkasse der Landeshauptstadt zu den größten Sparkassen in Deutschland zählt. Der Vorstand in Düsseldorf verantwortete mehr als 2.000 Mitarbeiter, trotzdem wurden die Chefs in Münster deutlicher besser bezahlt.\"**"
   ]
  },
  {
   "cell_type": "code",
   "execution_count": 20,
   "metadata": {
    "collapsed": false
   },
   "outputs": [
    {
     "data": {
      "text/html": [
       "<div>\n",
       "<table border=\"1\" class=\"dataframe\">\n",
       "  <thead>\n",
       "    <tr style=\"text-align: right;\">\n",
       "      <th></th>\n",
       "      <th>sparkasse</th>\n",
       "      <th>durchschnittsgehalt_2014</th>\n",
       "      <th>gesamtbezuege_2014</th>\n",
       "      <th>anzahl_vorstaende_2014</th>\n",
       "      <th>mitarbeiter_2014</th>\n",
       "    </tr>\n",
       "  </thead>\n",
       "  <tbody>\n",
       "    <tr>\n",
       "      <th>271</th>\n",
       "      <td>Stadtsparkasse Düsseldorf</td>\n",
       "      <td>487048.979592</td>\n",
       "      <td>1909232.0</td>\n",
       "      <td>3.92</td>\n",
       "      <td>2268.0</td>\n",
       "    </tr>\n",
       "  </tbody>\n",
       "</table>\n",
       "</div>"
      ],
      "text/plain": [
       "                     sparkasse  durchschnittsgehalt_2014  gesamtbezuege_2014  \\\n",
       "271  Stadtsparkasse Düsseldorf             487048.979592           1909232.0   \n",
       "\n",
       "     anzahl_vorstaende_2014  mitarbeiter_2014  \n",
       "271                    3.92            2268.0  "
      ]
     },
     "execution_count": 20,
     "metadata": {},
     "output_type": "execute_result"
    }
   ],
   "source": [
    "df[df.sparkasse == 'Stadtsparkasse Düsseldorf'][columns]"
   ]
  },
  {
   "cell_type": "code",
   "execution_count": 21,
   "metadata": {
    "collapsed": false
   },
   "outputs": [
    {
     "data": {
      "text/html": [
       "<div>\n",
       "<table border=\"1\" class=\"dataframe\">\n",
       "  <thead>\n",
       "    <tr style=\"text-align: right;\">\n",
       "      <th></th>\n",
       "      <th>sparkasse</th>\n",
       "      <th>durchschnittsgehalt_2014</th>\n",
       "      <th>gesamtbezuege_2014</th>\n",
       "      <th>anzahl_vorstaende_2014</th>\n",
       "      <th>mitarbeiter_2014</th>\n",
       "    </tr>\n",
       "  </thead>\n",
       "  <tbody>\n",
       "    <tr>\n",
       "      <th>283</th>\n",
       "      <td>Sparkasse KölnBonn</td>\n",
       "      <td>512760.000000</td>\n",
       "      <td>2563800.0</td>\n",
       "      <td>5.00</td>\n",
       "      <td>4536.000</td>\n",
       "    </tr>\n",
       "    <tr>\n",
       "      <th>285</th>\n",
       "      <td>Kreissparkasse Köln</td>\n",
       "      <td>704280.000000</td>\n",
       "      <td>3521400.0</td>\n",
       "      <td>5.00</td>\n",
       "      <td>4512.000</td>\n",
       "    </tr>\n",
       "    <tr>\n",
       "      <th>281</th>\n",
       "      <td>Stadtsparkasse München</td>\n",
       "      <td>490200.000000</td>\n",
       "      <td>2451000.0</td>\n",
       "      <td>5.00</td>\n",
       "      <td>2.742</td>\n",
       "    </tr>\n",
       "    <tr>\n",
       "      <th>278</th>\n",
       "      <td>Sparkasse Hannover</td>\n",
       "      <td>613661.202186</td>\n",
       "      <td>2246000.0</td>\n",
       "      <td>3.66</td>\n",
       "      <td>2255.000</td>\n",
       "    </tr>\n",
       "    <tr>\n",
       "      <th>270</th>\n",
       "      <td>Nassauische Sparkasse</td>\n",
       "      <td>461750.000000</td>\n",
       "      <td>1847000.0</td>\n",
       "      <td>4.00</td>\n",
       "      <td>1901.000</td>\n",
       "    </tr>\n",
       "    <tr>\n",
       "      <th>261</th>\n",
       "      <td>Ostsächsische Sparkasse Dresden</td>\n",
       "      <td>535333.333333</td>\n",
       "      <td>1606000.0</td>\n",
       "      <td>3.00</td>\n",
       "      <td>1799.000</td>\n",
       "    </tr>\n",
       "    <tr>\n",
       "      <th>271</th>\n",
       "      <td>Stadtsparkasse Düsseldorf</td>\n",
       "      <td>487048.979592</td>\n",
       "      <td>1909232.0</td>\n",
       "      <td>3.92</td>\n",
       "      <td>2268.000</td>\n",
       "    </tr>\n",
       "  </tbody>\n",
       "</table>\n",
       "</div>"
      ],
      "text/plain": [
       "                           sparkasse  durchschnittsgehalt_2014  \\\n",
       "283               Sparkasse KölnBonn             512760.000000   \n",
       "285              Kreissparkasse Köln             704280.000000   \n",
       "281           Stadtsparkasse München             490200.000000   \n",
       "278               Sparkasse Hannover             613661.202186   \n",
       "270            Nassauische Sparkasse             461750.000000   \n",
       "261  Ostsächsische Sparkasse Dresden             535333.333333   \n",
       "271        Stadtsparkasse Düsseldorf             487048.979592   \n",
       "\n",
       "     gesamtbezuege_2014  anzahl_vorstaende_2014  mitarbeiter_2014  \n",
       "283           2563800.0                    5.00          4536.000  \n",
       "285           3521400.0                    5.00          4512.000  \n",
       "281           2451000.0                    5.00             2.742  \n",
       "278           2246000.0                    3.66          2255.000  \n",
       "270           1847000.0                    4.00          1901.000  \n",
       "261           1606000.0                    3.00          1799.000  \n",
       "271           1909232.0                    3.92          2268.000  "
      ]
     },
     "execution_count": 21,
     "metadata": {},
     "output_type": "execute_result"
    }
   ],
   "source": [
    "df.sort_values('bemessung_2014', ascending=False)[columns][:7]"
   ]
  },
  {
   "cell_type": "markdown",
   "metadata": {},
   "source": [
    "**\"Sparkasse Leverkusen: Drei Vorstände, die rund 600 Mitarbeiter im Jahr 2014 beschäftigten, erhielten im Schnitt fast 430.000 Euro.\"**"
   ]
  },
  {
   "cell_type": "code",
   "execution_count": 22,
   "metadata": {
    "collapsed": false
   },
   "outputs": [
    {
     "data": {
      "text/html": [
       "<div>\n",
       "<table border=\"1\" class=\"dataframe\">\n",
       "  <thead>\n",
       "    <tr style=\"text-align: right;\">\n",
       "      <th></th>\n",
       "      <th>sparkasse</th>\n",
       "      <th>durchschnittsgehalt_2014</th>\n",
       "      <th>gesamtbezuege_2014</th>\n",
       "      <th>anzahl_vorstaende_2014</th>\n",
       "      <th>mitarbeiter_2014</th>\n",
       "    </tr>\n",
       "  </thead>\n",
       "  <tbody>\n",
       "    <tr>\n",
       "      <th>247</th>\n",
       "      <td>Sparkasse Leverkusen</td>\n",
       "      <td>428766.666667</td>\n",
       "      <td>1286300.0</td>\n",
       "      <td>3.0</td>\n",
       "      <td>619.0</td>\n",
       "    </tr>\n",
       "  </tbody>\n",
       "</table>\n",
       "</div>"
      ],
      "text/plain": [
       "                sparkasse  durchschnittsgehalt_2014  gesamtbezuege_2014  \\\n",
       "247  Sparkasse Leverkusen             428766.666667           1286300.0   \n",
       "\n",
       "     anzahl_vorstaende_2014  mitarbeiter_2014  \n",
       "247                     3.0             619.0  "
      ]
     },
     "execution_count": 22,
     "metadata": {},
     "output_type": "execute_result"
    }
   ],
   "source": [
    "df[df.sparkasse == 'Sparkasse Leverkusen'][columns]"
   ]
  },
  {
   "cell_type": "markdown",
   "metadata": {},
   "source": [
    "**\"Bei der Sparkasse Neuss waren doppelt so viele Mitarbeiter beschäftigt. Dennoch wurden auf der anderen Seite des Rheins an jeden der vier Vorstände rund 50.000 Euro weniger verteilt.\"**"
   ]
  },
  {
   "cell_type": "code",
   "execution_count": 23,
   "metadata": {
    "collapsed": false
   },
   "outputs": [
    {
     "data": {
      "text/html": [
       "<div>\n",
       "<table border=\"1\" class=\"dataframe\">\n",
       "  <thead>\n",
       "    <tr style=\"text-align: right;\">\n",
       "      <th></th>\n",
       "      <th>sparkasse</th>\n",
       "      <th>durchschnittsgehalt_2014</th>\n",
       "      <th>gesamtbezuege_2014</th>\n",
       "      <th>anzahl_vorstaende_2014</th>\n",
       "      <th>mitarbeiter_2014</th>\n",
       "    </tr>\n",
       "  </thead>\n",
       "  <tbody>\n",
       "    <tr>\n",
       "      <th>256</th>\n",
       "      <td>Sparkasse Neuss</td>\n",
       "      <td>378950.0</td>\n",
       "      <td>1515800.0</td>\n",
       "      <td>4.0</td>\n",
       "      <td>1301.0</td>\n",
       "    </tr>\n",
       "  </tbody>\n",
       "</table>\n",
       "</div>"
      ],
      "text/plain": [
       "           sparkasse  durchschnittsgehalt_2014  gesamtbezuege_2014  \\\n",
       "256  Sparkasse Neuss                  378950.0           1515800.0   \n",
       "\n",
       "     anzahl_vorstaende_2014  mitarbeiter_2014  \n",
       "256                     4.0            1301.0  "
      ]
     },
     "execution_count": 23,
     "metadata": {},
     "output_type": "execute_result"
    }
   ],
   "source": [
    "df[df.sparkasse == 'Sparkasse Neuss'][columns]"
   ]
  },
  {
   "cell_type": "markdown",
   "metadata": {},
   "source": [
    "Mitarbeiter-Verhältnis, Gehalts-Differenz"
   ]
  },
  {
   "cell_type": "code",
   "execution_count": 24,
   "metadata": {
    "collapsed": false
   },
   "outputs": [
    {
     "data": {
      "text/plain": [
       "(2.101777059773829, 49816.0)"
      ]
     },
     "execution_count": 24,
     "metadata": {},
     "output_type": "execute_result"
    }
   ],
   "source": [
    "1301.0 / 619.0, 428766 - 378950.0"
   ]
  },
  {
   "cell_type": "markdown",
   "metadata": {},
   "source": [
    "**\"Unsere Auswertung zeigt, dass die Gehälter von gleichgroßen Sparkassen in Bayern deutlich näher beieinanderliegen als in NRW. In Bayern verdienen die Vorstände im Schnitt auch weniger.\"**"
   ]
  },
  {
   "cell_type": "code",
   "execution_count": 25,
   "metadata": {
    "collapsed": false
   },
   "outputs": [
    {
     "data": {
      "text/html": [
       "<div>\n",
       "<table border=\"1\" class=\"dataframe\">\n",
       "  <thead>\n",
       "    <tr style=\"text-align: right;\">\n",
       "      <th></th>\n",
       "      <th>state</th>\n",
       "      <th>durchschnittsgehalt_2014_wt</th>\n",
       "    </tr>\n",
       "  </thead>\n",
       "  <tbody>\n",
       "    <tr>\n",
       "      <th>0</th>\n",
       "      <td>Bayern</td>\n",
       "      <td>353164.518278</td>\n",
       "    </tr>\n",
       "    <tr>\n",
       "      <th>1</th>\n",
       "      <td>Nordrhein-Westfalen</td>\n",
       "      <td>438641.106544</td>\n",
       "    </tr>\n",
       "  </tbody>\n",
       "</table>\n",
       "</div>"
      ],
      "text/plain": [
       "                 state  durchschnittsgehalt_2014_wt\n",
       "0               Bayern                353164.518278\n",
       "1  Nordrhein-Westfalen                438641.106544"
      ]
     },
     "execution_count": 25,
     "metadata": {},
     "output_type": "execute_result"
    }
   ],
   "source": [
    "df = df[(df.state == 'Nordrhein-Westfalen') | (df.state == 'Bayern')]\n",
    "\n",
    "# weighted avg by 'bemessung' via groupby:\n",
    "df['durchschnittsgehalt_wt_2014'] = df.durchschnittsgehalt_2014*df.bemessung_2014\n",
    "df_states = df.groupby('state', as_index=False).sum()\n",
    "df_states['durchschnittsgehalt_2014_wt'] = df_states.durchschnittsgehalt_wt_2014/df_states.bemessung_2014\n",
    "df_states[['state', 'durchschnittsgehalt_2014_wt']]"
   ]
  }
 ],
 "metadata": {
  "kernelspec": {
   "display_name": "Python 3",
   "language": "python",
   "name": "python3"
  },
  "language_info": {
   "codemirror_mode": {
    "name": "ipython",
    "version": 3
   },
   "file_extension": ".py",
   "mimetype": "text/x-python",
   "name": "python",
   "nbconvert_exporter": "python",
   "pygments_lexer": "ipython3",
   "version": "3.5.1+"
  }
 },
 "nbformat": 4,
 "nbformat_minor": 0
}
